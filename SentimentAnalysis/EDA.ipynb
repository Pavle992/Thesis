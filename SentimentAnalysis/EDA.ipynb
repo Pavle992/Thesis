{
 "cells": [
  {
   "cell_type": "markdown",
   "metadata": {},
   "source": [
    "#  Exploratory data analysis part - preprocessing"
   ]
  },
  {
   "cell_type": "code",
   "execution_count": 1,
   "metadata": {
    "collapsed": true
   },
   "outputs": [],
   "source": [
    "import pandas as pd \n",
    "import numpy as np "
   ]
  },
  {
   "cell_type": "code",
   "execution_count": 2,
   "metadata": {
    "collapsed": true
   },
   "outputs": [],
   "source": [
    "from sqlalchemy import create_engine, MetaData, Table\n",
    "from sqlalchemy import select"
   ]
  },
  {
   "cell_type": "code",
   "execution_count": 3,
   "metadata": {
    "collapsed": true
   },
   "outputs": [],
   "source": [
    "engine = create_engine('mysql+pymysql://root:@localhost:3306/sentiment_db?charset=utf8mb4&use_unicode=True')\n",
    "\n",
    "connection = engine.connect()\n",
    "\n",
    "metadata = MetaData()"
   ]
  },
  {
   "cell_type": "code",
   "execution_count": 4,
   "metadata": {},
   "outputs": [
    {
     "data": {
      "text/plain": [
       "['im_brand',\n",
       " 'im_canalesocial',\n",
       " 'im_commento',\n",
       " 'im_mention',\n",
       " 'im_post',\n",
       " 'im_social']"
      ]
     },
     "execution_count": 4,
     "metadata": {},
     "output_type": "execute_result"
    }
   ],
   "source": [
    "engine.table_names()"
   ]
  },
  {
   "cell_type": "markdown",
   "metadata": {},
   "source": [
    "### Comments"
   ]
  },
  {
   "cell_type": "code",
   "execution_count": 6,
   "metadata": {},
   "outputs": [],
   "source": [
    "comments = Table('im_commento', metadata, autoload=True, autoload_with=engine)\n",
    "\n",
    "stmt = select([comments])\n",
    "\n",
    "results = connection.execute(stmt).fetchall()"
   ]
  },
  {
   "cell_type": "code",
   "execution_count": 7,
   "metadata": {},
   "outputs": [
    {
     "name": "stdout",
     "output_type": "stream",
     "text": [
      "['id', 'idpost', 'content', 'from_id', 'created_on', 'originalIdCommento']\n"
     ]
    }
   ],
   "source": [
    "print(comments.columns.keys())"
   ]
  },
  {
   "cell_type": "code",
   "execution_count": 8,
   "metadata": {
    "collapsed": true
   },
   "outputs": [],
   "source": [
    "df_comments = pd.DataFrame(results, columns=comments.columns.keys())"
   ]
  },
  {
   "cell_type": "code",
   "execution_count": 9,
   "metadata": {},
   "outputs": [
    {
     "data": {
      "text/html": [
       "<div>\n",
       "<style>\n",
       "    .dataframe thead tr:only-child th {\n",
       "        text-align: right;\n",
       "    }\n",
       "\n",
       "    .dataframe thead th {\n",
       "        text-align: left;\n",
       "    }\n",
       "\n",
       "    .dataframe tbody tr th {\n",
       "        vertical-align: top;\n",
       "    }\n",
       "</style>\n",
       "<table border=\"1\" class=\"dataframe\">\n",
       "  <thead>\n",
       "    <tr style=\"text-align: right;\">\n",
       "      <th></th>\n",
       "      <th>id</th>\n",
       "      <th>idpost</th>\n",
       "      <th>content</th>\n",
       "      <th>from_id</th>\n",
       "      <th>created_on</th>\n",
       "      <th>originalIdCommento</th>\n",
       "    </tr>\n",
       "  </thead>\n",
       "  <tbody>\n",
       "    <tr>\n",
       "      <th>0</th>\n",
       "      <td>1</td>\n",
       "      <td>347223</td>\n",
       "      <td>Nice</td>\n",
       "      <td>970575303012401</td>\n",
       "      <td>1458387156</td>\n",
       "      <td>1099137360117889_1099842606714031</td>\n",
       "    </tr>\n",
       "    <tr>\n",
       "      <th>1</th>\n",
       "      <td>2</td>\n",
       "      <td>347182</td>\n",
       "      <td>Caro Ibot !!!!!</td>\n",
       "      <td>1146897688677176</td>\n",
       "      <td>1459327104</td>\n",
       "      <td>1097601910271434_1111842668847358</td>\n",
       "    </tr>\n",
       "    <tr>\n",
       "      <th>2</th>\n",
       "      <td>3</td>\n",
       "      <td>347159</td>\n",
       "      <td>Ma in provincia di Ragusa,dove possiamo acquis...</td>\n",
       "      <td>1558161314514299</td>\n",
       "      <td>1458059761</td>\n",
       "      <td>1096784297019862_1096834300348195</td>\n",
       "    </tr>\n",
       "    <tr>\n",
       "      <th>3</th>\n",
       "      <td>4</td>\n",
       "      <td>347159</td>\n",
       "      <td>Beautiful</td>\n",
       "      <td>10153412920857547</td>\n",
       "      <td>1458066633</td>\n",
       "      <td>1096784297019862_1096897087008583</td>\n",
       "    </tr>\n",
       "    <tr>\n",
       "      <th>4</th>\n",
       "      <td>5</td>\n",
       "      <td>347159</td>\n",
       "      <td>Nice</td>\n",
       "      <td>970575303012401</td>\n",
       "      <td>1458078677</td>\n",
       "      <td>1096784297019862_1097020766996215</td>\n",
       "    </tr>\n",
       "    <tr>\n",
       "      <th>5</th>\n",
       "      <td>6</td>\n",
       "      <td>347058</td>\n",
       "      <td>Bellissime!</td>\n",
       "      <td>10209519910903087</td>\n",
       "      <td>1457626176</td>\n",
       "      <td>1093277287370563_1093288137369478</td>\n",
       "    </tr>\n",
       "    <tr>\n",
       "      <th>6</th>\n",
       "      <td>7</td>\n",
       "      <td>347058</td>\n",
       "      <td>Bellissime!</td>\n",
       "      <td>521631137961969</td>\n",
       "      <td>1457699973</td>\n",
       "      <td>1093277287370563_1093837643981194</td>\n",
       "    </tr>\n",
       "    <tr>\n",
       "      <th>7</th>\n",
       "      <td>8</td>\n",
       "      <td>346036</td>\n",
       "      <td>❤️🙏</td>\n",
       "      <td>353020448134882</td>\n",
       "      <td>1457026133</td>\n",
       "      <td>1088586641172961_1088596971171928</td>\n",
       "    </tr>\n",
       "    <tr>\n",
       "      <th>8</th>\n",
       "      <td>9</td>\n",
       "      <td>345942</td>\n",
       "      <td></td>\n",
       "      <td>521631137961969</td>\n",
       "      <td>1456735842</td>\n",
       "      <td>1086263921405233_1086670614697897</td>\n",
       "    </tr>\n",
       "    <tr>\n",
       "      <th>9</th>\n",
       "      <td>10</td>\n",
       "      <td>345934</td>\n",
       "      <td>Lovely, lovely, lovely!</td>\n",
       "      <td>10153412920857547</td>\n",
       "      <td>1456343053</td>\n",
       "      <td>1083700741661551_1083806401650985</td>\n",
       "    </tr>\n",
       "    <tr>\n",
       "      <th>10</th>\n",
       "      <td>11</td>\n",
       "      <td>345911</td>\n",
       "      <td>Luv!</td>\n",
       "      <td>10153412920857547</td>\n",
       "      <td>1456164849</td>\n",
       "      <td>1082473011784324_1082533815111577</td>\n",
       "    </tr>\n",
       "    <tr>\n",
       "      <th>11</th>\n",
       "      <td>12</td>\n",
       "      <td>345911</td>\n",
       "      <td>Top dmaisssss</td>\n",
       "      <td>1994354470788799</td>\n",
       "      <td>1456446344</td>\n",
       "      <td>1082473011784324_1084634778234814</td>\n",
       "    </tr>\n",
       "    <tr>\n",
       "      <th>12</th>\n",
       "      <td>13</td>\n",
       "      <td>342461</td>\n",
       "      <td>nice</td>\n",
       "      <td>191242821257927</td>\n",
       "      <td>1455379552</td>\n",
       "      <td>1075620565802902_1077264188971873</td>\n",
       "    </tr>\n",
       "    <tr>\n",
       "      <th>13</th>\n",
       "      <td>14</td>\n",
       "      <td>342408</td>\n",
       "      <td>http://www.cultmarche.it/i-concorrenti-di-sanr...</td>\n",
       "      <td>167812506753120</td>\n",
       "      <td>1455051529</td>\n",
       "      <td>1075056302525995_1075190439179248</td>\n",
       "    </tr>\n",
       "    <tr>\n",
       "      <th>14</th>\n",
       "      <td>15</td>\n",
       "      <td>342409</td>\n",
       "      <td>http://www.cultmarche.it/i-concorrenti-di-sanr...</td>\n",
       "      <td>167812506753120</td>\n",
       "      <td>1455051532</td>\n",
       "      <td>1075055002526125_1075190462512579</td>\n",
       "    </tr>\n",
       "    <tr>\n",
       "      <th>15</th>\n",
       "      <td>16</td>\n",
       "      <td>342410</td>\n",
       "      <td>http://www.cultmarche.it/i-concorrenti-di-sanr...</td>\n",
       "      <td>167812506753120</td>\n",
       "      <td>1455051540</td>\n",
       "      <td>1075057985859160_1075190495845909</td>\n",
       "    </tr>\n",
       "    <tr>\n",
       "      <th>16</th>\n",
       "      <td>17</td>\n",
       "      <td>337111</td>\n",
       "      <td>K hay de raro?</td>\n",
       "      <td>1278950738798578</td>\n",
       "      <td>1454363837</td>\n",
       "      <td>1068873636477595_1070778599620432</td>\n",
       "    </tr>\n",
       "    <tr>\n",
       "      <th>17</th>\n",
       "      <td>18</td>\n",
       "      <td>337111</td>\n",
       "      <td>Como te quiero Alejandro  zan</td>\n",
       "      <td>1070837196312568</td>\n",
       "      <td>1454425126</td>\n",
       "      <td>1068873636477595_1071134219584870</td>\n",
       "    </tr>\n",
       "    <tr>\n",
       "      <th>18</th>\n",
       "      <td>19</td>\n",
       "      <td>335758</td>\n",
       "      <td>Ohhhh look it's Gaia!! 💄👠</td>\n",
       "      <td>10153936314870820</td>\n",
       "      <td>1453926875</td>\n",
       "      <td>1067808343250791_1067915949906697</td>\n",
       "    </tr>\n",
       "    <tr>\n",
       "      <th>19</th>\n",
       "      <td>20</td>\n",
       "      <td>335758</td>\n",
       "      <td>We love your shoes!! Both of us 😍💄👠</td>\n",
       "      <td>10153256171437015</td>\n",
       "      <td>1454150726</td>\n",
       "      <td>1067808343250791_1069280089770283</td>\n",
       "    </tr>\n",
       "    <tr>\n",
       "      <th>20</th>\n",
       "      <td>21</td>\n",
       "      <td>335758</td>\n",
       "      <td>how cute she is :) adorable xx</td>\n",
       "      <td>10204076369708880</td>\n",
       "      <td>1453927740</td>\n",
       "      <td>1067808343250791_1067922046572754</td>\n",
       "    </tr>\n",
       "    <tr>\n",
       "      <th>21</th>\n",
       "      <td>22</td>\n",
       "      <td>335758</td>\n",
       "      <td>Future fashionista💄💄💄💄</td>\n",
       "      <td>10153799513736280</td>\n",
       "      <td>1453966767</td>\n",
       "      <td>1067808343250791_1068122823219343</td>\n",
       "    </tr>\n",
       "    <tr>\n",
       "      <th>22</th>\n",
       "      <td>23</td>\n",
       "      <td>335758</td>\n",
       "      <td>Fantastic! Stylish and cute ❤️💋</td>\n",
       "      <td>839499913471</td>\n",
       "      <td>1453927271</td>\n",
       "      <td>1067808343250791_1067919149906377</td>\n",
       "    </tr>\n",
       "    <tr>\n",
       "      <th>23</th>\n",
       "      <td>24</td>\n",
       "      <td>335758</td>\n",
       "      <td>Hahaha!! Yes it is 😘😘😘</td>\n",
       "      <td>432281083635619</td>\n",
       "      <td>1453926937</td>\n",
       "      <td>1067808343250791_1067916293239996</td>\n",
       "    </tr>\n",
       "    <tr>\n",
       "      <th>24</th>\n",
       "      <td>25</td>\n",
       "      <td>335760</td>\n",
       "      <td>Dear Shohsanam Alirizaeva check here http://ow...</td>\n",
       "      <td>168919466473021</td>\n",
       "      <td>1454509227</td>\n",
       "      <td>1065196810178611_1071657909532501</td>\n",
       "    </tr>\n",
       "    <tr>\n",
       "      <th>25</th>\n",
       "      <td>26</td>\n",
       "      <td>335760</td>\n",
       "      <td>How much is this?</td>\n",
       "      <td>10205420924902542</td>\n",
       "      <td>1454508501</td>\n",
       "      <td>1065196810178611_1071653042866321</td>\n",
       "    </tr>\n",
       "    <tr>\n",
       "      <th>26</th>\n",
       "      <td>27</td>\n",
       "      <td>262089</td>\n",
       "      <td>Chic</td>\n",
       "      <td>970575303012401</td>\n",
       "      <td>1453068070</td>\n",
       "      <td>1062585230439769_1062729740425318</td>\n",
       "    </tr>\n",
       "    <tr>\n",
       "      <th>27</th>\n",
       "      <td>28</td>\n",
       "      <td>262095</td>\n",
       "      <td>Antonio Fabi non so te ma io me sento maleeeee...</td>\n",
       "      <td>493666340817889</td>\n",
       "      <td>1452803559</td>\n",
       "      <td>1060907657274193_1061017097263249</td>\n",
       "    </tr>\n",
       "    <tr>\n",
       "      <th>28</th>\n",
       "      <td>29</td>\n",
       "      <td>262095</td>\n",
       "      <td>😍😍😍</td>\n",
       "      <td>10205321475346299</td>\n",
       "      <td>1452793384</td>\n",
       "      <td>1060907657274193_1060946797270279</td>\n",
       "    </tr>\n",
       "    <tr>\n",
       "      <th>29</th>\n",
       "      <td>30</td>\n",
       "      <td>262095</td>\n",
       "      <td>😍  ❤</td>\n",
       "      <td>1540462079598299</td>\n",
       "      <td>1452810666</td>\n",
       "      <td>1060907657274193_1061054890592803</td>\n",
       "    </tr>\n",
       "  </tbody>\n",
       "</table>\n",
       "</div>"
      ],
      "text/plain": [
       "    id  idpost                                            content  \\\n",
       "0    1  347223                                               Nice   \n",
       "1    2  347182                                    Caro Ibot !!!!!   \n",
       "2    3  347159  Ma in provincia di Ragusa,dove possiamo acquis...   \n",
       "3    4  347159                                          Beautiful   \n",
       "4    5  347159                                               Nice   \n",
       "5    6  347058                                        Bellissime!   \n",
       "6    7  347058                                        Bellissime!   \n",
       "7    8  346036                                                ❤️🙏   \n",
       "8    9  345942                                                      \n",
       "9   10  345934                            Lovely, lovely, lovely!   \n",
       "10  11  345911                                               Luv!   \n",
       "11  12  345911                                      Top dmaisssss   \n",
       "12  13  342461                                               nice   \n",
       "13  14  342408  http://www.cultmarche.it/i-concorrenti-di-sanr...   \n",
       "14  15  342409  http://www.cultmarche.it/i-concorrenti-di-sanr...   \n",
       "15  16  342410  http://www.cultmarche.it/i-concorrenti-di-sanr...   \n",
       "16  17  337111                                     K hay de raro?   \n",
       "17  18  337111                      Como te quiero Alejandro  zan   \n",
       "18  19  335758                          Ohhhh look it's Gaia!! 💄👠   \n",
       "19  20  335758                We love your shoes!! Both of us 😍💄👠   \n",
       "20  21  335758                     how cute she is :) adorable xx   \n",
       "21  22  335758                             Future fashionista💄💄💄💄   \n",
       "22  23  335758                    Fantastic! Stylish and cute ❤️💋   \n",
       "23  24  335758                             Hahaha!! Yes it is 😘😘😘   \n",
       "24  25  335760  Dear Shohsanam Alirizaeva check here http://ow...   \n",
       "25  26  335760                                  How much is this?   \n",
       "26  27  262089                                               Chic   \n",
       "27  28  262095  Antonio Fabi non so te ma io me sento maleeeee...   \n",
       "28  29  262095                                                😍😍😍   \n",
       "29  30  262095                                               😍  ❤   \n",
       "\n",
       "              from_id  created_on                 originalIdCommento  \n",
       "0     970575303012401  1458387156  1099137360117889_1099842606714031  \n",
       "1    1146897688677176  1459327104  1097601910271434_1111842668847358  \n",
       "2    1558161314514299  1458059761  1096784297019862_1096834300348195  \n",
       "3   10153412920857547  1458066633  1096784297019862_1096897087008583  \n",
       "4     970575303012401  1458078677  1096784297019862_1097020766996215  \n",
       "5   10209519910903087  1457626176  1093277287370563_1093288137369478  \n",
       "6     521631137961969  1457699973  1093277287370563_1093837643981194  \n",
       "7     353020448134882  1457026133  1088586641172961_1088596971171928  \n",
       "8     521631137961969  1456735842  1086263921405233_1086670614697897  \n",
       "9   10153412920857547  1456343053  1083700741661551_1083806401650985  \n",
       "10  10153412920857547  1456164849  1082473011784324_1082533815111577  \n",
       "11   1994354470788799  1456446344  1082473011784324_1084634778234814  \n",
       "12    191242821257927  1455379552  1075620565802902_1077264188971873  \n",
       "13    167812506753120  1455051529  1075056302525995_1075190439179248  \n",
       "14    167812506753120  1455051532  1075055002526125_1075190462512579  \n",
       "15    167812506753120  1455051540  1075057985859160_1075190495845909  \n",
       "16   1278950738798578  1454363837  1068873636477595_1070778599620432  \n",
       "17   1070837196312568  1454425126  1068873636477595_1071134219584870  \n",
       "18  10153936314870820  1453926875  1067808343250791_1067915949906697  \n",
       "19  10153256171437015  1454150726  1067808343250791_1069280089770283  \n",
       "20  10204076369708880  1453927740  1067808343250791_1067922046572754  \n",
       "21  10153799513736280  1453966767  1067808343250791_1068122823219343  \n",
       "22       839499913471  1453927271  1067808343250791_1067919149906377  \n",
       "23    432281083635619  1453926937  1067808343250791_1067916293239996  \n",
       "24    168919466473021  1454509227  1065196810178611_1071657909532501  \n",
       "25  10205420924902542  1454508501  1065196810178611_1071653042866321  \n",
       "26    970575303012401  1453068070  1062585230439769_1062729740425318  \n",
       "27    493666340817889  1452803559  1060907657274193_1061017097263249  \n",
       "28  10205321475346299  1452793384  1060907657274193_1060946797270279  \n",
       "29   1540462079598299  1452810666  1060907657274193_1061054890592803  "
      ]
     },
     "execution_count": 9,
     "metadata": {},
     "output_type": "execute_result"
    }
   ],
   "source": [
    "df_comments.head(30)"
   ]
  },
  {
   "cell_type": "code",
   "execution_count": 10,
   "metadata": {},
   "outputs": [
    {
     "name": "stdout",
     "output_type": "stream",
     "text": [
      "<class 'pandas.core.frame.DataFrame'>\n",
      "RangeIndex: 536208 entries, 0 to 536207\n",
      "Data columns (total 6 columns):\n",
      "id                    536208 non-null int64\n",
      "idpost                536208 non-null int64\n",
      "content               536208 non-null object\n",
      "from_id               536208 non-null object\n",
      "created_on            536208 non-null int64\n",
      "originalIdCommento    536208 non-null object\n",
      "dtypes: int64(3), object(3)\n",
      "memory usage: 24.5+ MB\n"
     ]
    }
   ],
   "source": [
    "df_comments.info()"
   ]
  },
  {
   "cell_type": "markdown",
   "metadata": {
    "collapsed": true
   },
   "source": [
    "### Posts"
   ]
  },
  {
   "cell_type": "code",
   "execution_count": 11,
   "metadata": {
    "collapsed": true
   },
   "outputs": [],
   "source": [
    "posts = Table('im_post', metadata, autoload=True, autoload_with=engine)\n",
    "\n",
    "stmt_posts = select([posts])\n",
    "\n",
    "result_posts = connection.execute(stmt_posts).fetchall()"
   ]
  },
  {
   "cell_type": "code",
   "execution_count": 12,
   "metadata": {},
   "outputs": [
    {
     "name": "stdout",
     "output_type": "stream",
     "text": [
      "['id', 'idcanalesocial', 'content', 'link', 'likes', 'var_likes', 'comments', 'var_comments', 'shares', 'var_shares', 'img', 'originalIdPost', 'timestamp', 'inserted_on', 'updated_on', 'postlink', 'sponsored', 'spam', 'spam_verified']\n"
     ]
    }
   ],
   "source": [
    "print(posts.columns.keys())"
   ]
  },
  {
   "cell_type": "code",
   "execution_count": 13,
   "metadata": {},
   "outputs": [
    {
     "data": {
      "text/html": [
       "<div>\n",
       "<style>\n",
       "    .dataframe thead tr:only-child th {\n",
       "        text-align: right;\n",
       "    }\n",
       "\n",
       "    .dataframe thead th {\n",
       "        text-align: left;\n",
       "    }\n",
       "\n",
       "    .dataframe tbody tr th {\n",
       "        vertical-align: top;\n",
       "    }\n",
       "</style>\n",
       "<table border=\"1\" class=\"dataframe\">\n",
       "  <thead>\n",
       "    <tr style=\"text-align: right;\">\n",
       "      <th></th>\n",
       "      <th>id</th>\n",
       "      <th>idcanalesocial</th>\n",
       "      <th>content</th>\n",
       "      <th>link</th>\n",
       "      <th>likes</th>\n",
       "      <th>var_likes</th>\n",
       "      <th>comments</th>\n",
       "      <th>var_comments</th>\n",
       "      <th>shares</th>\n",
       "      <th>var_shares</th>\n",
       "      <th>img</th>\n",
       "      <th>originalIdPost</th>\n",
       "      <th>timestamp</th>\n",
       "      <th>inserted_on</th>\n",
       "      <th>updated_on</th>\n",
       "      <th>postlink</th>\n",
       "      <th>sponsored</th>\n",
       "      <th>spam</th>\n",
       "      <th>spam_verified</th>\n",
       "    </tr>\n",
       "  </thead>\n",
       "  <tbody>\n",
       "    <tr>\n",
       "      <th>0</th>\n",
       "      <td>79726</td>\n",
       "      <td>1</td>\n",
       "      <td>In honor of the 30th anniversary of Super Mari...</td>\n",
       "      <td>https://www.facebook.com/luisaviaroma.lvr/phot...</td>\n",
       "      <td>2702</td>\n",
       "      <td>0</td>\n",
       "      <td>43</td>\n",
       "      <td>0</td>\n",
       "      <td>90</td>\n",
       "      <td>0</td>\n",
       "      <td>https://scontent.xx.fbcdn.net/hphotos-xat1/v/t...</td>\n",
       "      <td>110378796336_10153870549051337</td>\n",
       "      <td>1449477010</td>\n",
       "      <td>1449587445</td>\n",
       "      <td>1449587445</td>\n",
       "      <td>None</td>\n",
       "      <td>0</td>\n",
       "      <td>NaN</td>\n",
       "      <td>0.0</td>\n",
       "    </tr>\n",
       "    <tr>\n",
       "      <th>1</th>\n",
       "      <td>79727</td>\n",
       "      <td>1</td>\n",
       "      <td>Amy, a film directed by Asif Kapadia. \\n\\nWatc...</td>\n",
       "      <td>https://www.facebook.com/luisaviaroma.lvr/vide...</td>\n",
       "      <td>1110</td>\n",
       "      <td>0</td>\n",
       "      <td>10</td>\n",
       "      <td>0</td>\n",
       "      <td>133</td>\n",
       "      <td>0</td>\n",
       "      <td>https://scontent.xx.fbcdn.net/hvthumb-xtp1/v/t...</td>\n",
       "      <td>110378796336_10153864325466337</td>\n",
       "      <td>1449224541</td>\n",
       "      <td>1449587445</td>\n",
       "      <td>1449587445</td>\n",
       "      <td>None</td>\n",
       "      <td>0</td>\n",
       "      <td>NaN</td>\n",
       "      <td>0.0</td>\n",
       "    </tr>\n",
       "    <tr>\n",
       "      <th>2</th>\n",
       "      <td>79728</td>\n",
       "      <td>1</td>\n",
       "      <td>Welcome to Spring Summer 2016! Be the first to...</td>\n",
       "      <td>https://www.facebook.com/luisaviaroma.lvr/phot...</td>\n",
       "      <td>1475</td>\n",
       "      <td>0</td>\n",
       "      <td>19</td>\n",
       "      <td>0</td>\n",
       "      <td>28</td>\n",
       "      <td>0</td>\n",
       "      <td>https://scontent.xx.fbcdn.net/hphotos-xpf1/v/t...</td>\n",
       "      <td>110378796336_10153860068316337</td>\n",
       "      <td>1449045516</td>\n",
       "      <td>1449587445</td>\n",
       "      <td>1449587445</td>\n",
       "      <td>None</td>\n",
       "      <td>0</td>\n",
       "      <td>NaN</td>\n",
       "      <td>0.0</td>\n",
       "    </tr>\n",
       "    <tr>\n",
       "      <th>3</th>\n",
       "      <td>79729</td>\n",
       "      <td>1</td>\n",
       "      <td>A winning Fall Winter pairing! Shop the look: ...</td>\n",
       "      <td>https://www.facebook.com/luisaviaroma.lvr/phot...</td>\n",
       "      <td>69</td>\n",
       "      <td>0</td>\n",
       "      <td>1</td>\n",
       "      <td>0</td>\n",
       "      <td>8</td>\n",
       "      <td>0</td>\n",
       "      <td>https://scontent.xx.fbcdn.net/hphotos-xlf1/v/t...</td>\n",
       "      <td>110378796336_10153855993651337</td>\n",
       "      <td>1448874736</td>\n",
       "      <td>1449587445</td>\n",
       "      <td>1449587445</td>\n",
       "      <td>None</td>\n",
       "      <td>0</td>\n",
       "      <td>NaN</td>\n",
       "      <td>0.0</td>\n",
       "    </tr>\n",
       "    <tr>\n",
       "      <th>4</th>\n",
       "      <td>79730</td>\n",
       "      <td>1</td>\n",
       "      <td>Spend More Save More! \\nExclusive Black Friday...</td>\n",
       "      <td>https://www.facebook.com/luisaviaroma.lvr/phot...</td>\n",
       "      <td>14</td>\n",
       "      <td>0</td>\n",
       "      <td>1</td>\n",
       "      <td>0</td>\n",
       "      <td>3</td>\n",
       "      <td>0</td>\n",
       "      <td>https://scontent.xx.fbcdn.net/hphotos-xpa1/v/t...</td>\n",
       "      <td>110378796336_10153850421311337</td>\n",
       "      <td>1448626340</td>\n",
       "      <td>1449587445</td>\n",
       "      <td>1449587445</td>\n",
       "      <td>None</td>\n",
       "      <td>0</td>\n",
       "      <td>NaN</td>\n",
       "      <td>0.0</td>\n",
       "    </tr>\n",
       "  </tbody>\n",
       "</table>\n",
       "</div>"
      ],
      "text/plain": [
       "      id  idcanalesocial                                            content  \\\n",
       "0  79726               1  In honor of the 30th anniversary of Super Mari...   \n",
       "1  79727               1  Amy, a film directed by Asif Kapadia. \\n\\nWatc...   \n",
       "2  79728               1  Welcome to Spring Summer 2016! Be the first to...   \n",
       "3  79729               1  A winning Fall Winter pairing! Shop the look: ...   \n",
       "4  79730               1  Spend More Save More! \\nExclusive Black Friday...   \n",
       "\n",
       "                                                link  likes  var_likes  \\\n",
       "0  https://www.facebook.com/luisaviaroma.lvr/phot...   2702          0   \n",
       "1  https://www.facebook.com/luisaviaroma.lvr/vide...   1110          0   \n",
       "2  https://www.facebook.com/luisaviaroma.lvr/phot...   1475          0   \n",
       "3  https://www.facebook.com/luisaviaroma.lvr/phot...     69          0   \n",
       "4  https://www.facebook.com/luisaviaroma.lvr/phot...     14          0   \n",
       "\n",
       "   comments  var_comments  shares  var_shares  \\\n",
       "0        43             0      90           0   \n",
       "1        10             0     133           0   \n",
       "2        19             0      28           0   \n",
       "3         1             0       8           0   \n",
       "4         1             0       3           0   \n",
       "\n",
       "                                                 img  \\\n",
       "0  https://scontent.xx.fbcdn.net/hphotos-xat1/v/t...   \n",
       "1  https://scontent.xx.fbcdn.net/hvthumb-xtp1/v/t...   \n",
       "2  https://scontent.xx.fbcdn.net/hphotos-xpf1/v/t...   \n",
       "3  https://scontent.xx.fbcdn.net/hphotos-xlf1/v/t...   \n",
       "4  https://scontent.xx.fbcdn.net/hphotos-xpa1/v/t...   \n",
       "\n",
       "                   originalIdPost   timestamp  inserted_on  updated_on  \\\n",
       "0  110378796336_10153870549051337  1449477010   1449587445  1449587445   \n",
       "1  110378796336_10153864325466337  1449224541   1449587445  1449587445   \n",
       "2  110378796336_10153860068316337  1449045516   1449587445  1449587445   \n",
       "3  110378796336_10153855993651337  1448874736   1449587445  1449587445   \n",
       "4  110378796336_10153850421311337  1448626340   1449587445  1449587445   \n",
       "\n",
       "  postlink  sponsored  spam  spam_verified  \n",
       "0     None          0   NaN            0.0  \n",
       "1     None          0   NaN            0.0  \n",
       "2     None          0   NaN            0.0  \n",
       "3     None          0   NaN            0.0  \n",
       "4     None          0   NaN            0.0  "
      ]
     },
     "execution_count": 13,
     "metadata": {},
     "output_type": "execute_result"
    }
   ],
   "source": [
    "df_posts = pd.DataFrame(result_posts, columns=posts.columns.keys())\n",
    "df_posts.head()"
   ]
  },
  {
   "cell_type": "code",
   "execution_count": 14,
   "metadata": {},
   "outputs": [
    {
     "name": "stdout",
     "output_type": "stream",
     "text": [
      "<class 'pandas.core.frame.DataFrame'>\n",
      "RangeIndex: 662855 entries, 0 to 662854\n",
      "Data columns (total 18 columns):\n",
      "id                662855 non-null int64\n",
      "idcanalesocial    662855 non-null int64\n",
      "content           662855 non-null object\n",
      "link              662855 non-null object\n",
      "likes             662855 non-null int64\n",
      "var_likes         662855 non-null int64\n",
      "comments          662855 non-null int64\n",
      "var_comments      662855 non-null int64\n",
      "shares            662855 non-null int64\n",
      "var_shares        662855 non-null int64\n",
      "img               662855 non-null object\n",
      "originalIdPost    662855 non-null object\n",
      "timestamp         662855 non-null int64\n",
      "inserted_on       662855 non-null int64\n",
      "updated_on        662855 non-null int64\n",
      "sponsored         662855 non-null int64\n",
      "spam              54966 non-null float64\n",
      "spam_verified     487464 non-null float64\n",
      "dtypes: float64(2), int64(12), object(4)\n",
      "memory usage: 91.0+ MB\n"
     ]
    }
   ],
   "source": [
    "df_posts.drop('postlink', axis=1, inplace=True)\n",
    "df_posts.info()"
   ]
  },
  {
   "cell_type": "code",
   "execution_count": 15,
   "metadata": {},
   "outputs": [
    {
     "data": {
      "text/plain": [
       "0.0    487461\n",
       "1.0         3\n",
       "Name: spam_verified, dtype: int64"
      ]
     },
     "execution_count": 15,
     "metadata": {},
     "output_type": "execute_result"
    }
   ],
   "source": [
    "df_posts.spam_verified.value_counts()"
   ]
  },
  {
   "cell_type": "code",
   "execution_count": 16,
   "metadata": {},
   "outputs": [
    {
     "data": {
      "text/plain": [
       "175391"
      ]
     },
     "execution_count": 16,
     "metadata": {},
     "output_type": "execute_result"
    }
   ],
   "source": [
    "df_posts.spam_verified.isnull().sum() # Missing values"
   ]
  },
  {
   "cell_type": "markdown",
   "metadata": {},
   "source": [
    "### Brands"
   ]
  },
  {
   "cell_type": "code",
   "execution_count": 17,
   "metadata": {
    "collapsed": true
   },
   "outputs": [],
   "source": [
    "brands = Table('im_brand', metadata, autoload=True, autoload_with=engine)\n",
    "\n",
    "stmt_brands = select([brands])\n",
    "\n",
    "result_brands = connection.execute(stmt_brands).fetchall()"
   ]
  },
  {
   "cell_type": "code",
   "execution_count": 18,
   "metadata": {},
   "outputs": [
    {
     "name": "stdout",
     "output_type": "stream",
     "text": [
      "['id', 'nome', 'ignore', 'inserted_on', 'updated_on', 'genere', 'nome_normalized']\n"
     ]
    }
   ],
   "source": [
    "print(brands.columns.keys())"
   ]
  },
  {
   "cell_type": "code",
   "execution_count": 19,
   "metadata": {},
   "outputs": [
    {
     "data": {
      "text/html": [
       "<div>\n",
       "<style>\n",
       "    .dataframe thead tr:only-child th {\n",
       "        text-align: right;\n",
       "    }\n",
       "\n",
       "    .dataframe thead th {\n",
       "        text-align: left;\n",
       "    }\n",
       "\n",
       "    .dataframe tbody tr th {\n",
       "        vertical-align: top;\n",
       "    }\n",
       "</style>\n",
       "<table border=\"1\" class=\"dataframe\">\n",
       "  <thead>\n",
       "    <tr style=\"text-align: right;\">\n",
       "      <th></th>\n",
       "      <th>id</th>\n",
       "      <th>nome</th>\n",
       "      <th>ignore</th>\n",
       "      <th>inserted_on</th>\n",
       "      <th>updated_on</th>\n",
       "      <th>genere</th>\n",
       "      <th>nome_normalized</th>\n",
       "    </tr>\n",
       "  </thead>\n",
       "  <tbody>\n",
       "    <tr>\n",
       "      <th>0</th>\n",
       "      <td>1</td>\n",
       "      <td>Luisa Via Roma</td>\n",
       "      <td>0</td>\n",
       "      <td>1.450695e+09</td>\n",
       "      <td>1486979455</td>\n",
       "      <td>N</td>\n",
       "      <td>Luisa Via Roma</td>\n",
       "    </tr>\n",
       "    <tr>\n",
       "      <th>1</th>\n",
       "      <td>1684</td>\n",
       "      <td>Versace</td>\n",
       "      <td>1</td>\n",
       "      <td>1.450695e+09</td>\n",
       "      <td>1492931054</td>\n",
       "      <td>N</td>\n",
       "      <td>Versace</td>\n",
       "    </tr>\n",
       "    <tr>\n",
       "      <th>2</th>\n",
       "      <td>1685</td>\n",
       "      <td>Yves Saint Laurent</td>\n",
       "      <td>0</td>\n",
       "      <td>1.450695e+09</td>\n",
       "      <td>1495567406</td>\n",
       "      <td>N</td>\n",
       "      <td>Yves Saint Laurent</td>\n",
       "    </tr>\n",
       "    <tr>\n",
       "      <th>3</th>\n",
       "      <td>1686</td>\n",
       "      <td>Dolce &amp; Gabbana</td>\n",
       "      <td>0</td>\n",
       "      <td>1.450695e+09</td>\n",
       "      <td>1495415178</td>\n",
       "      <td>N</td>\n",
       "      <td>Dolce &amp; Gabbana</td>\n",
       "    </tr>\n",
       "    <tr>\n",
       "      <th>4</th>\n",
       "      <td>1687</td>\n",
       "      <td>Gianvito Rossi</td>\n",
       "      <td>1</td>\n",
       "      <td>1.450695e+09</td>\n",
       "      <td>1493071046</td>\n",
       "      <td>N</td>\n",
       "      <td>Gianvito Rossi</td>\n",
       "    </tr>\n",
       "  </tbody>\n",
       "</table>\n",
       "</div>"
      ],
      "text/plain": [
       "     id                nome  ignore   inserted_on  updated_on genere  \\\n",
       "0     1      Luisa Via Roma       0  1.450695e+09  1486979455      N   \n",
       "1  1684             Versace       1  1.450695e+09  1492931054      N   \n",
       "2  1685  Yves Saint Laurent       0  1.450695e+09  1495567406      N   \n",
       "3  1686     Dolce & Gabbana       0  1.450695e+09  1495415178      N   \n",
       "4  1687      Gianvito Rossi       1  1.450695e+09  1493071046      N   \n",
       "\n",
       "      nome_normalized  \n",
       "0      Luisa Via Roma  \n",
       "1             Versace  \n",
       "2  Yves Saint Laurent  \n",
       "3     Dolce & Gabbana  \n",
       "4      Gianvito Rossi  "
      ]
     },
     "execution_count": 19,
     "metadata": {},
     "output_type": "execute_result"
    }
   ],
   "source": [
    "df_brands = pd.DataFrame(result_brands, columns=brands.columns.keys())\n",
    "df_brands.head()"
   ]
  },
  {
   "cell_type": "code",
   "execution_count": 20,
   "metadata": {},
   "outputs": [
    {
     "name": "stdout",
     "output_type": "stream",
     "text": [
      "<class 'pandas.core.frame.DataFrame'>\n",
      "RangeIndex: 98813 entries, 0 to 98812\n",
      "Data columns (total 7 columns):\n",
      "id                 98813 non-null int64\n",
      "nome               98813 non-null object\n",
      "ignore             98813 non-null int64\n",
      "inserted_on        98809 non-null float64\n",
      "updated_on         98813 non-null int64\n",
      "genere             98813 non-null object\n",
      "nome_normalized    98813 non-null object\n",
      "dtypes: float64(1), int64(3), object(3)\n",
      "memory usage: 5.3+ MB\n"
     ]
    }
   ],
   "source": [
    "df_brands.info()"
   ]
  },
  {
   "cell_type": "markdown",
   "metadata": {},
   "source": [
    "### Social Channels"
   ]
  },
  {
   "cell_type": "code",
   "execution_count": 21,
   "metadata": {
    "collapsed": true
   },
   "outputs": [],
   "source": [
    "soc_cha = Table('im_canalesocial', metadata, autoload=True, autoload_with=engine)\n",
    "\n",
    "stmt_soc_cha = select([soc_cha])\n",
    "\n",
    "result_soc_cha = connection.execute(stmt_soc_cha).fetchall()"
   ]
  },
  {
   "cell_type": "code",
   "execution_count": 22,
   "metadata": {},
   "outputs": [
    {
     "name": "stdout",
     "output_type": "stream",
     "text": [
      "['id', 'idbrand', 'original_idbrand', 'idsocial', 'official', 'discovered_by', 'username', 'lastupdated', 'usernameid', 'post_value', 'age_restricted', 'spam', 'spam_verified']\n"
     ]
    }
   ],
   "source": [
    "print(soc_cha.columns.keys())"
   ]
  },
  {
   "cell_type": "code",
   "execution_count": 23,
   "metadata": {},
   "outputs": [
    {
     "data": {
      "text/html": [
       "<div>\n",
       "<style>\n",
       "    .dataframe thead tr:only-child th {\n",
       "        text-align: right;\n",
       "    }\n",
       "\n",
       "    .dataframe thead th {\n",
       "        text-align: left;\n",
       "    }\n",
       "\n",
       "    .dataframe tbody tr th {\n",
       "        vertical-align: top;\n",
       "    }\n",
       "</style>\n",
       "<table border=\"1\" class=\"dataframe\">\n",
       "  <thead>\n",
       "    <tr style=\"text-align: right;\">\n",
       "      <th></th>\n",
       "      <th>id</th>\n",
       "      <th>idbrand</th>\n",
       "      <th>original_idbrand</th>\n",
       "      <th>idsocial</th>\n",
       "      <th>official</th>\n",
       "      <th>discovered_by</th>\n",
       "      <th>username</th>\n",
       "      <th>lastupdated</th>\n",
       "      <th>usernameid</th>\n",
       "      <th>post_value</th>\n",
       "      <th>age_restricted</th>\n",
       "      <th>spam</th>\n",
       "      <th>spam_verified</th>\n",
       "    </tr>\n",
       "  </thead>\n",
       "  <tbody>\n",
       "    <tr>\n",
       "      <th>0</th>\n",
       "      <td>1</td>\n",
       "      <td>1</td>\n",
       "      <td>1</td>\n",
       "      <td>1</td>\n",
       "      <td>1</td>\n",
       "      <td>1</td>\n",
       "      <td>luisaviaroma</td>\n",
       "      <td>1.495704e+09</td>\n",
       "      <td>110378796336</td>\n",
       "      <td>NaN</td>\n",
       "      <td>0</td>\n",
       "      <td>NaN</td>\n",
       "      <td>0</td>\n",
       "    </tr>\n",
       "    <tr>\n",
       "      <th>1</th>\n",
       "      <td>318</td>\n",
       "      <td>1</td>\n",
       "      <td>1</td>\n",
       "      <td>2</td>\n",
       "      <td>1</td>\n",
       "      <td>1</td>\n",
       "      <td>luisaviaroma</td>\n",
       "      <td>1.495671e+09</td>\n",
       "      <td>15325657</td>\n",
       "      <td>NaN</td>\n",
       "      <td>0</td>\n",
       "      <td>0.334104</td>\n",
       "      <td>0</td>\n",
       "    </tr>\n",
       "    <tr>\n",
       "      <th>2</th>\n",
       "      <td>319</td>\n",
       "      <td>1</td>\n",
       "      <td>1</td>\n",
       "      <td>3</td>\n",
       "      <td>1</td>\n",
       "      <td>1</td>\n",
       "      <td>LuisaViaRoma</td>\n",
       "      <td>1.495704e+09</td>\n",
       "      <td>19399719</td>\n",
       "      <td>NaN</td>\n",
       "      <td>0</td>\n",
       "      <td>0.333571</td>\n",
       "      <td>0</td>\n",
       "    </tr>\n",
       "    <tr>\n",
       "      <th>3</th>\n",
       "      <td>320</td>\n",
       "      <td>1</td>\n",
       "      <td>1</td>\n",
       "      <td>4</td>\n",
       "      <td>1</td>\n",
       "      <td>1</td>\n",
       "      <td>+LuisaviaromaLVR</td>\n",
       "      <td>1.495704e+09</td>\n",
       "      <td>111879623910380563940</td>\n",
       "      <td>NaN</td>\n",
       "      <td>0</td>\n",
       "      <td>NaN</td>\n",
       "      <td>0</td>\n",
       "    </tr>\n",
       "    <tr>\n",
       "      <th>4</th>\n",
       "      <td>1687</td>\n",
       "      <td>19625</td>\n",
       "      <td>1684</td>\n",
       "      <td>1</td>\n",
       "      <td>1</td>\n",
       "      <td>1</td>\n",
       "      <td></td>\n",
       "      <td>1.495220e+09</td>\n",
       "      <td>260751060175</td>\n",
       "      <td>NaN</td>\n",
       "      <td>0</td>\n",
       "      <td>NaN</td>\n",
       "      <td>0</td>\n",
       "    </tr>\n",
       "  </tbody>\n",
       "</table>\n",
       "</div>"
      ],
      "text/plain": [
       "     id  idbrand  original_idbrand  idsocial  official  discovered_by  \\\n",
       "0     1        1                 1         1         1              1   \n",
       "1   318        1                 1         2         1              1   \n",
       "2   319        1                 1         3         1              1   \n",
       "3   320        1                 1         4         1              1   \n",
       "4  1687    19625              1684         1         1              1   \n",
       "\n",
       "           username   lastupdated             usernameid  post_value  \\\n",
       "0      luisaviaroma  1.495704e+09           110378796336         NaN   \n",
       "1      luisaviaroma  1.495671e+09               15325657         NaN   \n",
       "2      LuisaViaRoma  1.495704e+09               19399719         NaN   \n",
       "3  +LuisaviaromaLVR  1.495704e+09  111879623910380563940         NaN   \n",
       "4                    1.495220e+09           260751060175         NaN   \n",
       "\n",
       "   age_restricted      spam  spam_verified  \n",
       "0               0       NaN              0  \n",
       "1               0  0.334104              0  \n",
       "2               0  0.333571              0  \n",
       "3               0       NaN              0  \n",
       "4               0       NaN              0  "
      ]
     },
     "execution_count": 23,
     "metadata": {},
     "output_type": "execute_result"
    }
   ],
   "source": [
    "df_soc_cha = pd.DataFrame(result_soc_cha, columns=soc_cha.columns.keys())\n",
    "df_soc_cha.head()"
   ]
  },
  {
   "cell_type": "code",
   "execution_count": 24,
   "metadata": {},
   "outputs": [
    {
     "name": "stdout",
     "output_type": "stream",
     "text": [
      "<class 'pandas.core.frame.DataFrame'>\n",
      "RangeIndex: 95074 entries, 0 to 95073\n",
      "Data columns (total 13 columns):\n",
      "id                  95074 non-null int64\n",
      "idbrand             95074 non-null int64\n",
      "original_idbrand    95074 non-null int64\n",
      "idsocial            95074 non-null int64\n",
      "official            95074 non-null int64\n",
      "discovered_by       95074 non-null int64\n",
      "username            95073 non-null object\n",
      "lastupdated         92959 non-null float64\n",
      "usernameid          95074 non-null object\n",
      "post_value          4 non-null float64\n",
      "age_restricted      95074 non-null int64\n",
      "spam                35042 non-null float64\n",
      "spam_verified       95074 non-null int64\n",
      "dtypes: float64(3), int64(8), object(2)\n",
      "memory usage: 9.4+ MB\n"
     ]
    }
   ],
   "source": [
    "df_soc_cha.info()"
   ]
  },
  {
   "cell_type": "markdown",
   "metadata": {},
   "source": [
    "### Mentions"
   ]
  },
  {
   "cell_type": "code",
   "execution_count": 25,
   "metadata": {
    "collapsed": true
   },
   "outputs": [],
   "source": [
    "mentions = Table('im_mention', metadata, autoload=True, autoload_with=engine)\n",
    "\n",
    "stmt_mentions = select([mentions])\n",
    "\n",
    "result_mentions = connection.execute(stmt_mentions).fetchall()"
   ]
  },
  {
   "cell_type": "code",
   "execution_count": 26,
   "metadata": {},
   "outputs": [
    {
     "name": "stdout",
     "output_type": "stream",
     "text": [
      "['id', 'idpost', 'idbrand', 'idcanalesocial', 'idsocial']\n"
     ]
    }
   ],
   "source": [
    "print(mentions.columns.keys())"
   ]
  },
  {
   "cell_type": "code",
   "execution_count": 27,
   "metadata": {},
   "outputs": [
    {
     "data": {
      "text/html": [
       "<div>\n",
       "<style>\n",
       "    .dataframe thead tr:only-child th {\n",
       "        text-align: right;\n",
       "    }\n",
       "\n",
       "    .dataframe thead th {\n",
       "        text-align: left;\n",
       "    }\n",
       "\n",
       "    .dataframe tbody tr th {\n",
       "        vertical-align: top;\n",
       "    }\n",
       "</style>\n",
       "<table border=\"1\" class=\"dataframe\">\n",
       "  <thead>\n",
       "    <tr style=\"text-align: right;\">\n",
       "      <th></th>\n",
       "      <th>id</th>\n",
       "      <th>idpost</th>\n",
       "      <th>idbrand</th>\n",
       "      <th>idcanalesocial</th>\n",
       "      <th>idsocial</th>\n",
       "    </tr>\n",
       "  </thead>\n",
       "  <tbody>\n",
       "    <tr>\n",
       "      <th>0</th>\n",
       "      <td>1</td>\n",
       "      <td>79726</td>\n",
       "      <td>1931</td>\n",
       "      <td>1934</td>\n",
       "      <td>1</td>\n",
       "    </tr>\n",
       "    <tr>\n",
       "      <th>1</th>\n",
       "      <td>2</td>\n",
       "      <td>79726</td>\n",
       "      <td>1932</td>\n",
       "      <td>1935</td>\n",
       "      <td>1</td>\n",
       "    </tr>\n",
       "    <tr>\n",
       "      <th>2</th>\n",
       "      <td>3</td>\n",
       "      <td>79729</td>\n",
       "      <td>1933</td>\n",
       "      <td>1936</td>\n",
       "      <td>1</td>\n",
       "    </tr>\n",
       "    <tr>\n",
       "      <th>3</th>\n",
       "      <td>4</td>\n",
       "      <td>79732</td>\n",
       "      <td>1684</td>\n",
       "      <td>1687</td>\n",
       "      <td>1</td>\n",
       "    </tr>\n",
       "    <tr>\n",
       "      <th>4</th>\n",
       "      <td>5</td>\n",
       "      <td>79732</td>\n",
       "      <td>1685</td>\n",
       "      <td>1688</td>\n",
       "      <td>1</td>\n",
       "    </tr>\n",
       "  </tbody>\n",
       "</table>\n",
       "</div>"
      ],
      "text/plain": [
       "   id  idpost  idbrand  idcanalesocial  idsocial\n",
       "0   1   79726     1931            1934         1\n",
       "1   2   79726     1932            1935         1\n",
       "2   3   79729     1933            1936         1\n",
       "3   4   79732     1684            1687         1\n",
       "4   5   79732     1685            1688         1"
      ]
     },
     "execution_count": 27,
     "metadata": {},
     "output_type": "execute_result"
    }
   ],
   "source": [
    "df_mentions = pd.DataFrame(result_mentions, columns=mentions.columns.keys())\n",
    "df_mentions.head()"
   ]
  },
  {
   "cell_type": "code",
   "execution_count": 28,
   "metadata": {},
   "outputs": [
    {
     "name": "stdout",
     "output_type": "stream",
     "text": [
      "<class 'pandas.core.frame.DataFrame'>\n",
      "RangeIndex: 343574 entries, 0 to 343573\n",
      "Data columns (total 5 columns):\n",
      "id                343574 non-null int64\n",
      "idpost            343574 non-null int64\n",
      "idbrand           343574 non-null int64\n",
      "idcanalesocial    343574 non-null int64\n",
      "idsocial          343574 non-null int64\n",
      "dtypes: int64(5)\n",
      "memory usage: 13.1 MB\n"
     ]
    }
   ],
   "source": [
    "df_mentions.info()"
   ]
  },
  {
   "cell_type": "markdown",
   "metadata": {},
   "source": [
    "### Social"
   ]
  },
  {
   "cell_type": "code",
   "execution_count": 29,
   "metadata": {
    "collapsed": true
   },
   "outputs": [],
   "source": [
    "socials = Table('im_social', metadata, autoload=True, autoload_with=engine)\n",
    "\n",
    "stmt_socials = select([socials])\n",
    "\n",
    "result_socials = connection.execute(stmt_socials).fetchall()"
   ]
  },
  {
   "cell_type": "code",
   "execution_count": 30,
   "metadata": {},
   "outputs": [
    {
     "name": "stdout",
     "output_type": "stream",
     "text": [
      "['id', 'nome', 'slug', 'likesterm', 'basepath', 'data_available', 'has_login']\n"
     ]
    }
   ],
   "source": [
    "print(socials.columns.keys())"
   ]
  },
  {
   "cell_type": "code",
   "execution_count": 31,
   "metadata": {},
   "outputs": [
    {
     "data": {
      "text/html": [
       "<div>\n",
       "<style>\n",
       "    .dataframe thead tr:only-child th {\n",
       "        text-align: right;\n",
       "    }\n",
       "\n",
       "    .dataframe thead th {\n",
       "        text-align: left;\n",
       "    }\n",
       "\n",
       "    .dataframe tbody tr th {\n",
       "        vertical-align: top;\n",
       "    }\n",
       "</style>\n",
       "<table border=\"1\" class=\"dataframe\">\n",
       "  <thead>\n",
       "    <tr style=\"text-align: right;\">\n",
       "      <th></th>\n",
       "      <th>id</th>\n",
       "      <th>nome</th>\n",
       "      <th>slug</th>\n",
       "      <th>likesterm</th>\n",
       "      <th>basepath</th>\n",
       "      <th>data_available</th>\n",
       "      <th>has_login</th>\n",
       "    </tr>\n",
       "  </thead>\n",
       "  <tbody>\n",
       "    <tr>\n",
       "      <th>0</th>\n",
       "      <td>1</td>\n",
       "      <td>Facebook</td>\n",
       "      <td>facebook</td>\n",
       "      <td>likes</td>\n",
       "      <td>https://www.facebook.com/</td>\n",
       "      <td>1</td>\n",
       "      <td>1</td>\n",
       "    </tr>\n",
       "    <tr>\n",
       "      <th>1</th>\n",
       "      <td>2</td>\n",
       "      <td>Instagram</td>\n",
       "      <td>instagram</td>\n",
       "      <td>followers</td>\n",
       "      <td>https://instagram.com/</td>\n",
       "      <td>1</td>\n",
       "      <td>1</td>\n",
       "    </tr>\n",
       "    <tr>\n",
       "      <th>2</th>\n",
       "      <td>3</td>\n",
       "      <td>Twitter</td>\n",
       "      <td>twitter</td>\n",
       "      <td>followers</td>\n",
       "      <td>https://twitter.com/</td>\n",
       "      <td>1</td>\n",
       "      <td>0</td>\n",
       "    </tr>\n",
       "    <tr>\n",
       "      <th>3</th>\n",
       "      <td>4</td>\n",
       "      <td>Google+</td>\n",
       "      <td>google-plus</td>\n",
       "      <td>followers</td>\n",
       "      <td>https://plus.google.com/u/0/</td>\n",
       "      <td>1</td>\n",
       "      <td>0</td>\n",
       "    </tr>\n",
       "  </tbody>\n",
       "</table>\n",
       "</div>"
      ],
      "text/plain": [
       "   id       nome         slug  likesterm                      basepath  \\\n",
       "0   1   Facebook     facebook      likes     https://www.facebook.com/   \n",
       "1   2  Instagram    instagram  followers        https://instagram.com/   \n",
       "2   3    Twitter      twitter  followers          https://twitter.com/   \n",
       "3   4    Google+  google-plus  followers  https://plus.google.com/u/0/   \n",
       "\n",
       "   data_available  has_login  \n",
       "0               1          1  \n",
       "1               1          1  \n",
       "2               1          0  \n",
       "3               1          0  "
      ]
     },
     "execution_count": 31,
     "metadata": {},
     "output_type": "execute_result"
    }
   ],
   "source": [
    "df_socials = pd.DataFrame(result_socials, columns=socials.columns.keys())\n",
    "df_socials.head()"
   ]
  },
  {
   "cell_type": "code",
   "execution_count": 32,
   "metadata": {},
   "outputs": [
    {
     "name": "stdout",
     "output_type": "stream",
     "text": [
      "<class 'pandas.core.frame.DataFrame'>\n",
      "RangeIndex: 4 entries, 0 to 3\n",
      "Data columns (total 7 columns):\n",
      "id                4 non-null int64\n",
      "nome              4 non-null object\n",
      "slug              4 non-null object\n",
      "likesterm         4 non-null object\n",
      "basepath          4 non-null object\n",
      "data_available    4 non-null int64\n",
      "has_login         4 non-null int64\n",
      "dtypes: int64(3), object(4)\n",
      "memory usage: 304.0+ bytes\n"
     ]
    }
   ],
   "source": [
    "df_socials.info()"
   ]
  }
 ],
 "metadata": {
  "kernelspec": {
   "display_name": "Python 3",
   "language": "python",
   "name": "python3"
  },
  "language_info": {
   "codemirror_mode": {
    "name": "ipython",
    "version": 3
   },
   "file_extension": ".py",
   "mimetype": "text/x-python",
   "name": "python",
   "nbconvert_exporter": "python",
   "pygments_lexer": "ipython3",
   "version": "3.6.1"
  }
 },
 "nbformat": 4,
 "nbformat_minor": 2
}
