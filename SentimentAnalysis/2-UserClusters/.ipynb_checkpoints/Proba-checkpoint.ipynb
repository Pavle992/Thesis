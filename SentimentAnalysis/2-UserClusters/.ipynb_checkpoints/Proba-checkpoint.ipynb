{
 "cells": [
  {
   "cell_type": "markdown",
   "metadata": {},
   "source": [
    "# Proba User Clusters"
   ]
  },
  {
   "cell_type": "code",
   "execution_count": 1,
   "metadata": {
    "collapsed": true
   },
   "outputs": [],
   "source": [
    "from utils.api_utils.facebook_api import FacebookAPI "
   ]
  },
  {
   "cell_type": "code",
   "execution_count": 2,
   "metadata": {
    "collapsed": true
   },
   "outputs": [],
   "source": [
    "fb = FacebookAPI(token=\"EAACEdEose0cBAFe56ZBbD2OfTD5r8pcG2jHQzOZBEDru2WdrI4DulQyMAOJKXdAxOd2BrUDUvtX5StiYpFM9zdD2ta6EsuchlJoVK86tG0rc9ZBA3jHMzV3hfsl3nUGUowOQBGGVPaiLugf7CBoOfvkYpT05P14THddtvm5wG8ZBApdYn2BEqtfBoKajxAYLkGb70KVirgZDZD\")\n",
    "fb.connect()"
   ]
  },
  {
   "cell_type": "code",
   "execution_count": 3,
   "metadata": {},
   "outputs": [
    {
     "ename": "AttributeError",
     "evalue": "'NoneType' object has no attribute 'items'",
     "output_type": "error",
     "traceback": [
      "\u001b[1;31m---------------------------------------------------------------------------\u001b[0m",
      "\u001b[1;31mAttributeError\u001b[0m                            Traceback (most recent call last)",
      "\u001b[1;32m<ipython-input-3-1ac87cbcb914>\u001b[0m in \u001b[0;36m<module>\u001b[1;34m()\u001b[0m\n\u001b[0;32m      1\u001b[0m \u001b[0mpeople_data\u001b[0m \u001b[1;33m=\u001b[0m \u001b[0mfb\u001b[0m\u001b[1;33m.\u001b[0m\u001b[0mrequest\u001b[0m\u001b[1;33m(\u001b[0m\u001b[0mids\u001b[0m\u001b[1;33m=\u001b[0m\u001b[1;33m[\u001b[0m\u001b[1;34m'231541427020961'\u001b[0m\u001b[1;33m,\u001b[0m \u001b[1;34m'353020448134882'\u001b[0m\u001b[1;33m,\u001b[0m\u001b[1;34m'432281083635619'\u001b[0m\u001b[1;33m]\u001b[0m\u001b[1;33m)\u001b[0m\u001b[1;33m\u001b[0m\u001b[0m\n\u001b[1;32m----> 2\u001b[1;33m \u001b[1;32mfor\u001b[0m \u001b[0mkey\u001b[0m\u001b[1;33m,\u001b[0m \u001b[0mvalue\u001b[0m \u001b[1;32min\u001b[0m \u001b[0mpeople_data\u001b[0m\u001b[1;33m.\u001b[0m\u001b[0mitems\u001b[0m\u001b[1;33m(\u001b[0m\u001b[1;33m)\u001b[0m\u001b[1;33m:\u001b[0m\u001b[1;33m\u001b[0m\u001b[0m\n\u001b[0m\u001b[0;32m      3\u001b[0m     \u001b[0mprint\u001b[0m\u001b[1;33m(\u001b[0m\u001b[0mkey\u001b[0m\u001b[1;33m,\u001b[0m\u001b[0mvalue\u001b[0m\u001b[1;33m)\u001b[0m\u001b[1;33m\u001b[0m\u001b[0m\n\u001b[0;32m      4\u001b[0m     \u001b[0mprint\u001b[0m\u001b[1;33m(\u001b[0m\u001b[1;34m'--------'\u001b[0m\u001b[1;33m)\u001b[0m\u001b[1;33m\u001b[0m\u001b[0m\n",
      "\u001b[1;31mAttributeError\u001b[0m: 'NoneType' object has no attribute 'items'"
     ]
    }
   ],
   "source": [
    "people_data = fb.request(ids=['231541427020961', '353020448134882','432281083635619'])\n",
    "for key, value in people_data.items():\n",
    "    print(key,value)\n",
    "    print('--------')"
   ]
  },
  {
   "cell_type": "markdown",
   "metadata": {
    "collapsed": true
   },
   "source": [
    "### Db read User's ids"
   ]
  },
  {
   "cell_type": "code",
   "execution_count": 1,
   "metadata": {
    "collapsed": true
   },
   "outputs": [],
   "source": [
    "from utils.db_utils.base_db import Database"
   ]
  },
  {
   "cell_type": "code",
   "execution_count": 2,
   "metadata": {},
   "outputs": [
    {
     "name": "stdout",
     "output_type": "stream",
     "text": [
      "Database connection created: <sqlalchemy.engine.base.Connection object at 0x0000029C9F8A75F8>\n"
     ]
    },
    {
     "data": {
      "text/html": [
       "<div>\n",
       "<style>\n",
       "    .dataframe thead tr:only-child th {\n",
       "        text-align: right;\n",
       "    }\n",
       "\n",
       "    .dataframe thead th {\n",
       "        text-align: left;\n",
       "    }\n",
       "\n",
       "    .dataframe tbody tr th {\n",
       "        vertical-align: top;\n",
       "    }\n",
       "</style>\n",
       "<table border=\"1\" class=\"dataframe\">\n",
       "  <thead>\n",
       "    <tr style=\"text-align: right;\">\n",
       "      <th></th>\n",
       "      <th>content</th>\n",
       "      <th>from_id</th>\n",
       "      <th>idpost</th>\n",
       "    </tr>\n",
       "    <tr>\n",
       "      <th>id</th>\n",
       "      <th></th>\n",
       "      <th></th>\n",
       "      <th></th>\n",
       "    </tr>\n",
       "  </thead>\n",
       "  <tbody>\n",
       "    <tr>\n",
       "      <th>1</th>\n",
       "      <td>Nice</td>\n",
       "      <td>970575303012401</td>\n",
       "      <td>347223</td>\n",
       "    </tr>\n",
       "    <tr>\n",
       "      <th>2</th>\n",
       "      <td>Caro Ibot !!!!!</td>\n",
       "      <td>1146897688677176</td>\n",
       "      <td>347182</td>\n",
       "    </tr>\n",
       "    <tr>\n",
       "      <th>3</th>\n",
       "      <td>Ma in provincia di Ragusa,dove possiamo acquis...</td>\n",
       "      <td>1558161314514299</td>\n",
       "      <td>347159</td>\n",
       "    </tr>\n",
       "    <tr>\n",
       "      <th>4</th>\n",
       "      <td>Beautiful</td>\n",
       "      <td>10153412920857547</td>\n",
       "      <td>347159</td>\n",
       "    </tr>\n",
       "    <tr>\n",
       "      <th>5</th>\n",
       "      <td>Nice</td>\n",
       "      <td>970575303012401</td>\n",
       "      <td>347159</td>\n",
       "    </tr>\n",
       "    <tr>\n",
       "      <th>6</th>\n",
       "      <td>Bellissime!</td>\n",
       "      <td>10209519910903087</td>\n",
       "      <td>347058</td>\n",
       "    </tr>\n",
       "    <tr>\n",
       "      <th>7</th>\n",
       "      <td>Bellissime!</td>\n",
       "      <td>521631137961969</td>\n",
       "      <td>347058</td>\n",
       "    </tr>\n",
       "    <tr>\n",
       "      <th>8</th>\n",
       "      <td>❤️🙏</td>\n",
       "      <td>353020448134882</td>\n",
       "      <td>346036</td>\n",
       "    </tr>\n",
       "    <tr>\n",
       "      <th>9</th>\n",
       "      <td></td>\n",
       "      <td>521631137961969</td>\n",
       "      <td>345942</td>\n",
       "    </tr>\n",
       "    <tr>\n",
       "      <th>10</th>\n",
       "      <td>Lovely, lovely, lovely!</td>\n",
       "      <td>10153412920857547</td>\n",
       "      <td>345934</td>\n",
       "    </tr>\n",
       "    <tr>\n",
       "      <th>11</th>\n",
       "      <td>Luv!</td>\n",
       "      <td>10153412920857547</td>\n",
       "      <td>345911</td>\n",
       "    </tr>\n",
       "    <tr>\n",
       "      <th>12</th>\n",
       "      <td>Top dmaisssss</td>\n",
       "      <td>1994354470788799</td>\n",
       "      <td>345911</td>\n",
       "    </tr>\n",
       "    <tr>\n",
       "      <th>13</th>\n",
       "      <td>nice</td>\n",
       "      <td>191242821257927</td>\n",
       "      <td>342461</td>\n",
       "    </tr>\n",
       "    <tr>\n",
       "      <th>14</th>\n",
       "      <td>http://www.cultmarche.it/i-concorrenti-di-sanr...</td>\n",
       "      <td>167812506753120</td>\n",
       "      <td>342408</td>\n",
       "    </tr>\n",
       "    <tr>\n",
       "      <th>15</th>\n",
       "      <td>http://www.cultmarche.it/i-concorrenti-di-sanr...</td>\n",
       "      <td>167812506753120</td>\n",
       "      <td>342409</td>\n",
       "    </tr>\n",
       "    <tr>\n",
       "      <th>16</th>\n",
       "      <td>http://www.cultmarche.it/i-concorrenti-di-sanr...</td>\n",
       "      <td>167812506753120</td>\n",
       "      <td>342410</td>\n",
       "    </tr>\n",
       "    <tr>\n",
       "      <th>17</th>\n",
       "      <td>K hay de raro?</td>\n",
       "      <td>1278950738798578</td>\n",
       "      <td>337111</td>\n",
       "    </tr>\n",
       "    <tr>\n",
       "      <th>18</th>\n",
       "      <td>Como te quiero Alejandro  zan</td>\n",
       "      <td>1070837196312568</td>\n",
       "      <td>337111</td>\n",
       "    </tr>\n",
       "    <tr>\n",
       "      <th>19</th>\n",
       "      <td>Ohhhh look it's Gaia!! 💄👠</td>\n",
       "      <td>10153936314870820</td>\n",
       "      <td>335758</td>\n",
       "    </tr>\n",
       "    <tr>\n",
       "      <th>20</th>\n",
       "      <td>We love your shoes!! Both of us 😍💄👠</td>\n",
       "      <td>10153256171437015</td>\n",
       "      <td>335758</td>\n",
       "    </tr>\n",
       "    <tr>\n",
       "      <th>21</th>\n",
       "      <td>how cute she is :) adorable xx</td>\n",
       "      <td>10204076369708880</td>\n",
       "      <td>335758</td>\n",
       "    </tr>\n",
       "    <tr>\n",
       "      <th>22</th>\n",
       "      <td>Future fashionista💄💄💄💄</td>\n",
       "      <td>10153799513736280</td>\n",
       "      <td>335758</td>\n",
       "    </tr>\n",
       "    <tr>\n",
       "      <th>23</th>\n",
       "      <td>Fantastic! Stylish and cute ❤️💋</td>\n",
       "      <td>839499913471</td>\n",
       "      <td>335758</td>\n",
       "    </tr>\n",
       "    <tr>\n",
       "      <th>24</th>\n",
       "      <td>Hahaha!! Yes it is 😘😘😘</td>\n",
       "      <td>432281083635619</td>\n",
       "      <td>335758</td>\n",
       "    </tr>\n",
       "    <tr>\n",
       "      <th>25</th>\n",
       "      <td>Dear Shohsanam Alirizaeva check here http://ow...</td>\n",
       "      <td>168919466473021</td>\n",
       "      <td>335760</td>\n",
       "    </tr>\n",
       "    <tr>\n",
       "      <th>26</th>\n",
       "      <td>How much is this?</td>\n",
       "      <td>10205420924902542</td>\n",
       "      <td>335760</td>\n",
       "    </tr>\n",
       "    <tr>\n",
       "      <th>27</th>\n",
       "      <td>Chic</td>\n",
       "      <td>970575303012401</td>\n",
       "      <td>262089</td>\n",
       "    </tr>\n",
       "    <tr>\n",
       "      <th>28</th>\n",
       "      <td>Antonio Fabi non so te ma io me sento maleeeee...</td>\n",
       "      <td>493666340817889</td>\n",
       "      <td>262095</td>\n",
       "    </tr>\n",
       "    <tr>\n",
       "      <th>29</th>\n",
       "      <td>😍😍😍</td>\n",
       "      <td>10205321475346299</td>\n",
       "      <td>262095</td>\n",
       "    </tr>\n",
       "    <tr>\n",
       "      <th>30</th>\n",
       "      <td>😍  ❤</td>\n",
       "      <td>1540462079598299</td>\n",
       "      <td>262095</td>\n",
       "    </tr>\n",
       "  </tbody>\n",
       "</table>\n",
       "</div>"
      ],
      "text/plain": [
       "                                              content            from_id  \\\n",
       "id                                                                         \n",
       "1                                                Nice    970575303012401   \n",
       "2                                     Caro Ibot !!!!!   1146897688677176   \n",
       "3   Ma in provincia di Ragusa,dove possiamo acquis...   1558161314514299   \n",
       "4                                           Beautiful  10153412920857547   \n",
       "5                                                Nice    970575303012401   \n",
       "6                                         Bellissime!  10209519910903087   \n",
       "7                                         Bellissime!    521631137961969   \n",
       "8                                                 ❤️🙏    353020448134882   \n",
       "9                                                        521631137961969   \n",
       "10                            Lovely, lovely, lovely!  10153412920857547   \n",
       "11                                               Luv!  10153412920857547   \n",
       "12                                      Top dmaisssss   1994354470788799   \n",
       "13                                               nice    191242821257927   \n",
       "14  http://www.cultmarche.it/i-concorrenti-di-sanr...    167812506753120   \n",
       "15  http://www.cultmarche.it/i-concorrenti-di-sanr...    167812506753120   \n",
       "16  http://www.cultmarche.it/i-concorrenti-di-sanr...    167812506753120   \n",
       "17                                     K hay de raro?   1278950738798578   \n",
       "18                      Como te quiero Alejandro  zan   1070837196312568   \n",
       "19                          Ohhhh look it's Gaia!! 💄👠  10153936314870820   \n",
       "20                We love your shoes!! Both of us 😍💄👠  10153256171437015   \n",
       "21                     how cute she is :) adorable xx  10204076369708880   \n",
       "22                             Future fashionista💄💄💄💄  10153799513736280   \n",
       "23                    Fantastic! Stylish and cute ❤️💋       839499913471   \n",
       "24                             Hahaha!! Yes it is 😘😘😘    432281083635619   \n",
       "25  Dear Shohsanam Alirizaeva check here http://ow...    168919466473021   \n",
       "26                                  How much is this?  10205420924902542   \n",
       "27                                               Chic    970575303012401   \n",
       "28  Antonio Fabi non so te ma io me sento maleeeee...    493666340817889   \n",
       "29                                                😍😍😍  10205321475346299   \n",
       "30                                               😍  ❤   1540462079598299   \n",
       "\n",
       "     idpost  \n",
       "id           \n",
       "1    347223  \n",
       "2    347182  \n",
       "3    347159  \n",
       "4    347159  \n",
       "5    347159  \n",
       "6    347058  \n",
       "7    347058  \n",
       "8    346036  \n",
       "9    345942  \n",
       "10   345934  \n",
       "11   345911  \n",
       "12   345911  \n",
       "13   342461  \n",
       "14   342408  \n",
       "15   342409  \n",
       "16   342410  \n",
       "17   337111  \n",
       "18   337111  \n",
       "19   335758  \n",
       "20   335758  \n",
       "21   335758  \n",
       "22   335758  \n",
       "23   335758  \n",
       "24   335758  \n",
       "25   335760  \n",
       "26   335760  \n",
       "27   262089  \n",
       "28   262095  \n",
       "29   262095  \n",
       "30   262095  "
      ]
     },
     "execution_count": 2,
     "metadata": {},
     "output_type": "execute_result"
    }
   ],
   "source": [
    "comment_db = Database(host='localhost', port=3306, user='root', passwd='', db='sentiment_db')\n",
    "comment_db.connect()\n",
    "results = comment_db.fetch_all(select='id, content, from_id, idpost', from_clause='im_commento',data_as_dataframe=True)\n",
    "results.set_index('id', inplace=True)\n",
    "results.head(30)"
   ]
  },
  {
   "cell_type": "code",
   "execution_count": 3,
   "metadata": {},
   "outputs": [
    {
     "data": {
      "text/plain": [
       "['im_brand',\n",
       " 'im_canalesocial',\n",
       " 'im_commento',\n",
       " 'im_mention',\n",
       " 'im_post',\n",
       " 'im_social',\n",
       " 'user_social']"
      ]
     },
     "execution_count": 3,
     "metadata": {},
     "output_type": "execute_result"
    }
   ],
   "source": [
    "comment_db.table_names()"
   ]
  },
  {
   "cell_type": "code",
   "execution_count": 4,
   "metadata": {
    "collapsed": true
   },
   "outputs": [],
   "source": [
    "# comment_db.close()"
   ]
  },
  {
   "cell_type": "markdown",
   "metadata": {},
   "source": [
    "### Taking users ids"
   ]
  },
  {
   "cell_type": "code",
   "execution_count": 5,
   "metadata": {},
   "outputs": [
    {
     "data": {
      "text/plain": [
       "335463"
      ]
     },
     "execution_count": 5,
     "metadata": {},
     "output_type": "execute_result"
    }
   ],
   "source": [
    "user_ids = list(set(results.iloc[:, 1].values)) # unique user ids\n",
    "len(user_ids)"
   ]
  },
  {
   "cell_type": "code",
   "execution_count": 6,
   "metadata": {
    "collapsed": true
   },
   "outputs": [],
   "source": [
    "from utils.api_utils.facebook_api import FacebookAPI "
   ]
  },
  {
   "cell_type": "code",
   "execution_count": 7,
   "metadata": {
    "collapsed": true
   },
   "outputs": [],
   "source": [
    "fb = FacebookAPI(token=\"EAACEdEose0cBAJJ2ZCQENWuPGX4BY2Srbc7IZB0bWbqEcuZCQqMVXohrUhM7AMxj2ZBCKET02wK2ahw3gZCIWHRu6VjYgIQXydIxNIL6MZAxXHZCPcbfl5VJQiPqQ1k6k83SlwMKDIBPPcM3Mssb9kvSAk1TTbq2Mhrwrkvv1o6YLvF7vspWUWSHZBxqCYVprn9ic8y7tSkDvQZDZD\")\n",
    "fb.connect()"
   ]
  },
  {
   "cell_type": "code",
   "execution_count": 9,
   "metadata": {},
   "outputs": [
    {
     "name": "stdout",
     "output_type": "stream",
     "text": [
      "Inserting into table user_social\n",
      "Setting (about,emails,city,country,zip,category) to values ('Petit Maison è la prima boutique per cani e gatti nel cuore di Napoli. ','petitmaisonsnc@gmail.com','Naples','Italy','80121','Pet Store')\n",
      "{'about': 'Petit Maison è la prima boutique per cani e gatti nel cuore di Napoli. ', 'emails': 'petitmaisonsnc@gmail.com', 'city': 'Naples', 'country': 'Italy', 'zip': '80121', 'category': 'Pet Store'}\n",
      "Inserting into table user_social\n",
      "Setting (about,emails,category) to values ('Lifestyle - menswear - music blog\n",
      "www.hipsteriaproject.eu','infohipsteria@gmail.com','Personal Blog')\n",
      "{'about': 'Lifestyle - menswear - music blog\\nwww.hipsteriaproject.eu', 'emails': 'infohipsteria@gmail.com', 'category': 'Personal Blog'}\n",
      "Inserting into table user_social\n",
      "Setting (about,emails,city,country,zip,category) to values ('Gaia & Nina Blog | Proud mama of 2 girls ♡ | Mama’s & Mini’s Fashion | Lifestyle | Follow us @gaiaandnina','gaianinapace@gmail.com','Valletta','Malta','Vlt','Just For Fun')\n",
      "{'about': 'Gaia & Nina Blog | Proud mama of 2 girls ♡ | Mama’s & Mini’s Fashion | Lifestyle | Follow us @gaiaandnina', 'emails': 'gaianinapace@gmail.com', 'city': 'Valletta', 'country': 'Malta', 'zip': 'Vlt', 'category': 'Just For Fun'}\n"
     ]
    }
   ],
   "source": [
    "for p in ['231541427020961', '353020448134882','432281083635619']:\n",
    "    ppl = fb.request(ids=[p])\n",
    "    comment_db.insert(table='user_social', column_value=ppl)\n",
    "    print(ppl)"
   ]
  },
  {
   "cell_type": "code",
   "execution_count": 17,
   "metadata": {},
   "outputs": [
    {
     "name": "stdout",
     "output_type": "stream",
     "text": [
      "about Petit Maison è la prima boutique per cani e gatti nel cuore di Napoli. \n",
      "emails ['petitmaisonsnc@gmail.com']\n",
      "location {'city': 'Naples', 'country': 'Italy', 'latitude': 40.83573, 'longitude': 14.24029, 'street': 'via della Cavallerizza a Chiaia, 57', 'zip': '80121'}\n",
      "category Pet Store\n",
      "id 231541427020961\n",
      "_____________________\n",
      "about Lifestyle - menswear - music blog\n",
      "www.hipsteriaproject.eu\n",
      "emails ['infohipsteria@gmail.com']\n",
      "category Personal Blog\n",
      "id 353020448134882\n",
      "_____________________\n",
      "about Gaia & Nina Blog | Proud mama of 2 girls ♡ | Mama’s & Mini’s Fashion | Lifestyle | Follow us @gaiaandnina\n",
      "emails ['gaianinapace@gmail.com']\n",
      "location {'city': 'Valletta', 'country': 'Malta', 'street': 'Valletta', 'zip': 'Vlt'}\n",
      "category Just For Fun\n",
      "id 432281083635619\n",
      "_____________________\n"
     ]
    }
   ],
   "source": [
    "for el in ar:\n",
    "    for key, value in el.items():\n",
    "        print(key,value)\n",
    "    print('_____________________')"
   ]
  },
  {
   "cell_type": "code",
   "execution_count": null,
   "metadata": {},
   "outputs": [
    {
     "name": "stdout",
     "output_type": "stream",
     "text": [
      "{'154041714625144': {'about': 'Artistic designed jewelry by metalsmith Noa Sharon \\n\\nhttp://www.noasharon.com/  \\n\\nShop: http://www.etsy.com/shop/NoaSharonDesigns \\nTwitter: https://twitter.com/#!/NoaSharonDesign \\n\\n★  DESIGN LIKE YOU GIVE A DAMN! ★', 'emails': ['noa@noasharon.com'], 'description': '________________________________________________________________\\nAll my designs are hand made by me with careful attention to detail and to the essence of the material, so you will enjoy them for a long, long time…\\nI make my jewelry with a modern touch of chic design combined with long last classic fashion.\\nI use 100% recycled gold and a non-conflict precious stones.\\n\\n\\nIf you want to know what my customers think about me: http://www.etsy.com/feedback_received.php?feedback_type=from_buyers \\n\\n► Yes. I do wholesales. Please contact me for info.\\n► If you are blogging about my designs - please let me know :)\\n', 'location': {'city': 'Tel Aviv', 'country': 'Israel'}, 'category': 'Design & Fashion', 'founded': '2009', 'id': '154041714625144'}}\n",
      "{'186551214775923': {'about': '“Always make a total effort, even when the odds are against you.”\\n– Arnold Palmer', 'emails': ['nitxq9999@gmail.com'], 'category': 'Sports Team', 'id': '186551214775923'}}\n",
      "{'1421553258141997': {'about': 'Streetstyle Fashion Photographer\\n\\n\\nSantosh chhantyal\\n', 'emails': ['santosh.ttgu@gmail.com'], 'category': 'Photographer', 'id': '1421553258141997'}}\n",
      "{'1001930486503894': {'about': \"The best secret diary for best men! MAKE LOVE DON'T WAIT! \\nThe application is accurate and detailed log of sex can lead your life on your phone.\", 'category': 'App Page', 'id': '1001930486503894'}}\n",
      "{'733037150070556': {'about': 'This is official fanpage of RaceChipGalaxy. Visit our shop http://racechipgalaxy.com/ and get unique and first on the market OBD chip tuning box  ', 'emails': ['info@racechipgalaxy.com'], 'description': 'About RaceChipGalaxy and our products:\\nThe first of our i-Generation ProRacing Chip Tuning Boxes was designed and built over ten years ago. As the first Chip Box appeared to fulfill all the expectations, the team of our highly educated and skilled engineers started designing and manufacturing a whole range of electrical tuning devices for cars. They always build a prototype and test it themselves before releasing a new product. If there happens to be even the slightest fault the constructors will work on it till the problem disappears. One of our priorities was ensuring that our chip boxes will never harm the engine or its components even in the long run. Caring for all the details, great customer support and valuing high quality above all made us one of the best companies manufacturing chip tuning boxes of the highest quality on the European market!!!\\nOur customers can be sure that they buy a dependable, useful and worthy device. Thus, throughout the years we gained a whole army of supporters all over the globe. Germany, Great  Britain, the Czech Republic, Italy, Russia, Lithuania, Ukraine, France, Turkey, USA, and Portugal are some of the markets where we supply customers with our superb products. This year we are planning on expanding our markets into even more countries in Europe as well as other continents. Individual character of every design and meticulous care in all stages of manufacture make our devices different and better than most of our competitors’.\\n', 'location': {'city': 'Dalkey', 'street': 'West House', 'zip': 'Co.Dublin'}, 'category': 'Motor Vehicle Company', 'founded': '25 May 2006 ', 'id': '733037150070556'}}\n",
      "{'1102746296499267': {'about': 'Pisces Today Horoscope\\nSend your zodiac into our message, our robot will tell your horoscope today', 'category': 'App Page', 'id': '1102746296499267'}}\n",
      "{'1730253640556519': {'birthday': '06/25/2016', 'about': 'Fashion. Weddings. Lifestyle.', 'emails': ['v.and.e@hotmail.com'], 'description': 'Love is Always Fashionable ', 'category': 'Community', 'id': '1730253640556519'}}\n",
      "{'188174928242610': {'birthday': '05/01/2016', 'about': 'Cucina', 'emails': ['cucinavitali@gmail.com'], 'description': \"Sono nata a Petritoli, incantevole paese medioevale delle Marche, da padre petritolese DOC e da madre spagnola DOC, precisamente di Cuevas de Almanzora-Andalucia,\\n\\nDa 6 anni vivo e lavoro a Milano nel settore finance di un azienda, ma la cucina è, da sempre, una grande passione ed un grande divertimento, e così eccomi quì, a condividere questo mio amore con te.\\n\\nPerchè cucinare è, io credo, una delle forme di dimostrare amore per qualcuno.\\n\\nLe mie proposte sono ricette semplici, senza grandi pretese, della tradizione, alcune di quello che ho visto, e che magari hai visto anche tu fare, fin da piccolo dalla mamma, dalle nonne, dalle zie, dalle vicine di casa, quella cucina di famiglia della quale magari, leggendo, ricorderai gli odori antichi, le trepidanti attese per l'assaggio, le sensazioni che pensavi non ti sarebbero tornate più in mente...\\n\\nDopo averle lette, usa le mie proposte come meglio credi, per le tue cene più intime, per quelle con gli amici, per i tuoi pranzi con la famiglia, per le feste con i tuoi ospiti, per le ricette veloci (ma comunque sane) di tutti i giorni, per coccolarti quando ne hai voglia...\\n\\n...insomma purchè ci si diverta!\", 'location': {'city': 'Mondo', 'country': 'Democratic Republic of the Congo'}, 'category': 'Food & Beverage Company', 'id': '188174928242610'}}\n",
      "{'183774625004966': {'birthday': '04/20/2008', 'about': 'BOUTIQUE   MAN / WOMAN', 'emails': ['info@boutiquemartinisi.ru'], 'description': '2 этажа новых итальянских коллекций женской и мужской одежды, обуви, нижнего белья и аксессуаров', 'location': {'city': 'Vologda', 'country': 'Russia', 'latitude': 59.2112811, 'longitude': 39.8374374, 'street': 'ул. Гагарина, 41', 'zip': '160002'}, 'category': 'Clothing Store', 'id': '183774625004966'}}\n",
      "{'536903906400542': {'about': 'Página de notícias sobre a cantora, atriz,modelo e compositora Willow Smith.', 'description': 'Fan Page dedicated to Willow Smith', 'category': 'Community', 'id': '536903906400542'}}\n",
      "{'259887160735459': {'about': 'www.justtrendygirls.com  is an online fashion magazine launched in 2014-The site is providing information and ideas about the latest fashion', 'description': 'Enjoy the latest fashion trends\\n\\nMix and Match your fashion clothing\\n\\n like us on  just for trendy girls  page on facebook\\nhttp://www.pinterest.com/justtrendygirls/\\nhttps://twitter.com/JustTrendyGirl\\ngoogle https://plus.google.com/u/0/+NohaDarwishjusttrendygirls/posts\\n\\n\\nEnjoy the Latest trends and feel like you’ve taken some free fashion ideas\\n', 'category': 'Personal Website', 'id': '259887160735459'}}\n",
      "{'420388228116225': {'about': 'Coming soon to your fingertips. For the shopper who just wants to shop #DimbleDoes it all in the matter of seconds!', 'description': 'The concept of Dimble came about as searching online became too vague and finding exactly what you want becomes a chore. Our aim is to give consumers the option of finding exactly what they want, at the price they want without the hassle of surfing through endless pages. \\n\\nFor example, if “purple playsuit under £30” is typed into Google, 8,140,000 results are found. The consumer then has to siphon through; sponsored links, adverts, blogs and articles and so on to find the stores that sell this particular product. Even then, you are spoilt for choice, forever going back and forth from webpage to webpage, which becomes a chore. \\n\\nWith Dimble, every product available will be laid out for you, ready to purchase. As everything else in modern life, people want things done quicker and more efficiently and this is exactly what we are striving to give to you using our unique sentence structure. \\n', 'category': 'App Page', 'founded': 'Koran Murphy-Saffet- koran@dimble.co\\n\\nTomi Oladigbolu- tomi@dimble.co', 'id': '420388228116225'}}\n",
      "{'491583514374888': {'birthday': '03/15/2015', 'about': 'For beauty lovers, harmony searches, happiness creators', 'category': 'Community', 'id': '491583514374888'}}\n"
     ]
    }
   ],
   "source": [
    "ppl1 = []\n",
    "for p in user_ids:\n",
    "    pl = fb.request(ids=[p])\n",
    "    if pl is not None:\n",
    "        ppl1.append(pl)"
   ]
  },
  {
   "cell_type": "code",
   "execution_count": null,
   "metadata": {
    "collapsed": true
   },
   "outputs": [],
   "source": [
    "len(ppl1)"
   ]
  },
  {
   "cell_type": "code",
   "execution_count": 13,
   "metadata": {},
   "outputs": [
    {
     "data": {
      "text/plain": [
       "[{'1568110730161039': {'about': 'Contattateci e saremo lieti di offrirvi ulteriori informazioni riguardo disponibilità e prezzo dei nostri prodotti.',\n",
       "   'category': 'Automotive Parts Store',\n",
       "   'emails': ['perautoricambi@gmail.com'],\n",
       "   'id': '1568110730161039',\n",
       "   'location': {'city': 'Santa Maria a Monte loc. Montecalvoli (PI)',\n",
       "    'street': 'Via Provinciale Francesca 539',\n",
       "    'zip': '56020'}}},\n",
       " {'521046101324295': {'about': 'The Good Living Guide for Global Citizens!',\n",
       "   'category': 'Magazine',\n",
       "   'description': 'The Good Living Guide for Global Citizens!',\n",
       "   'id': '521046101324295'}},\n",
       " {'481642995230558': {'category': 'Musician/Band',\n",
       "   'description': 'SPONSOR/MGMT REQUEST:\\npeter@musicallstarsmgmt.com\\n\\nBooking:\\nASIA ronnie@mostwantedentertainment.net\\nAMERICA david@circletalentagency.com\\nEUROPE mike@codaagency.com\\nITALY info@albertogobbi.com\\n\\n',\n",
       "   'genre': 'Electro House',\n",
       "   'id': '481642995230558',\n",
       "   'location': {'city': 'Brescia', 'country': 'Italy'}}},\n",
       " {'278572235575457': {'about': 'Italian food blog | Ristoranti | Ricette dagli Chef | Eccellenze enogastronomiche | info@acenaconnoi.it • www.acenaconnoi.it',\n",
       "   'category': 'Community',\n",
       "   'emails': ['info@acenaconnoi.it'],\n",
       "   'id': '278572235575457'}},\n",
       " {'39721228426': {'about': \"Bunny's newspaper.\\nPER EMERGENZE VI RISPONDERO' ENTRO 12/24 ORE, NELL'ATTESA DI ANDARE DAL VETERINARIO.\\nFOR EMERGENCIES I'LL ANSWER YOU IN 12/24HOURS \\n\",\n",
       "   'category': 'Personal Blog',\n",
       "   'description': \"Benvenuti nella pagina bunny's newspapers dedicata al  coraggioso e fantastico Cleo,una pagina che si occuperà di  informazioni, suggerimenti,adozioni e tanto altro per tutti i padroni di questi amabili batuffoli.\\nIn ricordo dell'indimenticabile CLEO.\\n\\nyou are welcome in this page dedicated to the biggest,brave and wonderful Cleo.\\ntransformed in a news to give informations, suggestions, adoptions and much more to owners of this lovely furry.\\nIn Cleo's memories.\",\n",
       "   'id': '39721228426',\n",
       "   'location': {'city': 'Naples', 'country': 'Italy'}}},\n",
       " {'168155689903105': {'about': 'Manteau de Fourrures, Agneau retourné, cuir et lainage. À Québec depuis 30 ans, nous avons le manteau selon vos besoins où simplement, celui de vos rêves.',\n",
       "   'category': 'Clothing Store',\n",
       "   'description': 'Nous sommes une boutique spécialisée dans la vente de manteaux. Que ce soit: Cuir, agneau retourné, fourrures et lainages, vous y retrouverez le manteau que vous recherchez.',\n",
       "   'emails': ['boutiqueleprive@hotmail.com'],\n",
       "   'id': '168155689903105',\n",
       "   'location': {'city': 'Quebec',\n",
       "    'country': 'Canada',\n",
       "    'latitude': 46.77146,\n",
       "    'longitude': -71.28171,\n",
       "    'state': 'QC',\n",
       "    'street': '2600 Boulevard Laurier',\n",
       "    'zip': 'G1V4T3'}}},\n",
       " {'185618914879807': {'about': 'www.shantellmartin.com',\n",
       "   'category': 'Artist',\n",
       "   'emails': ['me@shantellmartin.com'],\n",
       "   'id': '185618914879807'}},\n",
       " {'223083814541688': {'about': 'Visual Artist review my work at http://www.judymintze.com',\n",
       "   'category': 'Artist',\n",
       "   'description': 'Judy Mintze is an Indiana based artist - an abstract painter - in love with color, shape and textures. Her concentration is contemporary abstract painting and mixed media works on canvas. Judy is experienced in collaborating with interior designers and private individuals to place existing and create commissioned artworks. \\n\\nServices Provided:\\nCommissioned art: large-scale painting. \\nContemporary abstract painting and mixed media art. \\nCollaboration with interior designers to place existing and create custom commissioned artworks. \\n\\nAreas Served:\\nFishers, Indiana\\nCarmel, Indiana\\nIndianapolis Metro\\nShipping US and Internationally\\n\\nweb   http//:www.judymintze.com\\n\\n',\n",
       "   'emails': ['judy.mintze@gmail.com'],\n",
       "   'id': '223083814541688'}},\n",
       " {'1089418871083534': {'about': 'Seja bem vindo | moda masculina e feminino beleza tendências expiração ',\n",
       "   'category': 'Blogger',\n",
       "   'id': '1089418871083534',\n",
       "   'location': {'city': 'Mato Grosso',\n",
       "    'country': 'Brazil',\n",
       "    'state': 'MT',\n",
       "    'street': 'cabeceira do apa',\n",
       "    'zip': 'Rua principal 100 número'}}},\n",
       " {'1705730823026002': {'about': 'Funniest cooking with nice pics',\n",
       "   'birthday': '03/09/2016',\n",
       "   'category': 'Community',\n",
       "   'id': '1705730823026002'}},\n",
       " {'655962317827911': {'about': 'Semplici idee per cambiare le cose. \\n\\nSeguiteci anche su Twitter: https://twitter.com/semplicementeit',\n",
       "   'category': 'Community',\n",
       "   'description': \"Noi crediamo che le cose si possano cambiare, ma per farlo dobbiamo essere in tanti.\\nSe la pensate come noi, aiutateci a portare un po' di consapevolezza tra la gente.\\n\\nQuesta pagina ha aderito alla Carta per la Promozione delle Vaccinazioni\\nhttp://www.teamvaxitalia.it/index.html\",\n",
       "   'id': '655962317827911'}},\n",
       " {'917033075038910': {'about': 'traditional and unexpected bridal head wear couturiere ...',\n",
       "   'category': 'Product/Service',\n",
       "   'description': 'Sue Plummer-Mansell is the sole creator of individually designed and hand coutured wedding headdresses, including traditionally custom made veils or something a little more unexpected for the discerning bride.  An extensive background within the fashion and tailoring industry has cultivated a unique talent and expertise for producing classic or contemporary headdresses to enhance any chosen wedding gown.  ',\n",
       "   'id': '917033075038910'}},\n",
       " {'1787371418144968': {'about': 'Sharing the best recipes and food information available on the internet!',\n",
       "   'category': 'Personal Website',\n",
       "   'id': '1787371418144968'}},\n",
       " {'1869546353280396': {'about': 'Piccolo Salone di Acconciature Unisex\\nCon la Passione per la cura e la bellezza dei Capelli ��',\n",
       "   'category': 'Hair Salon',\n",
       "   'id': '1869546353280396',\n",
       "   'location': {'city': 'Mirandola',\n",
       "    'country': 'Italy',\n",
       "    'latitude': 44.8868541,\n",
       "    'longitude': 11.0646305,\n",
       "    'street': 'Piazza Matteotti 13',\n",
       "    'zip': '41037'}}},\n",
       " {'116403655066171': {'about': 'LIFESTYLE PORTRAIT PHOTOGRAPHY: As you desire to be seen.  To contact Maria Grazia Facciola Photography visit www.mariagraziafacciola.com',\n",
       "   'category': 'Photographer',\n",
       "   'emails': ['mariagraziafacciola@mac.com'],\n",
       "   'id': '116403655066171'}}]"
      ]
     },
     "execution_count": 13,
     "metadata": {},
     "output_type": "execute_result"
    }
   ],
   "source": [
    "ppl1"
   ]
  }
 ],
 "metadata": {
  "kernelspec": {
   "display_name": "Python 3",
   "language": "python",
   "name": "python3"
  },
  "language_info": {
   "codemirror_mode": {
    "name": "ipython",
    "version": 3
   },
   "file_extension": ".py",
   "mimetype": "text/x-python",
   "name": "python",
   "nbconvert_exporter": "python",
   "pygments_lexer": "ipython3",
   "version": "3.6.1"
  }
 },
 "nbformat": 4,
 "nbformat_minor": 2
}
