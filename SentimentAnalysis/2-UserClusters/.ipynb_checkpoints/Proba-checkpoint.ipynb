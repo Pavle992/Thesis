{
 "cells": [
  {
   "cell_type": "markdown",
   "metadata": {},
   "source": [
    "# Proba User Clusters"
   ]
  },
  {
   "cell_type": "code",
   "execution_count": 1,
   "metadata": {
    "collapsed": true
   },
   "outputs": [],
   "source": [
    "from utils.api_utils.facebook_api import FacebookAPI "
   ]
  },
  {
   "cell_type": "code",
   "execution_count": 2,
   "metadata": {},
   "outputs": [
    {
     "name": "stdout",
     "output_type": "stream",
     "text": [
      "{'231541427020961': {'about': 'Petit Maison è la prima boutique per cani e gatti nel cuore di Napoli. ', 'emails': ['petitmaisonsnc@gmail.com'], 'location': {'city': 'Naples', 'country': 'Italy', 'latitude': 40.83573, 'longitude': 14.24029, 'street': 'via della Cavallerizza a Chiaia, 57', 'zip': '80121'}, 'category': 'Pet Store', 'id': '231541427020961'}, '353020448134882': {'about': 'Lifestyle - menswear - music blog\\nwww.hipsteriaproject.eu', 'emails': ['infohipsteria@gmail.com'], 'category': 'Personal Blog', 'id': '353020448134882'}}\n"
     ]
    }
   ],
   "source": [
    "fb = FacebookAPI(token=\"EAACEdEose0cBAPbk2c92jglJpBvNrXNzJJHakgMBUB4gy3PIkUHMmDzETqMP8LdufRx728zEZCFuvW4jbilSsh6S9Rqfppd8FgCbLknlQsxogl1pOvqaVxIgIXMf4BKF3vqUOVI8Q70FgoT5ZCLTnIzKLdyxZBM80EhHcKll0IvevIWnsCBp73keQL4tjmCyAqKigm68AZDZD\")\n",
    "fb.connect()\n",
    "people_data = fb.request(ids=['231541427020961', '353020448134882'])\n",
    "print(people_data)"
   ]
  },
  {
   "cell_type": "code",
   "execution_count": null,
   "metadata": {
    "collapsed": true
   },
   "outputs": [],
   "source": []
  }
 ],
 "metadata": {
  "kernelspec": {
   "display_name": "Python 3",
   "language": "python",
   "name": "python3"
  },
  "language_info": {
   "codemirror_mode": {
    "name": "ipython",
    "version": 3
   },
   "file_extension": ".py",
   "mimetype": "text/x-python",
   "name": "python",
   "nbconvert_exporter": "python",
   "pygments_lexer": "ipython3",
   "version": "3.6.1"
  }
 },
 "nbformat": 4,
 "nbformat_minor": 2
}
