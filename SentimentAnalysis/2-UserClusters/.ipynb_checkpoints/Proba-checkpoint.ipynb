{
 "cells": [
  {
   "cell_type": "markdown",
   "metadata": {},
   "source": [
    "# Proba User Clusters"
   ]
  },
  {
   "cell_type": "code",
   "execution_count": 1,
   "metadata": {
    "collapsed": true
   },
   "outputs": [],
   "source": [
    "from utils.api_utils.facebook_api import FacebookAPI "
   ]
  },
  {
   "cell_type": "code",
   "execution_count": 2,
   "metadata": {
    "collapsed": true
   },
   "outputs": [],
   "source": [
    "fb = FacebookAPI(token=\"EAACEdEose0cBAFe56ZBbD2OfTD5r8pcG2jHQzOZBEDru2WdrI4DulQyMAOJKXdAxOd2BrUDUvtX5StiYpFM9zdD2ta6EsuchlJoVK86tG0rc9ZBA3jHMzV3hfsl3nUGUowOQBGGVPaiLugf7CBoOfvkYpT05P14THddtvm5wG8ZBApdYn2BEqtfBoKajxAYLkGb70KVirgZDZD\")\n",
    "fb.connect()"
   ]
  },
  {
   "cell_type": "code",
   "execution_count": 3,
   "metadata": {},
   "outputs": [
    {
     "ename": "AttributeError",
     "evalue": "'NoneType' object has no attribute 'items'",
     "output_type": "error",
     "traceback": [
      "\u001b[1;31m---------------------------------------------------------------------------\u001b[0m",
      "\u001b[1;31mAttributeError\u001b[0m                            Traceback (most recent call last)",
      "\u001b[1;32m<ipython-input-3-1ac87cbcb914>\u001b[0m in \u001b[0;36m<module>\u001b[1;34m()\u001b[0m\n\u001b[0;32m      1\u001b[0m \u001b[0mpeople_data\u001b[0m \u001b[1;33m=\u001b[0m \u001b[0mfb\u001b[0m\u001b[1;33m.\u001b[0m\u001b[0mrequest\u001b[0m\u001b[1;33m(\u001b[0m\u001b[0mids\u001b[0m\u001b[1;33m=\u001b[0m\u001b[1;33m[\u001b[0m\u001b[1;34m'231541427020961'\u001b[0m\u001b[1;33m,\u001b[0m \u001b[1;34m'353020448134882'\u001b[0m\u001b[1;33m,\u001b[0m\u001b[1;34m'432281083635619'\u001b[0m\u001b[1;33m]\u001b[0m\u001b[1;33m)\u001b[0m\u001b[1;33m\u001b[0m\u001b[0m\n\u001b[1;32m----> 2\u001b[1;33m \u001b[1;32mfor\u001b[0m \u001b[0mkey\u001b[0m\u001b[1;33m,\u001b[0m \u001b[0mvalue\u001b[0m \u001b[1;32min\u001b[0m \u001b[0mpeople_data\u001b[0m\u001b[1;33m.\u001b[0m\u001b[0mitems\u001b[0m\u001b[1;33m(\u001b[0m\u001b[1;33m)\u001b[0m\u001b[1;33m:\u001b[0m\u001b[1;33m\u001b[0m\u001b[0m\n\u001b[0m\u001b[0;32m      3\u001b[0m     \u001b[0mprint\u001b[0m\u001b[1;33m(\u001b[0m\u001b[0mkey\u001b[0m\u001b[1;33m,\u001b[0m\u001b[0mvalue\u001b[0m\u001b[1;33m)\u001b[0m\u001b[1;33m\u001b[0m\u001b[0m\n\u001b[0;32m      4\u001b[0m     \u001b[0mprint\u001b[0m\u001b[1;33m(\u001b[0m\u001b[1;34m'--------'\u001b[0m\u001b[1;33m)\u001b[0m\u001b[1;33m\u001b[0m\u001b[0m\n",
      "\u001b[1;31mAttributeError\u001b[0m: 'NoneType' object has no attribute 'items'"
     ]
    }
   ],
   "source": [
    "people_data = fb.request(ids=['231541427020961', '353020448134882','432281083635619'])\n",
    "for key, value in people_data.items():\n",
    "    print(key,value)\n",
    "    print('--------')"
   ]
  },
  {
   "cell_type": "markdown",
   "metadata": {
    "collapsed": true
   },
   "source": [
    "### Db read User's ids"
   ]
  },
  {
   "cell_type": "code",
   "execution_count": 9,
   "metadata": {
    "collapsed": true
   },
   "outputs": [],
   "source": [
    "from utils.db_utils.base_db import Database"
   ]
  },
  {
   "cell_type": "code",
   "execution_count": 10,
   "metadata": {},
   "outputs": [
    {
     "name": "stdout",
     "output_type": "stream",
     "text": [
      "Database connection created: <sqlalchemy.engine.base.Connection object at 0x0000019CE39ADEB8>\n"
     ]
    },
    {
     "data": {
      "text/html": [
       "<div>\n",
       "<style>\n",
       "    .dataframe thead tr:only-child th {\n",
       "        text-align: right;\n",
       "    }\n",
       "\n",
       "    .dataframe thead th {\n",
       "        text-align: left;\n",
       "    }\n",
       "\n",
       "    .dataframe tbody tr th {\n",
       "        vertical-align: top;\n",
       "    }\n",
       "</style>\n",
       "<table border=\"1\" class=\"dataframe\">\n",
       "  <thead>\n",
       "    <tr style=\"text-align: right;\">\n",
       "      <th></th>\n",
       "      <th>content</th>\n",
       "      <th>from_id</th>\n",
       "      <th>idpost</th>\n",
       "    </tr>\n",
       "    <tr>\n",
       "      <th>id</th>\n",
       "      <th></th>\n",
       "      <th></th>\n",
       "      <th></th>\n",
       "    </tr>\n",
       "  </thead>\n",
       "  <tbody>\n",
       "    <tr>\n",
       "      <th>1</th>\n",
       "      <td>Nice</td>\n",
       "      <td>970575303012401</td>\n",
       "      <td>347223</td>\n",
       "    </tr>\n",
       "    <tr>\n",
       "      <th>2</th>\n",
       "      <td>Caro Ibot !!!!!</td>\n",
       "      <td>1146897688677176</td>\n",
       "      <td>347182</td>\n",
       "    </tr>\n",
       "    <tr>\n",
       "      <th>3</th>\n",
       "      <td>Ma in provincia di Ragusa,dove possiamo acquis...</td>\n",
       "      <td>1558161314514299</td>\n",
       "      <td>347159</td>\n",
       "    </tr>\n",
       "    <tr>\n",
       "      <th>4</th>\n",
       "      <td>Beautiful</td>\n",
       "      <td>10153412920857547</td>\n",
       "      <td>347159</td>\n",
       "    </tr>\n",
       "    <tr>\n",
       "      <th>5</th>\n",
       "      <td>Nice</td>\n",
       "      <td>970575303012401</td>\n",
       "      <td>347159</td>\n",
       "    </tr>\n",
       "    <tr>\n",
       "      <th>6</th>\n",
       "      <td>Bellissime!</td>\n",
       "      <td>10209519910903087</td>\n",
       "      <td>347058</td>\n",
       "    </tr>\n",
       "    <tr>\n",
       "      <th>7</th>\n",
       "      <td>Bellissime!</td>\n",
       "      <td>521631137961969</td>\n",
       "      <td>347058</td>\n",
       "    </tr>\n",
       "    <tr>\n",
       "      <th>8</th>\n",
       "      <td>❤️🙏</td>\n",
       "      <td>353020448134882</td>\n",
       "      <td>346036</td>\n",
       "    </tr>\n",
       "    <tr>\n",
       "      <th>9</th>\n",
       "      <td></td>\n",
       "      <td>521631137961969</td>\n",
       "      <td>345942</td>\n",
       "    </tr>\n",
       "    <tr>\n",
       "      <th>10</th>\n",
       "      <td>Lovely, lovely, lovely!</td>\n",
       "      <td>10153412920857547</td>\n",
       "      <td>345934</td>\n",
       "    </tr>\n",
       "    <tr>\n",
       "      <th>11</th>\n",
       "      <td>Luv!</td>\n",
       "      <td>10153412920857547</td>\n",
       "      <td>345911</td>\n",
       "    </tr>\n",
       "    <tr>\n",
       "      <th>12</th>\n",
       "      <td>Top dmaisssss</td>\n",
       "      <td>1994354470788799</td>\n",
       "      <td>345911</td>\n",
       "    </tr>\n",
       "    <tr>\n",
       "      <th>13</th>\n",
       "      <td>nice</td>\n",
       "      <td>191242821257927</td>\n",
       "      <td>342461</td>\n",
       "    </tr>\n",
       "    <tr>\n",
       "      <th>14</th>\n",
       "      <td>http://www.cultmarche.it/i-concorrenti-di-sanr...</td>\n",
       "      <td>167812506753120</td>\n",
       "      <td>342408</td>\n",
       "    </tr>\n",
       "    <tr>\n",
       "      <th>15</th>\n",
       "      <td>http://www.cultmarche.it/i-concorrenti-di-sanr...</td>\n",
       "      <td>167812506753120</td>\n",
       "      <td>342409</td>\n",
       "    </tr>\n",
       "    <tr>\n",
       "      <th>16</th>\n",
       "      <td>http://www.cultmarche.it/i-concorrenti-di-sanr...</td>\n",
       "      <td>167812506753120</td>\n",
       "      <td>342410</td>\n",
       "    </tr>\n",
       "    <tr>\n",
       "      <th>17</th>\n",
       "      <td>K hay de raro?</td>\n",
       "      <td>1278950738798578</td>\n",
       "      <td>337111</td>\n",
       "    </tr>\n",
       "    <tr>\n",
       "      <th>18</th>\n",
       "      <td>Como te quiero Alejandro  zan</td>\n",
       "      <td>1070837196312568</td>\n",
       "      <td>337111</td>\n",
       "    </tr>\n",
       "    <tr>\n",
       "      <th>19</th>\n",
       "      <td>Ohhhh look it's Gaia!! 💄👠</td>\n",
       "      <td>10153936314870820</td>\n",
       "      <td>335758</td>\n",
       "    </tr>\n",
       "    <tr>\n",
       "      <th>20</th>\n",
       "      <td>We love your shoes!! Both of us 😍💄👠</td>\n",
       "      <td>10153256171437015</td>\n",
       "      <td>335758</td>\n",
       "    </tr>\n",
       "    <tr>\n",
       "      <th>21</th>\n",
       "      <td>how cute she is :) adorable xx</td>\n",
       "      <td>10204076369708880</td>\n",
       "      <td>335758</td>\n",
       "    </tr>\n",
       "    <tr>\n",
       "      <th>22</th>\n",
       "      <td>Future fashionista💄💄💄💄</td>\n",
       "      <td>10153799513736280</td>\n",
       "      <td>335758</td>\n",
       "    </tr>\n",
       "    <tr>\n",
       "      <th>23</th>\n",
       "      <td>Fantastic! Stylish and cute ❤️💋</td>\n",
       "      <td>839499913471</td>\n",
       "      <td>335758</td>\n",
       "    </tr>\n",
       "    <tr>\n",
       "      <th>24</th>\n",
       "      <td>Hahaha!! Yes it is 😘😘😘</td>\n",
       "      <td>432281083635619</td>\n",
       "      <td>335758</td>\n",
       "    </tr>\n",
       "    <tr>\n",
       "      <th>25</th>\n",
       "      <td>Dear Shohsanam Alirizaeva check here http://ow...</td>\n",
       "      <td>168919466473021</td>\n",
       "      <td>335760</td>\n",
       "    </tr>\n",
       "    <tr>\n",
       "      <th>26</th>\n",
       "      <td>How much is this?</td>\n",
       "      <td>10205420924902542</td>\n",
       "      <td>335760</td>\n",
       "    </tr>\n",
       "    <tr>\n",
       "      <th>27</th>\n",
       "      <td>Chic</td>\n",
       "      <td>970575303012401</td>\n",
       "      <td>262089</td>\n",
       "    </tr>\n",
       "    <tr>\n",
       "      <th>28</th>\n",
       "      <td>Antonio Fabi non so te ma io me sento maleeeee...</td>\n",
       "      <td>493666340817889</td>\n",
       "      <td>262095</td>\n",
       "    </tr>\n",
       "    <tr>\n",
       "      <th>29</th>\n",
       "      <td>😍😍😍</td>\n",
       "      <td>10205321475346299</td>\n",
       "      <td>262095</td>\n",
       "    </tr>\n",
       "    <tr>\n",
       "      <th>30</th>\n",
       "      <td>😍  ❤</td>\n",
       "      <td>1540462079598299</td>\n",
       "      <td>262095</td>\n",
       "    </tr>\n",
       "  </tbody>\n",
       "</table>\n",
       "</div>"
      ],
      "text/plain": [
       "                                              content            from_id  \\\n",
       "id                                                                         \n",
       "1                                                Nice    970575303012401   \n",
       "2                                     Caro Ibot !!!!!   1146897688677176   \n",
       "3   Ma in provincia di Ragusa,dove possiamo acquis...   1558161314514299   \n",
       "4                                           Beautiful  10153412920857547   \n",
       "5                                                Nice    970575303012401   \n",
       "6                                         Bellissime!  10209519910903087   \n",
       "7                                         Bellissime!    521631137961969   \n",
       "8                                                 ❤️🙏    353020448134882   \n",
       "9                                                        521631137961969   \n",
       "10                            Lovely, lovely, lovely!  10153412920857547   \n",
       "11                                               Luv!  10153412920857547   \n",
       "12                                      Top dmaisssss   1994354470788799   \n",
       "13                                               nice    191242821257927   \n",
       "14  http://www.cultmarche.it/i-concorrenti-di-sanr...    167812506753120   \n",
       "15  http://www.cultmarche.it/i-concorrenti-di-sanr...    167812506753120   \n",
       "16  http://www.cultmarche.it/i-concorrenti-di-sanr...    167812506753120   \n",
       "17                                     K hay de raro?   1278950738798578   \n",
       "18                      Como te quiero Alejandro  zan   1070837196312568   \n",
       "19                          Ohhhh look it's Gaia!! 💄👠  10153936314870820   \n",
       "20                We love your shoes!! Both of us 😍💄👠  10153256171437015   \n",
       "21                     how cute she is :) adorable xx  10204076369708880   \n",
       "22                             Future fashionista💄💄💄💄  10153799513736280   \n",
       "23                    Fantastic! Stylish and cute ❤️💋       839499913471   \n",
       "24                             Hahaha!! Yes it is 😘😘😘    432281083635619   \n",
       "25  Dear Shohsanam Alirizaeva check here http://ow...    168919466473021   \n",
       "26                                  How much is this?  10205420924902542   \n",
       "27                                               Chic    970575303012401   \n",
       "28  Antonio Fabi non so te ma io me sento maleeeee...    493666340817889   \n",
       "29                                                😍😍😍  10205321475346299   \n",
       "30                                               😍  ❤   1540462079598299   \n",
       "\n",
       "     idpost  \n",
       "id           \n",
       "1    347223  \n",
       "2    347182  \n",
       "3    347159  \n",
       "4    347159  \n",
       "5    347159  \n",
       "6    347058  \n",
       "7    347058  \n",
       "8    346036  \n",
       "9    345942  \n",
       "10   345934  \n",
       "11   345911  \n",
       "12   345911  \n",
       "13   342461  \n",
       "14   342408  \n",
       "15   342409  \n",
       "16   342410  \n",
       "17   337111  \n",
       "18   337111  \n",
       "19   335758  \n",
       "20   335758  \n",
       "21   335758  \n",
       "22   335758  \n",
       "23   335758  \n",
       "24   335758  \n",
       "25   335760  \n",
       "26   335760  \n",
       "27   262089  \n",
       "28   262095  \n",
       "29   262095  \n",
       "30   262095  "
      ]
     },
     "execution_count": 10,
     "metadata": {},
     "output_type": "execute_result"
    }
   ],
   "source": [
    "comment_db = Database(host='localhost', port=3306, user='root', passwd='', db='sentiment_db')\n",
    "comment_db.connect()\n",
    "results = comment_db.fetch_all(select='id, content, from_id, idpost', from_clause='im_commento',data_as_dataframe=True)\n",
    "results.set_index('id', inplace=True)\n",
    "results.head(30)"
   ]
  },
  {
   "cell_type": "code",
   "execution_count": 11,
   "metadata": {},
   "outputs": [
    {
     "data": {
      "text/plain": [
       "['im_brand',\n",
       " 'im_canalesocial',\n",
       " 'im_commento',\n",
       " 'im_mention',\n",
       " 'im_post',\n",
       " 'im_social',\n",
       " 'user_social']"
      ]
     },
     "execution_count": 11,
     "metadata": {},
     "output_type": "execute_result"
    }
   ],
   "source": [
    "comment_db.table_names()"
   ]
  },
  {
   "cell_type": "code",
   "execution_count": 12,
   "metadata": {
    "collapsed": true
   },
   "outputs": [],
   "source": [
    "# comment_db.close()"
   ]
  },
  {
   "cell_type": "markdown",
   "metadata": {},
   "source": [
    "### Taking users ids"
   ]
  },
  {
   "cell_type": "code",
   "execution_count": 13,
   "metadata": {},
   "outputs": [
    {
     "data": {
      "text/plain": [
       "335463"
      ]
     },
     "execution_count": 13,
     "metadata": {},
     "output_type": "execute_result"
    }
   ],
   "source": [
    "user_ids = list(set(results.iloc[:, 1].values)) # unique user ids\n",
    "len(user_ids)"
   ]
  },
  {
   "cell_type": "markdown",
   "metadata": {},
   "source": [
    "### FB api"
   ]
  },
  {
   "cell_type": "code",
   "execution_count": 14,
   "metadata": {
    "collapsed": true
   },
   "outputs": [],
   "source": [
    "from utils.api_utils.facebook_api import FacebookAPI "
   ]
  },
  {
   "cell_type": "code",
   "execution_count": 15,
   "metadata": {
    "collapsed": true
   },
   "outputs": [],
   "source": [
    "fb = FacebookAPI(token=\"EAACEdEose0cBAMqvxGuq8mLlP1fFMKyBt9KevjuEEDeveAwZA6KvT7XOhI4WIT6f8BqQTbLQb0C1SYPDW0W3V21jAT0lju1KvrZC3s7fF94JmZBZBkpnKJ9ynTGUZB3GpDsLXXNhSplCZCaYN5UfXiOJAHZCuZB8dg7YPcYqYXeEdkFhJJkfw640QhxZBASmsZB4NC9Y9fBm7rfgZDZD\")\n",
    "fb.connect()"
   ]
  },
  {
   "cell_type": "markdown",
   "metadata": {},
   "source": [
    "### Test user data"
   ]
  },
  {
   "cell_type": "code",
   "execution_count": null,
   "metadata": {},
   "outputs": [],
   "source": [
    "for p in ['231541427020961', '353020448134882','432281083635619']:\n",
    "    ppl = fb.request(ids=[p])\n",
    "    comment_db.insert(table='user_social', column_value=ppl)\n",
    "    print(ppl)"
   ]
  },
  {
   "cell_type": "code",
   "execution_count": 20,
   "metadata": {},
   "outputs": [
    {
     "name": "stdout",
     "output_type": "stream",
     "text": [
      "Inserting into table user_social\n",
      "Setting (about,emails,description,city,country,zip,category) to values ('Giovanni Mancini | Elaborare - Newsauto | Engineer, pilot, tester, track driving instructor, journalist and editor magazine Elaborare GT Tuning/Racing, Classic, 4x4 and website NewsAuto.it giovannimancini.com newsauto.it elaborare.com','mancini@elaborare.org','elaborare.com | www.newsauto.it |giovannimancini.com\n",
      "  |  forum.elaborare.com \n",
      "ELABORARE - facebook.com/elaborare.tuning.car\n",
      "4x4 Offroad - facebook.com/elaborare4x4\n",
      "CLASSIC facebook.com/classic.car.elaborare','Rome','Italy','ROMA','Personal Blog')\n",
      "{'about': 'Giovanni Mancini | Elaborare - Newsauto | Engineer, pilot, tester, track driving instructor, journalist and editor magazine Elaborare GT Tuning/Racing, Classic, 4x4 and website NewsAuto.it giovannimancini.com newsauto.it elaborare.com', 'emails': 'mancini@elaborare.org', 'description': 'elaborare.com | www.newsauto.it |giovannimancini.com\\n  |  forum.elaborare.com \\nELABORARE - facebook.com/elaborare.tuning.car\\n4x4 Offroad - facebook.com/elaborare4x4\\nCLASSIC facebook.com/classic.car.elaborare', 'city': 'Rome', 'country': 'Italy', 'zip': 'ROMA', 'category': 'Personal Blog'}\n",
      "Inserting into table user_social\n",
      "Setting (about,emails,city,country,zip,category) to values ('Cica dizajn,unikatna odeÄa,sveÄane haljine i scenski kostimi.','jefticljubica@gmail.com','Belgrade','Serbia','11000','Clothing (Brand)')\n",
      "{'about': 'Cica dizajn,unikatna odeća,svečane haljine i scenski kostimi.', 'emails': 'jefticljubica@gmail.com', 'city': 'Belgrade', 'country': 'Serbia', 'zip': '11000', 'category': 'Clothing (Brand)'}\n",
      "Inserting into table user_social\n",
      "Setting (about,category) to values ('The destination for gorgeous handmade bows, hair clips & accessories for all ages. To order or if you have any questions please message me.','Baby Goods/Kids Goods')\n",
      "{'about': 'The destination for gorgeous handmade bows, hair clips & accessories for all ages. To order or if you have any questions please message me.', 'category': 'Baby Goods/Kids Goods'}\n",
      "Inserting into table user_social\n",
      "Setting (about,emails,description,city,country,zip,category) to values ('Agent licensed to sell insurance through New York Life Insurance Company. \n",
      "','selashry@ft.newyorklife.com','As a licensed Agent of New York Life Insurance Company I offer a variety of products that can help you meet a number of insurance and financial needs, including, but not limited to college funding, retirement, managing costs for extended periods of care and lifetime income strategies. Please contact me to help you fully analyze your needs and recommend appropriate solutions.\n",
      "\n",
      "Neither New York Life Insurance Company, nor its agents, provides tax, legal, or accounting advice. Please consult your own tax, legal, or accounting professionals before making any decisions.\n",
      "\n",
      "I am not licensed in all jurisdictions.\n",
      "','Edison','United States','08837','Insurance Agent')\n",
      "{'about': 'Agent licensed to sell insurance through New York Life Insurance Company. \\n', 'emails': 'selashry@ft.newyorklife.com', 'description': 'As a licensed Agent of New York Life Insurance Company I offer a variety of products that can help you meet a number of insurance and financial needs, including, but not limited to college funding, retirement, managing costs for extended periods of care and lifetime income strategies. Please contact me to help you fully analyze your needs and recommend appropriate solutions.\\n\\nNeither New York Life Insurance Company, nor its agents, provides tax, legal, or accounting advice. Please consult your own tax, legal, or accounting professionals before making any decisions.\\n\\nI am not licensed in all jurisdictions.\\n', 'city': 'Edison', 'country': 'United States', 'zip': '08837', 'category': 'Insurance Agent'}\n",
      "Inserting into table user_social\n",
      "Setting (about,description,category) to values ('This Page is all about  Trending Topics ,Gaming , Fun facts and Entertainment  Stuff .  \n",
      "Like this Page to start Enjoying ','This page is for Everyone!!!!!!!!!!!!!! Come join us and have fun','Just For Fun')\n",
      "{'about': 'This Page is all about  Trending Topics ,Gaming , Fun facts and Entertainment  Stuff .  \\nLike this Page to start Enjoying ', 'description': 'This page is for Everyone!!!!!!!!!!!!!! Come join us and have fun', 'category': 'Just For Fun'}\n",
      "Inserting into table user_social\n",
      "Setting (about,emails,description,city,country,zip,category) to values ('Abstracta provides retail solutions, adding elegant and dynamic displays to retail stores. The simple design & versatility is popular with artists as well','info@consort.com','Abstracta is a modular display and furniture system that draws its beauty from its simplicity, and its hidden strength from its American-made steel tubes and metal-alloy, die-cast connectors. Abstracta possesses a classic look and renowned versatility, yet offers a surprising affordability for retailers, home owners, artists and trade shows.','Kalamazoo','United States','49001','Local Business')\n",
      "{'about': 'Abstracta provides retail solutions, adding elegant and dynamic displays to retail stores. The simple design & versatility is popular with artists as well', 'emails': 'info@consort.com', 'description': 'Abstracta is a modular display and furniture system that draws its beauty from its simplicity, and its hidden strength from its American-made steel tubes and metal-alloy, die-cast connectors. Abstracta possesses a classic look and renowned versatility, yet offers a surprising affordability for retailers, home owners, artists and trade shows.', 'city': 'Kalamazoo', 'country': 'United States', 'zip': '49001', 'category': 'Local Business'}\n",
      "Inserting into table user_social\n",
      "Setting (about,emails,description,city,country,category) to values ('Personal Perfumer','contact@levkallos.com','Our bespoke personal perfumes are created to the customerâs taste during one-to-one appointments which always take place where the customer prefers. It could be at the customerâs home, hotel lounge or in an atmospheric bar. The goal is to make our customers feel comfortable, relaxed and engaged in a journey through the worldâs most amazing and spectacular scents.\n",
      "\n",
      "A typical appointment lasts about two hours during which your perfect personal perfume is composed. The whole process is guided and supervised by Lev Kallos personally but it is always down to a customer to pick their most preferred scents to create their Smell of Life.\n",
      "\n",
      "Each perfume is unique! All the formulas are kept secret. No one else is ever going to have the same perfume as you. The female perfumes come in a high class laser cut 100 ml crystal decanter.  In addition, a 15 ml refillable spray bottle with perfume is also included and because of its size it fits perfectly into every handbag. The menâs version comes in a classy and extremely presentable 100 ml spray bottle.\n",
      "\n",
      "A personal perfume is a fantastic treat to make you feel better and uplifted. It is also a sophisticated and a luxurious gift. You can purchase gift vouchers for family, friends and lovers. The voucher entitles the giftee to the full package of the interview etc. leading to the creation of their own personal perfume. Depending on the value of voucher chosen they get the whole package described above plus additional items related to the value.','London','United Kingdom','Health/Beauty')\n",
      "{'about': 'Personal Perfumer', 'emails': 'contact@levkallos.com', 'description': 'Our bespoke personal perfumes are created to the customer’s taste during one-to-one appointments which always take place where the customer prefers. It could be at the customer’s home, hotel lounge or in an atmospheric bar. The goal is to make our customers feel comfortable, relaxed and engaged in a journey through the world’s most amazing and spectacular scents.\\n\\nA typical appointment lasts about two hours during which your perfect personal perfume is composed. The whole process is guided and supervised by Lev Kallos personally but it is always down to a customer to pick their most preferred scents to create their Smell of Life.\\n\\nEach perfume is unique! All the formulas are kept secret. No one else is ever going to have the same perfume as you. The female perfumes come in a high class laser cut 100 ml crystal decanter.  In addition, a 15 ml refillable spray bottle with perfume is also included and because of its size it fits perfectly into every handbag. The men’s version comes in a classy and extremely presentable 100 ml spray bottle.\\n\\nA personal perfume is a fantastic treat to make you feel better and uplifted. It is also a sophisticated and a luxurious gift. You can purchase gift vouchers for family, friends and lovers. The voucher entitles the giftee to the full package of the interview etc. leading to the creation of their own personal perfume. Depending on the value of voucher chosen they get the whole package described above plus additional items related to the value.', 'city': 'London', 'country': 'United Kingdom', 'category': 'Health/Beauty'}\n"
     ]
    },
    {
     "name": "stdout",
     "output_type": "stream",
     "text": [
      "Inserting into table user_social\n",
      "Setting (description,category) to values ('Ø§','Community')\n",
      "{'description': 'ا', 'category': 'Community'}\n",
      "Inserting into table user_social\n",
      "Setting (about,emails,description,city,country,zip,category) to values ('Arquitetura, design, interiores e muito mais!\n",
      "projetos#consultoria#obra\n",
      "contatos@ahpharquitetura.com.br','contatos@ahpharquitetura.com.br','DedicaÃ§Ã£o, criatividade e muito trabalho definem nossa trajetÃ³ria no mercado de arquitetura e decoraÃ§Ã£o de interiores hÃ¡ mais de dez anos! Sempre partimos da premissa que para atender Ã s expectativas Ã© preciso: transformar tÃ©cnica em beleza, funcionalidade em forma, recursos financeiros em resultadosâ! Sem dÃºvida, nossa maior satisfaÃ§Ã£o Ã© poder ver pronto o que o cliente idealizou e que, com o nosso toque e empenho se materializou!','SÃ£o Bernardo do Campo','Brazil','09750730','Architect')\n",
      "{'about': 'Arquitetura, design, interiores e muito mais!\\nprojetos#consultoria#obra\\ncontatos@ahpharquitetura.com.br', 'emails': 'contatos@ahpharquitetura.com.br', 'description': 'Dedicação, criatividade e muito trabalho definem nossa trajetória no mercado de arquitetura e decoração de interiores há mais de dez anos! Sempre partimos da premissa que para atender às expectativas é preciso: transformar técnica em beleza, funcionalidade em forma, recursos financeiros em resultados”! Sem dúvida, nossa maior satisfação é poder ver pronto o que o cliente idealizou e que, com o nosso toque e empenho se materializou!', 'city': 'São Bernardo do Campo', 'country': 'Brazil', 'zip': '09750730', 'category': 'Architect'}\n",
      "Error inserting database: (_mysql_exceptions.ProgrammingError) (1064, \"You have an error in your SQL syntax; check the manual that corresponds to your MySQL server version for the right syntax to use near 's eclectic patterns and classic designs, includes ready to wear pieces for the w' at line 1\") [SQL: \"INSERT INTO `sentiment_db`.`user_social` (about,emails,description,city,country,category) VALUES ('Mena Lombard is an American brand that captures the vintage essence and contemporary style of its designer Mena Lombard.','info@menalombard.com','Mena Lombard is an American brand that captures the vintage essence and contemporary style of its designer Mena Lombard. Founded in 2013, the collection known for it's eclectic patterns and classic designs, includes ready to wear pieces for the worldly woman. The brandâ\\x80\\x99s designer, Mena Lombard strives to create feminine designs that fit into the lives of bold women everywhere - empowering them with timeless pieces that fit into their daily lives. The brand is proudly made in the USA and available to women worldwide at MenaLombard.com.â\\x80\\x8b','Miami','United States','Clothing (Brand)')\"]\n",
      "{'about': 'Mena Lombard is an American brand that captures the vintage essence and contemporary style of its designer Mena Lombard.', 'emails': 'info@menalombard.com', 'description': \"Mena Lombard is an American brand that captures the vintage essence and contemporary style of its designer Mena Lombard. Founded in 2013, the collection known for it's eclectic patterns and classic designs, includes ready to wear pieces for the worldly woman. The brand’s designer, Mena Lombard strives to create feminine designs that fit into the lives of bold women everywhere - empowering them with timeless pieces that fit into their daily lives. The brand is proudly made in the USA and available to women worldwide at MenaLombard.com.\\u200b\", 'city': 'Miami', 'country': 'United States', 'category': 'Clothing (Brand)'}\n",
      "Inserting into table user_social\n",
      "Setting (birthday,about,description,category) to values ('11/01/2016','Home of Scuderia Ferrari fans','Ciao and Welcome to SF Tifosi, the home of Scuderia Ferrari fans.\n",
      "\n",
      "We are a bunch of Scuderia Ferrari enthusiasts, who sadly, may probably never get to own or drive one of these amazing cars.\n",
      "\n",
      "Having grown up, as many of you, with a Ferrari poster on our bedroom walls, the passion for Ferrari has been long held by all of us.\n",
      "\n",
      "A Ferrari, to me, is not merely a car, but a work of art, a creation of beauty, poetry in motion, and thatâs just to mention the aesthetic appeal, and not forgetting the glorious sounds of their magnificent engines.\n",
      "\n",
      "My personal poster as a kid, was an F40 poster, soon after it was launched, and my brother had a Ferrari Testarossa poster on his wall. \n",
      "\n",
      "As lifelong Tifosi, we hope to share our passion with you, hope to entertain, inform and inspire you in our shared love for Ferrari cars.\n",
      "\n",
      "We hope you will join us on this journey to discover more about Ferrari cars and their incredible racing history, and of course the legendary il Commendatore, Enzo Ferrari,  the man who gave the world these amazing cars, through his vision, passion and dedication to motor racing.\n",
      "\n",
      "Please stay tuned, join us on our community pages, and feel free to share your thoughts.\n",
      "\n",
      "We would love to hear from you, and perhaps even see your pictures of Ferrari cars, that you have seen, or driven, or owned.\n",
      "\n",
      "Forza Ferrari\n",
      "','Cars')\n",
      "{'birthday': '11/01/2016', 'about': 'Home of Scuderia Ferrari fans', 'description': 'Ciao and Welcome to SF Tifosi, the home of Scuderia Ferrari fans.\\n\\nWe are a bunch of Scuderia Ferrari enthusiasts, who sadly, may probably never get to own or drive one of these amazing cars.\\n\\nHaving grown up, as many of you, with a Ferrari poster on our bedroom walls, the passion for Ferrari has been long held by all of us.\\n\\nA Ferrari, to me, is not merely a car, but a work of art, a creation of beauty, poetry in motion, and that’s just to mention the aesthetic appeal, and not forgetting the glorious sounds of their magnificent engines.\\n\\nMy personal poster as a kid, was an F40 poster, soon after it was launched, and my brother had a Ferrari Testarossa poster on his wall. \\n\\nAs lifelong Tifosi, we hope to share our passion with you, hope to entertain, inform and inspire you in our shared love for Ferrari cars.\\n\\nWe hope you will join us on this journey to discover more about Ferrari cars and their incredible racing history, and of course the legendary il Commendatore, Enzo Ferrari,  the man who gave the world these amazing cars, through his vision, passion and dedication to motor racing.\\n\\nPlease stay tuned, join us on our community pages, and feel free to share your thoughts.\\n\\nWe would love to hear from you, and perhaps even see your pictures of Ferrari cars, that you have seen, or driven, or owned.\\n\\nForza Ferrari\\n', 'category': 'Cars'}\n",
      "Error inserting database: (_mysql_exceptions.ProgrammingError) (1064, \"You have an error in your SQL syntax; check the manual that corresponds to your MySQL server version for the right syntax to use near 's Exclusive ORIBE Hair Salon!','gmichaelsalon@gmail.com','Greg - G Michael Salon' at line 1\") [SQL: 'INSERT INTO `sentiment_db`.`user_social` (about,emails,description,city,country,zip,category) VALUES (\\'Voted the BEST Hair Salon in Indianapolis and JUST Named one of the Top 200 Salons in the Country, G Michael Salon is Indy\\'s Exclusive ORIBE Hair Salon!\\',\\'gmichaelsalon@gmail.com\\',\\'Greg - G Michael Salon Owner\\n\\nGreg Lee and the GMS Artistic Design Team at G Michael Salon, has developed a reputation of exceptionally skilled hair stylists. Their expert technique, attention to detail and his devotion to creating experiences for each guest, has led them to be some of the most sought after stylists in Indy. With advanced hair cutting courses including Vidal Sassoon, Aveda, One-on-One with Nick Arrojo (celebrity hair stylist from television show \"What Not to Wear\") in New York and Misaki at the Juan Juan Salon in Beverly Hills, along with creative color techniques from Vidal Sassoon, the GMS Artistic Design Team is able to envision styles that are designed for each guest.\\n\\nJoe - G Michael Salon Owner\\n\\nAs Owner of G Michael Salon in Indianapolis, Indiana, Joe acts as Salon Concierge while being a liaison for success between staff and guest relations. Joe comes from an extensive career in the the beauty and wellness industry, holding a license in esthetics. Joe spent four years employed with the Top Indianapolis Hair Salon training academy, the Aveda Fredricâ\\x80\\x99s Institute in Indianapolis, overseeing 60+ stylists on the salon training floor as the Guest Services Coordinator. He was responsible for managing and leading the Guest Care team by creating the best experiences and long-term relationships with guests. Joe has a gift for excellent organization and foresight, enabling him to head off challenges that our business could face before they even occur. Joe genuinely enjoys observing the personal impact that each artistic design team member has upon their guests, and seeks to ensure that our guests experiences are always beyond excellent. His highly dynamic approach is a perfect match for the high energy that you will experience as a guest at G Michael Salon.\\n\\nLauren - G Michael Salon Stylist\\n\\nWhether it\\'s a current trend, classic style or a unique look created just for you, Lauren has you covered. Lauren\\'s positive attitude and ability to listen to her guests needs, keeps them coming back to update their looks or to maintain their gorgeous tresses. Lauren graduated from the Top Indianapolis Hair Salon training academy, The Aveda Fredric\\'s Institute with a dual license as a hair stylist and as an esthetician. With advanced training in Wella Hair Color coupled with intense haircutting techniques, you are sure leave G Michael Salon loving your locks and feeling beautiful. Lauren\\'s recent claim to fame is assisting hair salon owner, Greg Lee, with creating a classic curl hair style for Ernest Heminway\\'s grand daughter, Mariel Hemingway on her recent engagements in Indianapolis Indiana. Along with the rest of the G Michael Salon artistic team, Lauren knows what your locks have been craving! \\n\\n\\nMorgan - G Michael Salon Stylist\\n\\nEncompassing sexy, sassy, modern and vintageâ\\x80¦Morgan knows what your locks have been craving. Morgan graduated from the Top Indianapolis Hair Salon training academy, The Aveda Fredric\\'s Institute with the highest of honors. Creating killer ombre high lights and haircuts with lots of movement and texture, this G Michael Salon stylist boasts an amazing creative capability. Always pushing herself to the next level, Morgan\\'s range of skills is truly unique. \\n\\nNicole - G Michael Salon Stylist\\n\\nDesigning classic Vidal Sassoon bobs, simple yet flirty waves or that perfect style for your girls night outâ\\x80¦Nicole is what your locks have been craving. Nicole graduated from the Top Indianapolis Hair Salon training academy, The Aveda Fredricâ\\x80\\x99s Institute with the highest honors. Nicoleâ\\x80\\x99s love for perfectly styled hair will ensure you leave our salon with a gorgeous coif ready for any special event. Nicole has been involved in the Fox 59 segment â\\x80\\x9cDoes it Workâ\\x80\\x9d. Specializing in creating layers that provide lots of movement and are undetectable, Nicoleâ\\x80\\x99s Japanese cutting techniques will leave you wondering why you havenâ\\x80\\x99t experienced G Michael Salon sooner.\\n\\nHannah - G Michael Salon Stylist\\n\\nInspired by endless high fashion magazine photos and celebrities, Hannah effortlessly creates sexy modern looks that are fresh and wearable. Whether it is the perfect beachy blonde, rich brunette or dapper menâ\\x80\\x99s haircut that you desire, you have found your stylist. While creating haircuts that her guests can easily manage day to day is definitely a forte, Hannah also loves to style hair to perfection or give you a sexy chic look. Hannah graduated from one of the Top Indianapolis Hair Salon training academies, The Aveda Fredricâ\\x80\\x99s Institute with the highest of honors and knows what your locks have been craving!\\n\\nAnessa- G Michael Salon Stylist\\n\\nWhere Sophistication meets edgy, youâ\\x80\\x99ll find Anessa. Anessaâ\\x80\\x99s ability to move from a classic Vidal Sassoon bob, to a trendy creative color is seamless. This fierce stylist excels at Illuminating a style or color possibility that her guests may not have envisioned before sitting in her chair. Anessaâ\\x80\\x99s constant appetite for seeking out advanced education and her passion for mastering current trends is paramount. Anessa knows what your locks have been craving!\\n\\nCourtney - G Michael Salon Stylist \\n\\nShowcasing seasonal trendy looks on Fox 59 and known for creating red-carpet worthy locks, Courtney is the master of perfecting romantic hairstyles in Indianapolis and is our Bridal Design Team Leader. Designing the ultimate blonde bombshells and flawless bob haircuts, Courtney is well versed in giving her guests what they crave and creating sexy voluminous blowouts that will have heads turning. Courtneyâ\\x80\\x99s most recent claim to Fame is styling an Olympianâ\\x80\\x99s hair to perfection for the widely popular magazine, Live Simple. Delivering big city experiences with a small town feelâ\\x80¦â\\x80¦â\\x80¦.Courtney knows what your locks have been craving!\\n\\nLindsey - G Michael Salon Stylist \\n\\nWhether youâ\\x80\\x99re longing for the perfect layers, on-trend color techniques or luxurious blonde locks, Lindseyâ\\x80\\x99s designs will keep you craving more. Lindseyâ\\x80\\x99s creative vision integrates the harmony of cut and color to create customized looks that bring out the best in her guests while expressing their personal style. With hair being the medium for her creative expression, Lindsey excels at helping her guests to project the beautiful image they desire. Lindsey graduated from one of the Top Indianapolis Hair Salon training academies, the Aveda Fredricâ\\x80\\x99s Institute and knows what your locks have been craving!\\n\\nTyler - G Michael Salon Stylist\\n\\nIf youâ\\x80\\x99re looking for the perfect haircut and color â\\x80\\x93 look no further. Tyler awaits you at G Michael Salon in Indianapolis, Indiana. Tylerâ\\x80\\x99s creative vision integrates the harmony of cut and color to create customized looks that bring out the best in his clients while expressing their personal style. His talent lies in his style of contemporary cutting, placement of color and attention to detail. Tylerâ\\x80\\x99s guests appreciate the time that he takes to show them how to style their hair and recreate the look at home. With one of the highest priorities being to maintain the integrity of your hair, Tyler creates an amazing hair salon experience that combines his skills with heart. Tyler knows what your locks have been craving!\\n\\nElle - G Michael Salon Stylist \\n\\nWhether you desire the perfect pixie or long luxurious locks, Elleâ\\x80\\x99s designs will keep you craving more. Having a zenÂ\\xad-like approach to styling and an art-oriented mind, Elle is a hit with all of her guests. With a strong focus in designing menâ\\x80\\x99s and womenâ\\x80\\x99s haircuts that are fashionable, artistic and creative, Elle esteems herself to the highest standards in hair color and cutting. With an appreciation for education, building relationships and having graduated from one of the Top Hair Salon training Institutes in Indianapolis, Indiana, the Aveda Fredricâ\\x80\\x99s Instituteâ\\x80¦â\\x80¦â\\x80¦Elle knows what your locks have been craving!\\n\\nJessica - G Michael Salon Stylist \\n\\nCreating gorgeous dimensional color, flirty and fun haircuts, beautiful blondes and sexy blowouts for your girls night out, this designer covers the full spectrum of hair styling. With hair being the medium for her creative expression, Jessica excels at helping her guests to project the beautiful image they desire. Jessica is confident and at ease offering her guests an eye for the latest styling trends while embracing the classics of the past. Jessica graduated from one of the Top Indianapolis Hair Salon training academies, the Aveda Fredricâ\\x80\\x99s Institute and knows what your locks have been craving!\\n\\nBelinda - G Michael Salon Stylist\\n\\nLeaving no detail unturned, Belindaâ\\x80\\x99s precise hair coloring techniques will leave the most discerning guests both charmed and satisfied. This stylists passion for creating luxurious hair color and on point haircuts is the foundation of Belindaâ\\x80\\x99s reputation in Indy. Traveling to Europe to quench her thirst for advanced education and being Featured on-stage Showcasing current Balayage techniques in Italy, Belinda leaves the lines of communication open to ensure a beautiful result every time that you sit in her chair. If you are looking for a perfectionist immersed in satisfying your well-being, Belinda is your go to! Belinda graduated from one of the Top Indianapolis Hair Salon training academies, Paul Mitchell the School and knows what your locks have been craving!\\n\\nMackenzie - G Michael Salon Stylist \\n\\nInfluenced by current color trends showcased on the runways, in magazines and on reality television, Mackenzieâ\\x80\\x99s brunette color transformations always take center stage. Whether you desire a warm honey shade, rich chocolate tresses or the multi-dimensional Balayage locks that you saw on last nightâ\\x80\\x99s award show, this color expert will have you wondering which other striking hues you could pull off. Creating beautiful blowouts with movement and prescribing the exact products to re-create your new look at home is the finale to your experience with Mackenzie. Graduating from one of the Top Indianapolis Hair Salon training academies and knows what your locks have been craving!\\',\\'Indianapolis\\',\\'United States\\',\\'46240\\',\\'Hair Salon\\')']\n",
      "{'about': \"Voted the BEST Hair Salon in Indianapolis and JUST Named one of the Top 200 Salons in the Country, G Michael Salon is Indy's Exclusive ORIBE Hair Salon!\", 'emails': 'gmichaelsalon@gmail.com', 'description': 'Greg - G Michael Salon Owner\\n\\nGreg Lee and the GMS Artistic Design Team at G Michael Salon, has developed a reputation of exceptionally skilled hair stylists. Their expert technique, attention to detail and his devotion to creating experiences for each guest, has led them to be some of the most sought after stylists in Indy. With advanced hair cutting courses including Vidal Sassoon, Aveda, One-on-One with Nick Arrojo (celebrity hair stylist from television show \"What Not to Wear\") in New York and Misaki at the Juan Juan Salon in Beverly Hills, along with creative color techniques from Vidal Sassoon, the GMS Artistic Design Team is able to envision styles that are designed for each guest.\\n\\nJoe - G Michael Salon Owner\\n\\nAs Owner of G Michael Salon in Indianapolis, Indiana, Joe acts as Salon Concierge while being a liaison for success between staff and guest relations. Joe comes from an extensive career in the the beauty and wellness industry, holding a license in esthetics. Joe spent four years employed with the Top Indianapolis Hair Salon training academy, the Aveda Fredric’s Institute in Indianapolis, overseeing 60+ stylists on the salon training floor as the Guest Services Coordinator. He was responsible for managing and leading the Guest Care team by creating the best experiences and long-term relationships with guests. Joe has a gift for excellent organization and foresight, enabling him to head off challenges that our business could face before they even occur. Joe genuinely enjoys observing the personal impact that each artistic design team member has upon their guests, and seeks to ensure that our guests experiences are always beyond excellent. His highly dynamic approach is a perfect match for the high energy that you will experience as a guest at G Michael Salon.\\n\\nLauren - G Michael Salon Stylist\\n\\nWhether it\\'s a current trend, classic style or a unique look created just for you, Lauren has you covered. Lauren\\'s positive attitude and ability to listen to her guests needs, keeps them coming back to update their looks or to maintain their gorgeous tresses. Lauren graduated from the Top Indianapolis Hair Salon training academy, The Aveda Fredric\\'s Institute with a dual license as a hair stylist and as an esthetician. With advanced training in Wella Hair Color coupled with intense haircutting techniques, you are sure leave G Michael Salon loving your locks and feeling beautiful. Lauren\\'s recent claim to fame is assisting hair salon owner, Greg Lee, with creating a classic curl hair style for Ernest Heminway\\'s grand daughter, Mariel Hemingway on her recent engagements in Indianapolis Indiana. Along with the rest of the G Michael Salon artistic team, Lauren knows what your locks have been craving! \\n\\n\\nMorgan - G Michael Salon Stylist\\n\\nEncompassing sexy, sassy, modern and vintage…Morgan knows what your locks have been craving. Morgan graduated from the Top Indianapolis Hair Salon training academy, The Aveda Fredric\\'s Institute with the highest of honors. Creating killer ombre high lights and haircuts with lots of movement and texture, this G Michael Salon stylist boasts an amazing creative capability. Always pushing herself to the next level, Morgan\\'s range of skills is truly unique. \\n\\nNicole - G Michael Salon Stylist\\n\\nDesigning classic Vidal Sassoon bobs, simple yet flirty waves or that perfect style for your girls night out…Nicole is what your locks have been craving. Nicole graduated from the Top Indianapolis Hair Salon training academy, The Aveda Fredric’s Institute with the highest honors. Nicole’s love for perfectly styled hair will ensure you leave our salon with a gorgeous coif ready for any special event. Nicole has been involved in the Fox 59 segment “Does it Work”. Specializing in creating layers that provide lots of movement and are undetectable, Nicole’s Japanese cutting techniques will leave you wondering why you haven’t experienced G Michael Salon sooner.\\n\\nHannah - G Michael Salon Stylist\\n\\nInspired by endless high fashion magazine photos and celebrities, Hannah effortlessly creates sexy modern looks that are fresh and wearable. Whether it is the perfect beachy blonde, rich brunette or dapper men’s haircut that you desire, you have found your stylist. While creating haircuts that her guests can easily manage day to day is definitely a forte, Hannah also loves to style hair to perfection or give you a sexy chic look. Hannah graduated from one of the Top Indianapolis Hair Salon training academies, The Aveda Fredric’s Institute with the highest of honors and knows what your locks have been craving!\\n\\nAnessa- G Michael Salon Stylist\\n\\nWhere Sophistication meets edgy, you’ll find Anessa. Anessa’s ability to move from a classic Vidal Sassoon bob, to a trendy creative color is seamless. This fierce stylist excels at Illuminating a style or color possibility that her guests may not have envisioned before sitting in her chair. Anessa’s constant appetite for seeking out advanced education and her passion for mastering current trends is paramount. Anessa knows what your locks have been craving!\\n\\nCourtney - G Michael Salon Stylist \\n\\nShowcasing seasonal trendy looks on Fox 59 and known for creating red-carpet worthy locks, Courtney is the master of perfecting romantic hairstyles in Indianapolis and is our Bridal Design Team Leader. Designing the ultimate blonde bombshells and flawless bob haircuts, Courtney is well versed in giving her guests what they crave and creating sexy voluminous blowouts that will have heads turning. Courtney’s most recent claim to Fame is styling an Olympian’s hair to perfection for the widely popular magazine, Live Simple. Delivering big city experiences with a small town feel……….Courtney knows what your locks have been craving!\\n\\nLindsey - G Michael Salon Stylist \\n\\nWhether you’re longing for the perfect layers, on-trend color techniques or luxurious blonde locks, Lindsey’s designs will keep you craving more. Lindsey’s creative vision integrates the harmony of cut and color to create customized looks that bring out the best in her guests while expressing their personal style. With hair being the medium for her creative expression, Lindsey excels at helping her guests to project the beautiful image they desire. Lindsey graduated from one of the Top Indianapolis Hair Salon training academies, the Aveda Fredric’s Institute and knows what your locks have been craving!\\n\\nTyler - G Michael Salon Stylist\\n\\nIf you’re looking for the perfect haircut and color – look no further. Tyler awaits you at G Michael Salon in Indianapolis, Indiana. Tyler’s creative vision integrates the harmony of cut and color to create customized looks that bring out the best in his clients while expressing their personal style. His talent lies in his style of contemporary cutting, placement of color and attention to detail. Tyler’s guests appreciate the time that he takes to show them how to style their hair and recreate the look at home. With one of the highest priorities being to maintain the integrity of your hair, Tyler creates an amazing hair salon experience that combines his skills with heart. Tyler knows what your locks have been craving!\\n\\nElle - G Michael Salon Stylist \\n\\nWhether you desire the perfect pixie or long luxurious locks, Elle’s designs will keep you craving more. Having a zen\\xad-like approach to styling and an art-oriented mind, Elle is a hit with all of her guests. With a strong focus in designing men’s and women’s haircuts that are fashionable, artistic and creative, Elle esteems herself to the highest standards in hair color and cutting. With an appreciation for education, building relationships and having graduated from one of the Top Hair Salon training Institutes in Indianapolis, Indiana, the Aveda Fredric’s Institute………Elle knows what your locks have been craving!\\n\\nJessica - G Michael Salon Stylist \\n\\nCreating gorgeous dimensional color, flirty and fun haircuts, beautiful blondes and sexy blowouts for your girls night out, this designer covers the full spectrum of hair styling. With hair being the medium for her creative expression, Jessica excels at helping her guests to project the beautiful image they desire. Jessica is confident and at ease offering her guests an eye for the latest styling trends while embracing the classics of the past. Jessica graduated from one of the Top Indianapolis Hair Salon training academies, the Aveda Fredric’s Institute and knows what your locks have been craving!\\n\\nBelinda - G Michael Salon Stylist\\n\\nLeaving no detail unturned, Belinda’s precise hair coloring techniques will leave the most discerning guests both charmed and satisfied. This stylists passion for creating luxurious hair color and on point haircuts is the foundation of Belinda’s reputation in Indy. Traveling to Europe to quench her thirst for advanced education and being Featured on-stage Showcasing current Balayage techniques in Italy, Belinda leaves the lines of communication open to ensure a beautiful result every time that you sit in her chair. If you are looking for a perfectionist immersed in satisfying your well-being, Belinda is your go to! Belinda graduated from one of the Top Indianapolis Hair Salon training academies, Paul Mitchell the School and knows what your locks have been craving!\\n\\nMackenzie - G Michael Salon Stylist \\n\\nInfluenced by current color trends showcased on the runways, in magazines and on reality television, Mackenzie’s brunette color transformations always take center stage. Whether you desire a warm honey shade, rich chocolate tresses or the multi-dimensional Balayage locks that you saw on last night’s award show, this color expert will have you wondering which other striking hues you could pull off. Creating beautiful blowouts with movement and prescribing the exact products to re-create your new look at home is the finale to your experience with Mackenzie. Graduating from one of the Top Indianapolis Hair Salon training academies and knows what your locks have been craving!', 'city': 'Indianapolis', 'country': 'United States', 'zip': '46240', 'category': 'Hair Salon'}\n"
     ]
    },
    {
     "name": "stdout",
     "output_type": "stream",
     "text": [
      "Error inserting database: (_mysql_exceptions.ProgrammingError) (1064, \"You have an error in your SQL syntax; check the manual that corresponds to your MySQL server version for the right syntax to use near 'universo e tutto quanto.\\n','Personal Blog')' at line 1\") [SQL: \"INSERT INTO `sentiment_db`.`user_social` (about,category) VALUES ('Gatta pandimensionale atterrata sulla terra al fine di studiare gli umani, alla ricerca della domanda fondamentale sulla vita, l'universo e tutto quanto.\\n','Personal Blog')\"]\n",
      "{'about': \"Gatta pandimensionale atterrata sulla terra al fine di studiare gli umani, alla ricerca della domanda fondamentale sulla vita, l'universo e tutto quanto.\\n\", 'category': 'Personal Blog'}\n",
      "Inserting into table user_social\n",
      "Setting (about,emails,description,category) to values ('Blog di Serena Autorino.\n",
      "Moda, vintage, viaggi, lifestyle, favole.','autorino.serena@gmail.com','Un abito vintage, una guida di Parigi, i capelli in una treccia, biscotti fatti in casa, riviste di moda, peluche Disney. Sono io in pochi dettagli.','Personal Blog')\n",
      "{'about': 'Blog di Serena Autorino.\\nModa, vintage, viaggi, lifestyle, favole.', 'emails': 'autorino.serena@gmail.com', 'description': 'Un abito vintage, una guida di Parigi, i capelli in una treccia, biscotti fatti in casa, riviste di moda, peluche Disney. Sono io in pochi dettagli.', 'category': 'Personal Blog'}\n",
      "Error inserting database: (_mysql_exceptions.ProgrammingError) (1064, \"You have an error in your SQL syntax; check the manual that corresponds to your MySQL server version for the right syntax to use near 'm The Blonde, also known as ZoÃ«\\n\\nI'm a 30-something year old living in Bristo' at line 1\") [SQL: \"INSERT INTO `sentiment_db`.`user_social` (about,emails,description,city,country,category) VALUES ('Lifestyle Blogger, Bristol, UK. \\n\\nI like white furniture and adventures!','theblondeblog@hotmail.com','Hello I'm The Blonde, also known as ZoÃ«\\n\\nI'm a 30-something year old living in Bristol. Welcome to an insight into my love for fashion, beauty, home decor, events and travel!','Bristol','United Kingdom','Personal Blog')\"]\n",
      "{'about': 'Lifestyle Blogger, Bristol, UK. \\n\\nI like white furniture and adventures!', 'emails': 'theblondeblog@hotmail.com', 'description': \"Hello I'm The Blonde, also known as Zoë\\n\\nI'm a 30-something year old living in Bristol. Welcome to an insight into my love for fashion, beauty, home decor, events and travel!\", 'city': 'Bristol', 'country': 'United Kingdom', 'category': 'Personal Blog'}\n",
      "Inserting into table user_social\n",
      "Setting (about,emails,city,country,zip,category) to values ('Gaia & Nina Blog | Proud mama of 2 girls â¡ | Mamaâs & Miniâs Fashion | Lifestyle | Follow us @gaiaandnina','gaianinapace@gmail.com','Valletta','Malta','Vlt','Just For Fun')\n",
      "{'about': 'Gaia & Nina Blog | Proud mama of 2 girls ♡ | Mama’s & Mini’s Fashion | Lifestyle | Follow us @gaiaandnina', 'emails': 'gaianinapace@gmail.com', 'city': 'Valletta', 'country': 'Malta', 'zip': 'Vlt', 'category': 'Just For Fun'}\n",
      "Inserting into table user_social\n",
      "Setting (birthday,about,category) to values ('02/21/2014','ADDINOL: Ð¿ÑÐ¾ÑÐµÑÑÐ¸Ð¾Ð½Ð°Ð»Ñ Ð² Ð¾Ð±Ð»Ð°ÑÑÐ¸ Ð²ÑÑÐ¾ÐºÐ¾ÑÑÑÐµÐºÑÐ¸Ð²Ð½ÑÑ",
      " ÑÐ¼Ð°Ð·Ð¾ÑÐ½ÑÑ",
      " Ð¼Ð°ÑÐµÑÐ¸Ð°Ð»Ð¾Ð²','Product/Service')\n",
      "{'birthday': '02/21/2014', 'about': 'ADDINOL: профессионалы в области высокоэффективных смазочных материалов', 'category': 'Product/Service'}\n",
      "Inserting into table user_social\n",
      "Setting (about,emails,category) to values ('ART DIRECTION / IMAGE MAKER\n",
      "www.nadiaflower.com\n",
      "http://instagram.com/nadiaflowerdesign','nadia@nadiaflower.com','Fashion')\n",
      "{'about': 'ART DIRECTION / IMAGE MAKER\\nwww.nadiaflower.com\\nhttp://instagram.com/nadiaflowerdesign', 'emails': 'nadia@nadiaflower.com', 'category': 'Fashion'}\n",
      "Inserting into table user_social\n",
      "Setting (birthday,about,description,category) to values ('01/01/2013','The Motoring World aims to provide news & info on new cars, new versions, motor shows & generally LOTS of motoring stuff, please enjoy & pass the page on.','With access to the latest press releases from all the motor manufacturers both in the UK, Ireland and the US, I will try to be as up to date as possible, and in some cases I post the items before the major magazines.\n",
      "\n",
      "Anyway, please enjoy the posts, and feel free to comment, and by all means pass on the The Motoring World Facebook page, Blog and Twitter to all your friends, the more the merrier.\n",
      "\n",
      "http://themotoringworld.homestead.com/index.html','Personal Website')\n",
      "{'birthday': '01/01/2013', 'about': 'The Motoring World aims to provide news & info on new cars, new versions, motor shows & generally LOTS of motoring stuff, please enjoy & pass the page on.', 'description': 'With access to the latest press releases from all the motor manufacturers both in the UK, Ireland and the US, I will try to be as up to date as possible, and in some cases I post the items before the major magazines.\\n\\nAnyway, please enjoy the posts, and feel free to comment, and by all means pass on the The Motoring World Facebook page, Blog and Twitter to all your friends, the more the merrier.\\n\\nhttp://themotoringworld.homestead.com/index.html', 'category': 'Personal Website'}\n"
     ]
    },
    {
     "ename": "KeyboardInterrupt",
     "evalue": "",
     "output_type": "error",
     "traceback": [
      "\u001b[1;31m---------------------------------------------------------------------------\u001b[0m",
      "\u001b[1;31mTypeError\u001b[0m                                 Traceback (most recent call last)",
      "\u001b[1;32m~\\Miniconda3\\envs\\thesis\\lib\\site-packages\\requests\\packages\\urllib3\\connectionpool.py\u001b[0m in \u001b[0;36m_make_request\u001b[1;34m(self, conn, method, url, timeout, chunked, **httplib_request_kw)\u001b[0m\n\u001b[0;32m    378\u001b[0m             \u001b[1;32mtry\u001b[0m\u001b[1;33m:\u001b[0m  \u001b[1;31m# Python 2.7, use buffering of HTTP responses\u001b[0m\u001b[1;33m\u001b[0m\u001b[0m\n\u001b[1;32m--> 379\u001b[1;33m                 \u001b[0mhttplib_response\u001b[0m \u001b[1;33m=\u001b[0m \u001b[0mconn\u001b[0m\u001b[1;33m.\u001b[0m\u001b[0mgetresponse\u001b[0m\u001b[1;33m(\u001b[0m\u001b[0mbuffering\u001b[0m\u001b[1;33m=\u001b[0m\u001b[1;32mTrue\u001b[0m\u001b[1;33m)\u001b[0m\u001b[1;33m\u001b[0m\u001b[0m\n\u001b[0m\u001b[0;32m    380\u001b[0m             \u001b[1;32mexcept\u001b[0m \u001b[0mTypeError\u001b[0m\u001b[1;33m:\u001b[0m  \u001b[1;31m# Python 2.6 and older, Python 3\u001b[0m\u001b[1;33m\u001b[0m\u001b[0m\n",
      "\u001b[1;31mTypeError\u001b[0m: getresponse() got an unexpected keyword argument 'buffering'",
      "\nDuring handling of the above exception, another exception occurred:\n",
      "\u001b[1;31mKeyboardInterrupt\u001b[0m                         Traceback (most recent call last)",
      "\u001b[1;32m<ipython-input-20-818b09a26f2e>\u001b[0m in \u001b[0;36m<module>\u001b[1;34m()\u001b[0m\n\u001b[0;32m      1\u001b[0m \u001b[1;32mfor\u001b[0m \u001b[0muid\u001b[0m \u001b[1;32min\u001b[0m \u001b[0muser_ids\u001b[0m\u001b[1;33m:\u001b[0m\u001b[1;33m\u001b[0m\u001b[0m\n\u001b[1;32m----> 2\u001b[1;33m     \u001b[0mfu\u001b[0m \u001b[1;33m=\u001b[0m \u001b[0mfb\u001b[0m\u001b[1;33m.\u001b[0m\u001b[0mrequest\u001b[0m\u001b[1;33m(\u001b[0m\u001b[0mids\u001b[0m\u001b[1;33m=\u001b[0m\u001b[1;33m[\u001b[0m\u001b[0muid\u001b[0m\u001b[1;33m]\u001b[0m\u001b[1;33m)\u001b[0m\u001b[1;33m\u001b[0m\u001b[0m\n\u001b[0m\u001b[0;32m      3\u001b[0m     \u001b[1;32mif\u001b[0m \u001b[0mfu\u001b[0m \u001b[1;32mis\u001b[0m \u001b[1;32mnot\u001b[0m \u001b[1;32mNone\u001b[0m\u001b[1;33m:\u001b[0m\u001b[1;33m\u001b[0m\u001b[0m\n\u001b[0;32m      4\u001b[0m         \u001b[0mcomment_db\u001b[0m\u001b[1;33m.\u001b[0m\u001b[0minsert\u001b[0m\u001b[1;33m(\u001b[0m\u001b[0mtable\u001b[0m\u001b[1;33m=\u001b[0m\u001b[1;34m'user_social'\u001b[0m\u001b[1;33m,\u001b[0m \u001b[0mcolumn_value\u001b[0m\u001b[1;33m=\u001b[0m\u001b[0mfu\u001b[0m\u001b[1;33m)\u001b[0m\u001b[1;33m\u001b[0m\u001b[0m\n\u001b[0;32m      5\u001b[0m         \u001b[0mprint\u001b[0m\u001b[1;33m(\u001b[0m\u001b[0mfu\u001b[0m\u001b[1;33m)\u001b[0m\u001b[1;33m\u001b[0m\u001b[0m\n",
      "\u001b[1;32mD:\\Politecnico di Milano\\Semester 4\\ThesisPolimi\\SentimentAnalysis\\2-UserClusters\\utils\\api_utils\\facebook_api.py\u001b[0m in \u001b[0;36mrequest\u001b[1;34m(self, ids, fields)\u001b[0m\n\u001b[0;32m     13\u001b[0m                 \u001b[0mids_string\u001b[0m \u001b[1;33m=\u001b[0m \u001b[1;34m','\u001b[0m\u001b[1;33m.\u001b[0m\u001b[0mjoin\u001b[0m\u001b[1;33m(\u001b[0m\u001b[0mx\u001b[0m \u001b[1;32mfor\u001b[0m \u001b[0mx\u001b[0m \u001b[1;32min\u001b[0m \u001b[0mids\u001b[0m\u001b[1;33m)\u001b[0m\u001b[1;33m\u001b[0m\u001b[0m\n\u001b[0;32m     14\u001b[0m                 \u001b[1;32mtry\u001b[0m\u001b[1;33m:\u001b[0m\u001b[1;33m\u001b[0m\u001b[0m\n\u001b[1;32m---> 15\u001b[1;33m                         \u001b[0mself\u001b[0m\u001b[1;33m.\u001b[0m\u001b[0mresponse\u001b[0m \u001b[1;33m=\u001b[0m \u001b[0mself\u001b[0m\u001b[1;33m.\u001b[0m\u001b[0mgraph\u001b[0m\u001b[1;33m.\u001b[0m\u001b[0mrequest\u001b[0m\u001b[1;33m(\u001b[0m\u001b[1;34m'/?ids=%s&fields=%s'\u001b[0m \u001b[1;33m%\u001b[0m \u001b[1;33m(\u001b[0m\u001b[0mids_string\u001b[0m\u001b[1;33m,\u001b[0m \u001b[0mfields\u001b[0m\u001b[1;33m)\u001b[0m\u001b[1;33m)\u001b[0m\u001b[1;33m\u001b[0m\u001b[0m\n\u001b[0m\u001b[0;32m     16\u001b[0m                         \u001b[1;32mif\u001b[0m \u001b[0mlen\u001b[0m\u001b[1;33m(\u001b[0m\u001b[0mself\u001b[0m\u001b[1;33m.\u001b[0m\u001b[0mresponse\u001b[0m\u001b[1;33m.\u001b[0m\u001b[0mitems\u001b[0m\u001b[1;33m(\u001b[0m\u001b[1;33m)\u001b[0m\u001b[1;33m)\u001b[0m \u001b[1;33m==\u001b[0m \u001b[1;36m1\u001b[0m\u001b[1;33m:\u001b[0m\u001b[1;33m\u001b[0m\u001b[0m\n\u001b[0;32m     17\u001b[0m                                 \u001b[1;32mreturn\u001b[0m \u001b[0mself\u001b[0m\u001b[1;33m.\u001b[0m\u001b[0mformat_json\u001b[0m\u001b[1;33m(\u001b[0m\u001b[0mself\u001b[0m\u001b[1;33m.\u001b[0m\u001b[0mresponse\u001b[0m\u001b[1;33m[\u001b[0m\u001b[0mids\u001b[0m\u001b[1;33m[\u001b[0m\u001b[1;36m0\u001b[0m\u001b[1;33m]\u001b[0m\u001b[1;33m]\u001b[0m\u001b[1;33m)\u001b[0m\u001b[1;33m\u001b[0m\u001b[0m\n",
      "\u001b[1;32m~\\Miniconda3\\envs\\thesis\\lib\\site-packages\\facebook\\__init__.py\u001b[0m in \u001b[0;36mrequest\u001b[1;34m(self, path, args, post_args, files, method)\u001b[0m\n\u001b[0;32m    245\u001b[0m                                         \u001b[0mdata\u001b[0m\u001b[1;33m=\u001b[0m\u001b[0mpost_args\u001b[0m\u001b[1;33m,\u001b[0m\u001b[1;33m\u001b[0m\u001b[0m\n\u001b[0;32m    246\u001b[0m                                         \u001b[0mproxies\u001b[0m\u001b[1;33m=\u001b[0m\u001b[0mself\u001b[0m\u001b[1;33m.\u001b[0m\u001b[0mproxies\u001b[0m\u001b[1;33m,\u001b[0m\u001b[1;33m\u001b[0m\u001b[0m\n\u001b[1;32m--> 247\u001b[1;33m                                         files=files)\n\u001b[0m\u001b[0;32m    248\u001b[0m         \u001b[1;32mexcept\u001b[0m \u001b[0mrequests\u001b[0m\u001b[1;33m.\u001b[0m\u001b[0mHTTPError\u001b[0m \u001b[1;32mas\u001b[0m \u001b[0me\u001b[0m\u001b[1;33m:\u001b[0m\u001b[1;33m\u001b[0m\u001b[0m\n\u001b[0;32m    249\u001b[0m             \u001b[0mresponse\u001b[0m \u001b[1;33m=\u001b[0m \u001b[0mjson\u001b[0m\u001b[1;33m.\u001b[0m\u001b[0mloads\u001b[0m\u001b[1;33m(\u001b[0m\u001b[0me\u001b[0m\u001b[1;33m.\u001b[0m\u001b[0mread\u001b[0m\u001b[1;33m(\u001b[0m\u001b[1;33m)\u001b[0m\u001b[1;33m)\u001b[0m\u001b[1;33m\u001b[0m\u001b[0m\n",
      "\u001b[1;32m~\\Miniconda3\\envs\\thesis\\lib\\site-packages\\requests\\api.py\u001b[0m in \u001b[0;36mrequest\u001b[1;34m(method, url, **kwargs)\u001b[0m\n\u001b[0;32m     56\u001b[0m     \u001b[1;31m# cases, and look like a memory leak in others.\u001b[0m\u001b[1;33m\u001b[0m\u001b[1;33m\u001b[0m\u001b[0m\n\u001b[0;32m     57\u001b[0m     \u001b[1;32mwith\u001b[0m \u001b[0msessions\u001b[0m\u001b[1;33m.\u001b[0m\u001b[0mSession\u001b[0m\u001b[1;33m(\u001b[0m\u001b[1;33m)\u001b[0m \u001b[1;32mas\u001b[0m \u001b[0msession\u001b[0m\u001b[1;33m:\u001b[0m\u001b[1;33m\u001b[0m\u001b[0m\n\u001b[1;32m---> 58\u001b[1;33m         \u001b[1;32mreturn\u001b[0m \u001b[0msession\u001b[0m\u001b[1;33m.\u001b[0m\u001b[0mrequest\u001b[0m\u001b[1;33m(\u001b[0m\u001b[0mmethod\u001b[0m\u001b[1;33m=\u001b[0m\u001b[0mmethod\u001b[0m\u001b[1;33m,\u001b[0m \u001b[0murl\u001b[0m\u001b[1;33m=\u001b[0m\u001b[0murl\u001b[0m\u001b[1;33m,\u001b[0m \u001b[1;33m**\u001b[0m\u001b[0mkwargs\u001b[0m\u001b[1;33m)\u001b[0m\u001b[1;33m\u001b[0m\u001b[0m\n\u001b[0m\u001b[0;32m     59\u001b[0m \u001b[1;33m\u001b[0m\u001b[0m\n\u001b[0;32m     60\u001b[0m \u001b[1;33m\u001b[0m\u001b[0m\n",
      "\u001b[1;32m~\\Miniconda3\\envs\\thesis\\lib\\site-packages\\requests\\sessions.py\u001b[0m in \u001b[0;36mrequest\u001b[1;34m(self, method, url, params, data, headers, cookies, files, auth, timeout, allow_redirects, proxies, hooks, stream, verify, cert, json)\u001b[0m\n\u001b[0;32m    516\u001b[0m         }\n\u001b[0;32m    517\u001b[0m         \u001b[0msend_kwargs\u001b[0m\u001b[1;33m.\u001b[0m\u001b[0mupdate\u001b[0m\u001b[1;33m(\u001b[0m\u001b[0msettings\u001b[0m\u001b[1;33m)\u001b[0m\u001b[1;33m\u001b[0m\u001b[0m\n\u001b[1;32m--> 518\u001b[1;33m         \u001b[0mresp\u001b[0m \u001b[1;33m=\u001b[0m \u001b[0mself\u001b[0m\u001b[1;33m.\u001b[0m\u001b[0msend\u001b[0m\u001b[1;33m(\u001b[0m\u001b[0mprep\u001b[0m\u001b[1;33m,\u001b[0m \u001b[1;33m**\u001b[0m\u001b[0msend_kwargs\u001b[0m\u001b[1;33m)\u001b[0m\u001b[1;33m\u001b[0m\u001b[0m\n\u001b[0m\u001b[0;32m    519\u001b[0m \u001b[1;33m\u001b[0m\u001b[0m\n\u001b[0;32m    520\u001b[0m         \u001b[1;32mreturn\u001b[0m \u001b[0mresp\u001b[0m\u001b[1;33m\u001b[0m\u001b[0m\n",
      "\u001b[1;32m~\\Miniconda3\\envs\\thesis\\lib\\site-packages\\requests\\sessions.py\u001b[0m in \u001b[0;36msend\u001b[1;34m(self, request, **kwargs)\u001b[0m\n\u001b[0;32m    637\u001b[0m \u001b[1;33m\u001b[0m\u001b[0m\n\u001b[0;32m    638\u001b[0m         \u001b[1;31m# Send the request\u001b[0m\u001b[1;33m\u001b[0m\u001b[1;33m\u001b[0m\u001b[0m\n\u001b[1;32m--> 639\u001b[1;33m         \u001b[0mr\u001b[0m \u001b[1;33m=\u001b[0m \u001b[0madapter\u001b[0m\u001b[1;33m.\u001b[0m\u001b[0msend\u001b[0m\u001b[1;33m(\u001b[0m\u001b[0mrequest\u001b[0m\u001b[1;33m,\u001b[0m \u001b[1;33m**\u001b[0m\u001b[0mkwargs\u001b[0m\u001b[1;33m)\u001b[0m\u001b[1;33m\u001b[0m\u001b[0m\n\u001b[0m\u001b[0;32m    640\u001b[0m \u001b[1;33m\u001b[0m\u001b[0m\n\u001b[0;32m    641\u001b[0m         \u001b[1;31m# Total elapsed time of the request (approximately)\u001b[0m\u001b[1;33m\u001b[0m\u001b[1;33m\u001b[0m\u001b[0m\n",
      "\u001b[1;32m~\\Miniconda3\\envs\\thesis\\lib\\site-packages\\requests\\adapters.py\u001b[0m in \u001b[0;36msend\u001b[1;34m(self, request, stream, timeout, verify, cert, proxies)\u001b[0m\n\u001b[0;32m    436\u001b[0m                     \u001b[0mdecode_content\u001b[0m\u001b[1;33m=\u001b[0m\u001b[1;32mFalse\u001b[0m\u001b[1;33m,\u001b[0m\u001b[1;33m\u001b[0m\u001b[0m\n\u001b[0;32m    437\u001b[0m                     \u001b[0mretries\u001b[0m\u001b[1;33m=\u001b[0m\u001b[0mself\u001b[0m\u001b[1;33m.\u001b[0m\u001b[0mmax_retries\u001b[0m\u001b[1;33m,\u001b[0m\u001b[1;33m\u001b[0m\u001b[0m\n\u001b[1;32m--> 438\u001b[1;33m                     \u001b[0mtimeout\u001b[0m\u001b[1;33m=\u001b[0m\u001b[0mtimeout\u001b[0m\u001b[1;33m\u001b[0m\u001b[0m\n\u001b[0m\u001b[0;32m    439\u001b[0m                 )\n\u001b[0;32m    440\u001b[0m \u001b[1;33m\u001b[0m\u001b[0m\n",
      "\u001b[1;32m~\\Miniconda3\\envs\\thesis\\lib\\site-packages\\requests\\packages\\urllib3\\connectionpool.py\u001b[0m in \u001b[0;36murlopen\u001b[1;34m(self, method, url, body, headers, retries, redirect, assert_same_host, timeout, pool_timeout, release_conn, chunked, body_pos, **response_kw)\u001b[0m\n\u001b[0;32m    598\u001b[0m                                                   \u001b[0mtimeout\u001b[0m\u001b[1;33m=\u001b[0m\u001b[0mtimeout_obj\u001b[0m\u001b[1;33m,\u001b[0m\u001b[1;33m\u001b[0m\u001b[0m\n\u001b[0;32m    599\u001b[0m                                                   \u001b[0mbody\u001b[0m\u001b[1;33m=\u001b[0m\u001b[0mbody\u001b[0m\u001b[1;33m,\u001b[0m \u001b[0mheaders\u001b[0m\u001b[1;33m=\u001b[0m\u001b[0mheaders\u001b[0m\u001b[1;33m,\u001b[0m\u001b[1;33m\u001b[0m\u001b[0m\n\u001b[1;32m--> 600\u001b[1;33m                                                   chunked=chunked)\n\u001b[0m\u001b[0;32m    601\u001b[0m \u001b[1;33m\u001b[0m\u001b[0m\n\u001b[0;32m    602\u001b[0m             \u001b[1;31m# If we're going to release the connection in ``finally:``, then\u001b[0m\u001b[1;33m\u001b[0m\u001b[1;33m\u001b[0m\u001b[0m\n",
      "\u001b[1;32m~\\Miniconda3\\envs\\thesis\\lib\\site-packages\\requests\\packages\\urllib3\\connectionpool.py\u001b[0m in \u001b[0;36m_make_request\u001b[1;34m(self, conn, method, url, timeout, chunked, **httplib_request_kw)\u001b[0m\n\u001b[0;32m    380\u001b[0m             \u001b[1;32mexcept\u001b[0m \u001b[0mTypeError\u001b[0m\u001b[1;33m:\u001b[0m  \u001b[1;31m# Python 2.6 and older, Python 3\u001b[0m\u001b[1;33m\u001b[0m\u001b[0m\n\u001b[0;32m    381\u001b[0m                 \u001b[1;32mtry\u001b[0m\u001b[1;33m:\u001b[0m\u001b[1;33m\u001b[0m\u001b[0m\n\u001b[1;32m--> 382\u001b[1;33m                     \u001b[0mhttplib_response\u001b[0m \u001b[1;33m=\u001b[0m \u001b[0mconn\u001b[0m\u001b[1;33m.\u001b[0m\u001b[0mgetresponse\u001b[0m\u001b[1;33m(\u001b[0m\u001b[1;33m)\u001b[0m\u001b[1;33m\u001b[0m\u001b[0m\n\u001b[0m\u001b[0;32m    383\u001b[0m                 \u001b[1;32mexcept\u001b[0m \u001b[0mException\u001b[0m \u001b[1;32mas\u001b[0m \u001b[0me\u001b[0m\u001b[1;33m:\u001b[0m\u001b[1;33m\u001b[0m\u001b[0m\n\u001b[0;32m    384\u001b[0m                     \u001b[1;31m# Remove the TypeError from the exception chain in Python 3;\u001b[0m\u001b[1;33m\u001b[0m\u001b[1;33m\u001b[0m\u001b[0m\n",
      "\u001b[1;32m~\\Miniconda3\\envs\\thesis\\lib\\http\\client.py\u001b[0m in \u001b[0;36mgetresponse\u001b[1;34m(self)\u001b[0m\n\u001b[0;32m   1329\u001b[0m         \u001b[1;32mtry\u001b[0m\u001b[1;33m:\u001b[0m\u001b[1;33m\u001b[0m\u001b[0m\n\u001b[0;32m   1330\u001b[0m             \u001b[1;32mtry\u001b[0m\u001b[1;33m:\u001b[0m\u001b[1;33m\u001b[0m\u001b[0m\n\u001b[1;32m-> 1331\u001b[1;33m                 \u001b[0mresponse\u001b[0m\u001b[1;33m.\u001b[0m\u001b[0mbegin\u001b[0m\u001b[1;33m(\u001b[0m\u001b[1;33m)\u001b[0m\u001b[1;33m\u001b[0m\u001b[0m\n\u001b[0m\u001b[0;32m   1332\u001b[0m             \u001b[1;32mexcept\u001b[0m \u001b[0mConnectionError\u001b[0m\u001b[1;33m:\u001b[0m\u001b[1;33m\u001b[0m\u001b[0m\n\u001b[0;32m   1333\u001b[0m                 \u001b[0mself\u001b[0m\u001b[1;33m.\u001b[0m\u001b[0mclose\u001b[0m\u001b[1;33m(\u001b[0m\u001b[1;33m)\u001b[0m\u001b[1;33m\u001b[0m\u001b[0m\n",
      "\u001b[1;32m~\\Miniconda3\\envs\\thesis\\lib\\http\\client.py\u001b[0m in \u001b[0;36mbegin\u001b[1;34m(self)\u001b[0m\n\u001b[0;32m    295\u001b[0m         \u001b[1;31m# read until we get a non-100 response\u001b[0m\u001b[1;33m\u001b[0m\u001b[1;33m\u001b[0m\u001b[0m\n\u001b[0;32m    296\u001b[0m         \u001b[1;32mwhile\u001b[0m \u001b[1;32mTrue\u001b[0m\u001b[1;33m:\u001b[0m\u001b[1;33m\u001b[0m\u001b[0m\n\u001b[1;32m--> 297\u001b[1;33m             \u001b[0mversion\u001b[0m\u001b[1;33m,\u001b[0m \u001b[0mstatus\u001b[0m\u001b[1;33m,\u001b[0m \u001b[0mreason\u001b[0m \u001b[1;33m=\u001b[0m \u001b[0mself\u001b[0m\u001b[1;33m.\u001b[0m\u001b[0m_read_status\u001b[0m\u001b[1;33m(\u001b[0m\u001b[1;33m)\u001b[0m\u001b[1;33m\u001b[0m\u001b[0m\n\u001b[0m\u001b[0;32m    298\u001b[0m             \u001b[1;32mif\u001b[0m \u001b[0mstatus\u001b[0m \u001b[1;33m!=\u001b[0m \u001b[0mCONTINUE\u001b[0m\u001b[1;33m:\u001b[0m\u001b[1;33m\u001b[0m\u001b[0m\n\u001b[0;32m    299\u001b[0m                 \u001b[1;32mbreak\u001b[0m\u001b[1;33m\u001b[0m\u001b[0m\n",
      "\u001b[1;32m~\\Miniconda3\\envs\\thesis\\lib\\http\\client.py\u001b[0m in \u001b[0;36m_read_status\u001b[1;34m(self)\u001b[0m\n\u001b[0;32m    256\u001b[0m \u001b[1;33m\u001b[0m\u001b[0m\n\u001b[0;32m    257\u001b[0m     \u001b[1;32mdef\u001b[0m \u001b[0m_read_status\u001b[0m\u001b[1;33m(\u001b[0m\u001b[0mself\u001b[0m\u001b[1;33m)\u001b[0m\u001b[1;33m:\u001b[0m\u001b[1;33m\u001b[0m\u001b[0m\n\u001b[1;32m--> 258\u001b[1;33m         \u001b[0mline\u001b[0m \u001b[1;33m=\u001b[0m \u001b[0mstr\u001b[0m\u001b[1;33m(\u001b[0m\u001b[0mself\u001b[0m\u001b[1;33m.\u001b[0m\u001b[0mfp\u001b[0m\u001b[1;33m.\u001b[0m\u001b[0mreadline\u001b[0m\u001b[1;33m(\u001b[0m\u001b[0m_MAXLINE\u001b[0m \u001b[1;33m+\u001b[0m \u001b[1;36m1\u001b[0m\u001b[1;33m)\u001b[0m\u001b[1;33m,\u001b[0m \u001b[1;34m\"iso-8859-1\"\u001b[0m\u001b[1;33m)\u001b[0m\u001b[1;33m\u001b[0m\u001b[0m\n\u001b[0m\u001b[0;32m    259\u001b[0m         \u001b[1;32mif\u001b[0m \u001b[0mlen\u001b[0m\u001b[1;33m(\u001b[0m\u001b[0mline\u001b[0m\u001b[1;33m)\u001b[0m \u001b[1;33m>\u001b[0m \u001b[0m_MAXLINE\u001b[0m\u001b[1;33m:\u001b[0m\u001b[1;33m\u001b[0m\u001b[0m\n\u001b[0;32m    260\u001b[0m             \u001b[1;32mraise\u001b[0m \u001b[0mLineTooLong\u001b[0m\u001b[1;33m(\u001b[0m\u001b[1;34m\"status line\"\u001b[0m\u001b[1;33m)\u001b[0m\u001b[1;33m\u001b[0m\u001b[0m\n",
      "\u001b[1;32m~\\Miniconda3\\envs\\thesis\\lib\\socket.py\u001b[0m in \u001b[0;36mreadinto\u001b[1;34m(self, b)\u001b[0m\n\u001b[0;32m    584\u001b[0m         \u001b[1;32mwhile\u001b[0m \u001b[1;32mTrue\u001b[0m\u001b[1;33m:\u001b[0m\u001b[1;33m\u001b[0m\u001b[0m\n\u001b[0;32m    585\u001b[0m             \u001b[1;32mtry\u001b[0m\u001b[1;33m:\u001b[0m\u001b[1;33m\u001b[0m\u001b[0m\n\u001b[1;32m--> 586\u001b[1;33m                 \u001b[1;32mreturn\u001b[0m \u001b[0mself\u001b[0m\u001b[1;33m.\u001b[0m\u001b[0m_sock\u001b[0m\u001b[1;33m.\u001b[0m\u001b[0mrecv_into\u001b[0m\u001b[1;33m(\u001b[0m\u001b[0mb\u001b[0m\u001b[1;33m)\u001b[0m\u001b[1;33m\u001b[0m\u001b[0m\n\u001b[0m\u001b[0;32m    587\u001b[0m             \u001b[1;32mexcept\u001b[0m \u001b[0mtimeout\u001b[0m\u001b[1;33m:\u001b[0m\u001b[1;33m\u001b[0m\u001b[0m\n\u001b[0;32m    588\u001b[0m                 \u001b[0mself\u001b[0m\u001b[1;33m.\u001b[0m\u001b[0m_timeout_occurred\u001b[0m \u001b[1;33m=\u001b[0m \u001b[1;32mTrue\u001b[0m\u001b[1;33m\u001b[0m\u001b[0m\n",
      "\u001b[1;32m~\\Miniconda3\\envs\\thesis\\lib\\ssl.py\u001b[0m in \u001b[0;36mrecv_into\u001b[1;34m(self, buffer, nbytes, flags)\u001b[0m\n\u001b[0;32m   1000\u001b[0m                   \u001b[1;34m\"non-zero flags not allowed in calls to recv_into() on %s\"\u001b[0m \u001b[1;33m%\u001b[0m\u001b[1;33m\u001b[0m\u001b[0m\n\u001b[0;32m   1001\u001b[0m                   self.__class__)\n\u001b[1;32m-> 1002\u001b[1;33m             \u001b[1;32mreturn\u001b[0m \u001b[0mself\u001b[0m\u001b[1;33m.\u001b[0m\u001b[0mread\u001b[0m\u001b[1;33m(\u001b[0m\u001b[0mnbytes\u001b[0m\u001b[1;33m,\u001b[0m \u001b[0mbuffer\u001b[0m\u001b[1;33m)\u001b[0m\u001b[1;33m\u001b[0m\u001b[0m\n\u001b[0m\u001b[0;32m   1003\u001b[0m         \u001b[1;32melse\u001b[0m\u001b[1;33m:\u001b[0m\u001b[1;33m\u001b[0m\u001b[0m\n\u001b[0;32m   1004\u001b[0m             \u001b[1;32mreturn\u001b[0m \u001b[0msocket\u001b[0m\u001b[1;33m.\u001b[0m\u001b[0mrecv_into\u001b[0m\u001b[1;33m(\u001b[0m\u001b[0mself\u001b[0m\u001b[1;33m,\u001b[0m \u001b[0mbuffer\u001b[0m\u001b[1;33m,\u001b[0m \u001b[0mnbytes\u001b[0m\u001b[1;33m,\u001b[0m \u001b[0mflags\u001b[0m\u001b[1;33m)\u001b[0m\u001b[1;33m\u001b[0m\u001b[0m\n",
      "\u001b[1;32m~\\Miniconda3\\envs\\thesis\\lib\\ssl.py\u001b[0m in \u001b[0;36mread\u001b[1;34m(self, len, buffer)\u001b[0m\n\u001b[0;32m    863\u001b[0m             \u001b[1;32mraise\u001b[0m \u001b[0mValueError\u001b[0m\u001b[1;33m(\u001b[0m\u001b[1;34m\"Read on closed or unwrapped SSL socket.\"\u001b[0m\u001b[1;33m)\u001b[0m\u001b[1;33m\u001b[0m\u001b[0m\n\u001b[0;32m    864\u001b[0m         \u001b[1;32mtry\u001b[0m\u001b[1;33m:\u001b[0m\u001b[1;33m\u001b[0m\u001b[0m\n\u001b[1;32m--> 865\u001b[1;33m             \u001b[1;32mreturn\u001b[0m \u001b[0mself\u001b[0m\u001b[1;33m.\u001b[0m\u001b[0m_sslobj\u001b[0m\u001b[1;33m.\u001b[0m\u001b[0mread\u001b[0m\u001b[1;33m(\u001b[0m\u001b[0mlen\u001b[0m\u001b[1;33m,\u001b[0m \u001b[0mbuffer\u001b[0m\u001b[1;33m)\u001b[0m\u001b[1;33m\u001b[0m\u001b[0m\n\u001b[0m\u001b[0;32m    866\u001b[0m         \u001b[1;32mexcept\u001b[0m \u001b[0mSSLError\u001b[0m \u001b[1;32mas\u001b[0m \u001b[0mx\u001b[0m\u001b[1;33m:\u001b[0m\u001b[1;33m\u001b[0m\u001b[0m\n\u001b[0;32m    867\u001b[0m             \u001b[1;32mif\u001b[0m \u001b[0mx\u001b[0m\u001b[1;33m.\u001b[0m\u001b[0margs\u001b[0m\u001b[1;33m[\u001b[0m\u001b[1;36m0\u001b[0m\u001b[1;33m]\u001b[0m \u001b[1;33m==\u001b[0m \u001b[0mSSL_ERROR_EOF\u001b[0m \u001b[1;32mand\u001b[0m \u001b[0mself\u001b[0m\u001b[1;33m.\u001b[0m\u001b[0msuppress_ragged_eofs\u001b[0m\u001b[1;33m:\u001b[0m\u001b[1;33m\u001b[0m\u001b[0m\n",
      "\u001b[1;32m~\\Miniconda3\\envs\\thesis\\lib\\ssl.py\u001b[0m in \u001b[0;36mread\u001b[1;34m(self, len, buffer)\u001b[0m\n\u001b[0;32m    623\u001b[0m         \"\"\"\n\u001b[0;32m    624\u001b[0m         \u001b[1;32mif\u001b[0m \u001b[0mbuffer\u001b[0m \u001b[1;32mis\u001b[0m \u001b[1;32mnot\u001b[0m \u001b[1;32mNone\u001b[0m\u001b[1;33m:\u001b[0m\u001b[1;33m\u001b[0m\u001b[0m\n\u001b[1;32m--> 625\u001b[1;33m             \u001b[0mv\u001b[0m \u001b[1;33m=\u001b[0m \u001b[0mself\u001b[0m\u001b[1;33m.\u001b[0m\u001b[0m_sslobj\u001b[0m\u001b[1;33m.\u001b[0m\u001b[0mread\u001b[0m\u001b[1;33m(\u001b[0m\u001b[0mlen\u001b[0m\u001b[1;33m,\u001b[0m \u001b[0mbuffer\u001b[0m\u001b[1;33m)\u001b[0m\u001b[1;33m\u001b[0m\u001b[0m\n\u001b[0m\u001b[0;32m    626\u001b[0m         \u001b[1;32melse\u001b[0m\u001b[1;33m:\u001b[0m\u001b[1;33m\u001b[0m\u001b[0m\n\u001b[0;32m    627\u001b[0m             \u001b[0mv\u001b[0m \u001b[1;33m=\u001b[0m \u001b[0mself\u001b[0m\u001b[1;33m.\u001b[0m\u001b[0m_sslobj\u001b[0m\u001b[1;33m.\u001b[0m\u001b[0mread\u001b[0m\u001b[1;33m(\u001b[0m\u001b[0mlen\u001b[0m\u001b[1;33m)\u001b[0m\u001b[1;33m\u001b[0m\u001b[0m\n",
      "\u001b[1;31mKeyboardInterrupt\u001b[0m: "
     ]
    }
   ],
   "source": [
    "for uid in user_ids:\n",
    "    fu = fb.request(ids=[uid])\n",
    "    if fu is not None:\n",
    "        comment_db.insert(table='user_social', column_value=fu)\n",
    "        print(fu)"
   ]
  },
  {
   "cell_type": "code",
   "execution_count": null,
   "metadata": {
    "collapsed": true
   },
   "outputs": [],
   "source": [
    "len(ppl1)"
   ]
  },
  {
   "cell_type": "code",
   "execution_count": 13,
   "metadata": {},
   "outputs": [
    {
     "data": {
      "text/plain": [
       "[{'1568110730161039': {'about': 'Contattateci e saremo lieti di offrirvi ulteriori informazioni riguardo disponibilità e prezzo dei nostri prodotti.',\n",
       "   'category': 'Automotive Parts Store',\n",
       "   'emails': ['perautoricambi@gmail.com'],\n",
       "   'id': '1568110730161039',\n",
       "   'location': {'city': 'Santa Maria a Monte loc. Montecalvoli (PI)',\n",
       "    'street': 'Via Provinciale Francesca 539',\n",
       "    'zip': '56020'}}},\n",
       " {'521046101324295': {'about': 'The Good Living Guide for Global Citizens!',\n",
       "   'category': 'Magazine',\n",
       "   'description': 'The Good Living Guide for Global Citizens!',\n",
       "   'id': '521046101324295'}},\n",
       " {'481642995230558': {'category': 'Musician/Band',\n",
       "   'description': 'SPONSOR/MGMT REQUEST:\\npeter@musicallstarsmgmt.com\\n\\nBooking:\\nASIA ronnie@mostwantedentertainment.net\\nAMERICA david@circletalentagency.com\\nEUROPE mike@codaagency.com\\nITALY info@albertogobbi.com\\n\\n',\n",
       "   'genre': 'Electro House',\n",
       "   'id': '481642995230558',\n",
       "   'location': {'city': 'Brescia', 'country': 'Italy'}}},\n",
       " {'278572235575457': {'about': 'Italian food blog | Ristoranti | Ricette dagli Chef | Eccellenze enogastronomiche | info@acenaconnoi.it • www.acenaconnoi.it',\n",
       "   'category': 'Community',\n",
       "   'emails': ['info@acenaconnoi.it'],\n",
       "   'id': '278572235575457'}},\n",
       " {'39721228426': {'about': \"Bunny's newspaper.\\nPER EMERGENZE VI RISPONDERO' ENTRO 12/24 ORE, NELL'ATTESA DI ANDARE DAL VETERINARIO.\\nFOR EMERGENCIES I'LL ANSWER YOU IN 12/24HOURS \\n\",\n",
       "   'category': 'Personal Blog',\n",
       "   'description': \"Benvenuti nella pagina bunny's newspapers dedicata al  coraggioso e fantastico Cleo,una pagina che si occuperà di  informazioni, suggerimenti,adozioni e tanto altro per tutti i padroni di questi amabili batuffoli.\\nIn ricordo dell'indimenticabile CLEO.\\n\\nyou are welcome in this page dedicated to the biggest,brave and wonderful Cleo.\\ntransformed in a news to give informations, suggestions, adoptions and much more to owners of this lovely furry.\\nIn Cleo's memories.\",\n",
       "   'id': '39721228426',\n",
       "   'location': {'city': 'Naples', 'country': 'Italy'}}},\n",
       " {'168155689903105': {'about': 'Manteau de Fourrures, Agneau retourné, cuir et lainage. À Québec depuis 30 ans, nous avons le manteau selon vos besoins où simplement, celui de vos rêves.',\n",
       "   'category': 'Clothing Store',\n",
       "   'description': 'Nous sommes une boutique spécialisée dans la vente de manteaux. Que ce soit: Cuir, agneau retourné, fourrures et lainages, vous y retrouverez le manteau que vous recherchez.',\n",
       "   'emails': ['boutiqueleprive@hotmail.com'],\n",
       "   'id': '168155689903105',\n",
       "   'location': {'city': 'Quebec',\n",
       "    'country': 'Canada',\n",
       "    'latitude': 46.77146,\n",
       "    'longitude': -71.28171,\n",
       "    'state': 'QC',\n",
       "    'street': '2600 Boulevard Laurier',\n",
       "    'zip': 'G1V4T3'}}},\n",
       " {'185618914879807': {'about': 'www.shantellmartin.com',\n",
       "   'category': 'Artist',\n",
       "   'emails': ['me@shantellmartin.com'],\n",
       "   'id': '185618914879807'}},\n",
       " {'223083814541688': {'about': 'Visual Artist review my work at http://www.judymintze.com',\n",
       "   'category': 'Artist',\n",
       "   'description': 'Judy Mintze is an Indiana based artist - an abstract painter - in love with color, shape and textures. Her concentration is contemporary abstract painting and mixed media works on canvas. Judy is experienced in collaborating with interior designers and private individuals to place existing and create commissioned artworks. \\n\\nServices Provided:\\nCommissioned art: large-scale painting. \\nContemporary abstract painting and mixed media art. \\nCollaboration with interior designers to place existing and create custom commissioned artworks. \\n\\nAreas Served:\\nFishers, Indiana\\nCarmel, Indiana\\nIndianapolis Metro\\nShipping US and Internationally\\n\\nweb   http//:www.judymintze.com\\n\\n',\n",
       "   'emails': ['judy.mintze@gmail.com'],\n",
       "   'id': '223083814541688'}},\n",
       " {'1089418871083534': {'about': 'Seja bem vindo | moda masculina e feminino beleza tendências expiração ',\n",
       "   'category': 'Blogger',\n",
       "   'id': '1089418871083534',\n",
       "   'location': {'city': 'Mato Grosso',\n",
       "    'country': 'Brazil',\n",
       "    'state': 'MT',\n",
       "    'street': 'cabeceira do apa',\n",
       "    'zip': 'Rua principal 100 número'}}},\n",
       " {'1705730823026002': {'about': 'Funniest cooking with nice pics',\n",
       "   'birthday': '03/09/2016',\n",
       "   'category': 'Community',\n",
       "   'id': '1705730823026002'}},\n",
       " {'655962317827911': {'about': 'Semplici idee per cambiare le cose. \\n\\nSeguiteci anche su Twitter: https://twitter.com/semplicementeit',\n",
       "   'category': 'Community',\n",
       "   'description': \"Noi crediamo che le cose si possano cambiare, ma per farlo dobbiamo essere in tanti.\\nSe la pensate come noi, aiutateci a portare un po' di consapevolezza tra la gente.\\n\\nQuesta pagina ha aderito alla Carta per la Promozione delle Vaccinazioni\\nhttp://www.teamvaxitalia.it/index.html\",\n",
       "   'id': '655962317827911'}},\n",
       " {'917033075038910': {'about': 'traditional and unexpected bridal head wear couturiere ...',\n",
       "   'category': 'Product/Service',\n",
       "   'description': 'Sue Plummer-Mansell is the sole creator of individually designed and hand coutured wedding headdresses, including traditionally custom made veils or something a little more unexpected for the discerning bride.  An extensive background within the fashion and tailoring industry has cultivated a unique talent and expertise for producing classic or contemporary headdresses to enhance any chosen wedding gown.  ',\n",
       "   'id': '917033075038910'}},\n",
       " {'1787371418144968': {'about': 'Sharing the best recipes and food information available on the internet!',\n",
       "   'category': 'Personal Website',\n",
       "   'id': '1787371418144968'}},\n",
       " {'1869546353280396': {'about': 'Piccolo Salone di Acconciature Unisex\\nCon la Passione per la cura e la bellezza dei Capelli ��',\n",
       "   'category': 'Hair Salon',\n",
       "   'id': '1869546353280396',\n",
       "   'location': {'city': 'Mirandola',\n",
       "    'country': 'Italy',\n",
       "    'latitude': 44.8868541,\n",
       "    'longitude': 11.0646305,\n",
       "    'street': 'Piazza Matteotti 13',\n",
       "    'zip': '41037'}}},\n",
       " {'116403655066171': {'about': 'LIFESTYLE PORTRAIT PHOTOGRAPHY: As you desire to be seen.  To contact Maria Grazia Facciola Photography visit www.mariagraziafacciola.com',\n",
       "   'category': 'Photographer',\n",
       "   'emails': ['mariagraziafacciola@mac.com'],\n",
       "   'id': '116403655066171'}}]"
      ]
     },
     "execution_count": 13,
     "metadata": {},
     "output_type": "execute_result"
    }
   ],
   "source": [
    "ppl1"
   ]
  }
 ],
 "metadata": {
  "kernelspec": {
   "display_name": "Python 3",
   "language": "python",
   "name": "python3"
  },
  "language_info": {
   "codemirror_mode": {
    "name": "ipython",
    "version": 3
   },
   "file_extension": ".py",
   "mimetype": "text/x-python",
   "name": "python",
   "nbconvert_exporter": "python",
   "pygments_lexer": "ipython3",
   "version": "3.6.1"
  }
 },
 "nbformat": 4,
 "nbformat_minor": 2
}
