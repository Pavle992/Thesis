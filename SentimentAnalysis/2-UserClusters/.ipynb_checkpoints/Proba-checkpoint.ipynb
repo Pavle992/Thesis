{
 "cells": [
  {
   "cell_type": "markdown",
   "metadata": {},
   "source": [
    "# Proba User Clusters"
   ]
  },
  {
   "cell_type": "code",
   "execution_count": 2,
   "metadata": {
    "collapsed": true
   },
   "outputs": [],
   "source": [
    "from utils.api_utils.facebook_api import FacebookAPI "
   ]
  },
  {
   "cell_type": "code",
   "execution_count": 3,
   "metadata": {
    "collapsed": true
   },
   "outputs": [],
   "source": [
    "fb = FacebookAPI(token=\"EAAEvqXBRTZBgBAFdJHhbI9oZAcbaIBuREQRSZA7gPeW38fSiSU3Ol4PhK8kuWpvq5IsCR9BtBJggjEVef715ZCGrRKkmEoofUDxMoUQNyH0psZA4qG3xopD0qjKsd2vIWmH3nbovFQH9aFIT2FZAEZBqZBURT0xUJMkZD\")\n",
    "fb.connect()"
   ]
  },
  {
   "cell_type": "code",
   "execution_count": 4,
   "metadata": {},
   "outputs": [
    {
     "name": "stdout",
     "output_type": "stream",
     "text": [
      "231541427020961 {'about': 'Petit Maison è la prima boutique per cani e gatti nel cuore di Napoli. ', 'emails': ['petitmaisonsnc@gmail.com'], 'location': {'city': 'Naples', 'country': 'Italy', 'latitude': 40.83573, 'longitude': 14.24029, 'street': 'via della Cavallerizza a Chiaia, 57', 'zip': '80121'}, 'category': 'Pet Store', 'id': '231541427020961'}\n",
      "--------\n",
      "353020448134882 {'about': 'Lifestyle - menswear - music blog\\nwww.hipsteriaproject.eu', 'emails': ['infohipsteria@gmail.com'], 'category': 'Personal Blog', 'id': '353020448134882'}\n",
      "--------\n",
      "432281083635619 {'about': 'Gaia & Nina Blog | Proud mama of 2 girls ♡ | Mama’s & Mini’s Fashion | Lifestyle | Follow us @gaiaandnina', 'emails': ['gaianinapace@gmail.com'], 'location': {'city': 'Valletta', 'country': 'Malta', 'street': 'Valletta', 'zip': 'Vlt'}, 'category': 'Just For Fun', 'id': '432281083635619'}\n",
      "--------\n"
     ]
    }
   ],
   "source": [
    "people_data = fb.request(ids=['231541427020961', '353020448134882','432281083635619'])\n",
    "for key, value in people_data.items():\n",
    "    print(key,value)\n",
    "    print('--------')"
   ]
  },
  {
   "cell_type": "markdown",
   "metadata": {
    "collapsed": true
   },
   "source": [
    "### Db read User's ids"
   ]
  },
  {
   "cell_type": "code",
   "execution_count": 47,
   "metadata": {
    "collapsed": true
   },
   "outputs": [],
   "source": [
    "from utils.db_utils.base_db import Database"
   ]
  },
  {
   "cell_type": "code",
   "execution_count": 48,
   "metadata": {},
   "outputs": [
    {
     "name": "stdout",
     "output_type": "stream",
     "text": [
      "Database connection created: <sqlalchemy.engine.base.Connection object at 0x000001F0D2BC6B00>\n"
     ]
    },
    {
     "data": {
      "text/html": [
       "<div>\n",
       "<style>\n",
       "    .dataframe thead tr:only-child th {\n",
       "        text-align: right;\n",
       "    }\n",
       "\n",
       "    .dataframe thead th {\n",
       "        text-align: left;\n",
       "    }\n",
       "\n",
       "    .dataframe tbody tr th {\n",
       "        vertical-align: top;\n",
       "    }\n",
       "</style>\n",
       "<table border=\"1\" class=\"dataframe\">\n",
       "  <thead>\n",
       "    <tr style=\"text-align: right;\">\n",
       "      <th></th>\n",
       "      <th>content</th>\n",
       "      <th>from_id</th>\n",
       "      <th>idpost</th>\n",
       "    </tr>\n",
       "    <tr>\n",
       "      <th>id</th>\n",
       "      <th></th>\n",
       "      <th></th>\n",
       "      <th></th>\n",
       "    </tr>\n",
       "  </thead>\n",
       "  <tbody>\n",
       "    <tr>\n",
       "      <th>1</th>\n",
       "      <td>Nice</td>\n",
       "      <td>970575303012401</td>\n",
       "      <td>347223</td>\n",
       "    </tr>\n",
       "    <tr>\n",
       "      <th>2</th>\n",
       "      <td>Caro Ibot !!!!!</td>\n",
       "      <td>1146897688677176</td>\n",
       "      <td>347182</td>\n",
       "    </tr>\n",
       "    <tr>\n",
       "      <th>3</th>\n",
       "      <td>Ma in provincia di Ragusa,dove possiamo acquis...</td>\n",
       "      <td>1558161314514299</td>\n",
       "      <td>347159</td>\n",
       "    </tr>\n",
       "    <tr>\n",
       "      <th>4</th>\n",
       "      <td>Beautiful</td>\n",
       "      <td>10153412920857547</td>\n",
       "      <td>347159</td>\n",
       "    </tr>\n",
       "    <tr>\n",
       "      <th>5</th>\n",
       "      <td>Nice</td>\n",
       "      <td>970575303012401</td>\n",
       "      <td>347159</td>\n",
       "    </tr>\n",
       "    <tr>\n",
       "      <th>6</th>\n",
       "      <td>Bellissime!</td>\n",
       "      <td>10209519910903087</td>\n",
       "      <td>347058</td>\n",
       "    </tr>\n",
       "    <tr>\n",
       "      <th>7</th>\n",
       "      <td>Bellissime!</td>\n",
       "      <td>521631137961969</td>\n",
       "      <td>347058</td>\n",
       "    </tr>\n",
       "    <tr>\n",
       "      <th>8</th>\n",
       "      <td>❤️🙏</td>\n",
       "      <td>353020448134882</td>\n",
       "      <td>346036</td>\n",
       "    </tr>\n",
       "    <tr>\n",
       "      <th>9</th>\n",
       "      <td></td>\n",
       "      <td>521631137961969</td>\n",
       "      <td>345942</td>\n",
       "    </tr>\n",
       "    <tr>\n",
       "      <th>10</th>\n",
       "      <td>Lovely, lovely, lovely!</td>\n",
       "      <td>10153412920857547</td>\n",
       "      <td>345934</td>\n",
       "    </tr>\n",
       "    <tr>\n",
       "      <th>11</th>\n",
       "      <td>Luv!</td>\n",
       "      <td>10153412920857547</td>\n",
       "      <td>345911</td>\n",
       "    </tr>\n",
       "    <tr>\n",
       "      <th>12</th>\n",
       "      <td>Top dmaisssss</td>\n",
       "      <td>1994354470788799</td>\n",
       "      <td>345911</td>\n",
       "    </tr>\n",
       "    <tr>\n",
       "      <th>13</th>\n",
       "      <td>nice</td>\n",
       "      <td>191242821257927</td>\n",
       "      <td>342461</td>\n",
       "    </tr>\n",
       "    <tr>\n",
       "      <th>14</th>\n",
       "      <td>http://www.cultmarche.it/i-concorrenti-di-sanr...</td>\n",
       "      <td>167812506753120</td>\n",
       "      <td>342408</td>\n",
       "    </tr>\n",
       "    <tr>\n",
       "      <th>15</th>\n",
       "      <td>http://www.cultmarche.it/i-concorrenti-di-sanr...</td>\n",
       "      <td>167812506753120</td>\n",
       "      <td>342409</td>\n",
       "    </tr>\n",
       "    <tr>\n",
       "      <th>16</th>\n",
       "      <td>http://www.cultmarche.it/i-concorrenti-di-sanr...</td>\n",
       "      <td>167812506753120</td>\n",
       "      <td>342410</td>\n",
       "    </tr>\n",
       "    <tr>\n",
       "      <th>17</th>\n",
       "      <td>K hay de raro?</td>\n",
       "      <td>1278950738798578</td>\n",
       "      <td>337111</td>\n",
       "    </tr>\n",
       "    <tr>\n",
       "      <th>18</th>\n",
       "      <td>Como te quiero Alejandro  zan</td>\n",
       "      <td>1070837196312568</td>\n",
       "      <td>337111</td>\n",
       "    </tr>\n",
       "    <tr>\n",
       "      <th>19</th>\n",
       "      <td>Ohhhh look it's Gaia!! 💄👠</td>\n",
       "      <td>10153936314870820</td>\n",
       "      <td>335758</td>\n",
       "    </tr>\n",
       "    <tr>\n",
       "      <th>20</th>\n",
       "      <td>We love your shoes!! Both of us 😍💄👠</td>\n",
       "      <td>10153256171437015</td>\n",
       "      <td>335758</td>\n",
       "    </tr>\n",
       "    <tr>\n",
       "      <th>21</th>\n",
       "      <td>how cute she is :) adorable xx</td>\n",
       "      <td>10204076369708880</td>\n",
       "      <td>335758</td>\n",
       "    </tr>\n",
       "    <tr>\n",
       "      <th>22</th>\n",
       "      <td>Future fashionista💄💄💄💄</td>\n",
       "      <td>10153799513736280</td>\n",
       "      <td>335758</td>\n",
       "    </tr>\n",
       "    <tr>\n",
       "      <th>23</th>\n",
       "      <td>Fantastic! Stylish and cute ❤️💋</td>\n",
       "      <td>839499913471</td>\n",
       "      <td>335758</td>\n",
       "    </tr>\n",
       "    <tr>\n",
       "      <th>24</th>\n",
       "      <td>Hahaha!! Yes it is 😘😘😘</td>\n",
       "      <td>432281083635619</td>\n",
       "      <td>335758</td>\n",
       "    </tr>\n",
       "    <tr>\n",
       "      <th>25</th>\n",
       "      <td>Dear Shohsanam Alirizaeva check here http://ow...</td>\n",
       "      <td>168919466473021</td>\n",
       "      <td>335760</td>\n",
       "    </tr>\n",
       "    <tr>\n",
       "      <th>26</th>\n",
       "      <td>How much is this?</td>\n",
       "      <td>10205420924902542</td>\n",
       "      <td>335760</td>\n",
       "    </tr>\n",
       "    <tr>\n",
       "      <th>27</th>\n",
       "      <td>Chic</td>\n",
       "      <td>970575303012401</td>\n",
       "      <td>262089</td>\n",
       "    </tr>\n",
       "    <tr>\n",
       "      <th>28</th>\n",
       "      <td>Antonio Fabi non so te ma io me sento maleeeee...</td>\n",
       "      <td>493666340817889</td>\n",
       "      <td>262095</td>\n",
       "    </tr>\n",
       "    <tr>\n",
       "      <th>29</th>\n",
       "      <td>😍😍😍</td>\n",
       "      <td>10205321475346299</td>\n",
       "      <td>262095</td>\n",
       "    </tr>\n",
       "    <tr>\n",
       "      <th>30</th>\n",
       "      <td>😍  ❤</td>\n",
       "      <td>1540462079598299</td>\n",
       "      <td>262095</td>\n",
       "    </tr>\n",
       "  </tbody>\n",
       "</table>\n",
       "</div>"
      ],
      "text/plain": [
       "                                              content            from_id  \\\n",
       "id                                                                         \n",
       "1                                                Nice    970575303012401   \n",
       "2                                     Caro Ibot !!!!!   1146897688677176   \n",
       "3   Ma in provincia di Ragusa,dove possiamo acquis...   1558161314514299   \n",
       "4                                           Beautiful  10153412920857547   \n",
       "5                                                Nice    970575303012401   \n",
       "6                                         Bellissime!  10209519910903087   \n",
       "7                                         Bellissime!    521631137961969   \n",
       "8                                                 ❤️🙏    353020448134882   \n",
       "9                                                        521631137961969   \n",
       "10                            Lovely, lovely, lovely!  10153412920857547   \n",
       "11                                               Luv!  10153412920857547   \n",
       "12                                      Top dmaisssss   1994354470788799   \n",
       "13                                               nice    191242821257927   \n",
       "14  http://www.cultmarche.it/i-concorrenti-di-sanr...    167812506753120   \n",
       "15  http://www.cultmarche.it/i-concorrenti-di-sanr...    167812506753120   \n",
       "16  http://www.cultmarche.it/i-concorrenti-di-sanr...    167812506753120   \n",
       "17                                     K hay de raro?   1278950738798578   \n",
       "18                      Como te quiero Alejandro  zan   1070837196312568   \n",
       "19                          Ohhhh look it's Gaia!! 💄👠  10153936314870820   \n",
       "20                We love your shoes!! Both of us 😍💄👠  10153256171437015   \n",
       "21                     how cute she is :) adorable xx  10204076369708880   \n",
       "22                             Future fashionista💄💄💄💄  10153799513736280   \n",
       "23                    Fantastic! Stylish and cute ❤️💋       839499913471   \n",
       "24                             Hahaha!! Yes it is 😘😘😘    432281083635619   \n",
       "25  Dear Shohsanam Alirizaeva check here http://ow...    168919466473021   \n",
       "26                                  How much is this?  10205420924902542   \n",
       "27                                               Chic    970575303012401   \n",
       "28  Antonio Fabi non so te ma io me sento maleeeee...    493666340817889   \n",
       "29                                                😍😍😍  10205321475346299   \n",
       "30                                               😍  ❤   1540462079598299   \n",
       "\n",
       "     idpost  \n",
       "id           \n",
       "1    347223  \n",
       "2    347182  \n",
       "3    347159  \n",
       "4    347159  \n",
       "5    347159  \n",
       "6    347058  \n",
       "7    347058  \n",
       "8    346036  \n",
       "9    345942  \n",
       "10   345934  \n",
       "11   345911  \n",
       "12   345911  \n",
       "13   342461  \n",
       "14   342408  \n",
       "15   342409  \n",
       "16   342410  \n",
       "17   337111  \n",
       "18   337111  \n",
       "19   335758  \n",
       "20   335758  \n",
       "21   335758  \n",
       "22   335758  \n",
       "23   335758  \n",
       "24   335758  \n",
       "25   335760  \n",
       "26   335760  \n",
       "27   262089  \n",
       "28   262095  \n",
       "29   262095  \n",
       "30   262095  "
      ]
     },
     "execution_count": 48,
     "metadata": {},
     "output_type": "execute_result"
    }
   ],
   "source": [
    "comment_db = Database(host='localhost', port=3306, user='root', passwd='', db='sentiment_db')\n",
    "comment_db.connect()\n",
    "results = comment_db.fetch_all(select='id, content, from_id, idpost', from_clause='im_commento',data_as_dataframe=True)\n",
    "results.set_index('id', inplace=True)\n",
    "results.head(30)"
   ]
  },
  {
   "cell_type": "code",
   "execution_count": 49,
   "metadata": {},
   "outputs": [
    {
     "data": {
      "text/plain": [
       "['im_brand',\n",
       " 'im_canalesocial',\n",
       " 'im_commento',\n",
       " 'im_mention',\n",
       " 'im_post',\n",
       " 'im_social',\n",
       " 'user_social']"
      ]
     },
     "execution_count": 49,
     "metadata": {},
     "output_type": "execute_result"
    }
   ],
   "source": [
    "comment_db.table_names()"
   ]
  },
  {
   "cell_type": "code",
   "execution_count": 50,
   "metadata": {
    "collapsed": true
   },
   "outputs": [],
   "source": [
    "# comment_db.close()"
   ]
  },
  {
   "cell_type": "markdown",
   "metadata": {},
   "source": [
    "### Taking users ids"
   ]
  },
  {
   "cell_type": "code",
   "execution_count": 51,
   "metadata": {},
   "outputs": [
    {
     "data": {
      "text/plain": [
       "335463"
      ]
     },
     "execution_count": 51,
     "metadata": {},
     "output_type": "execute_result"
    }
   ],
   "source": [
    "user_ids = list(set(results.iloc[:, 1].values)) # unique user ids\n",
    "len(user_ids)"
   ]
  },
  {
   "cell_type": "code",
   "execution_count": 52,
   "metadata": {},
   "outputs": [
    {
     "data": {
      "text/plain": [
       "335463"
      ]
     },
     "execution_count": 52,
     "metadata": {},
     "output_type": "execute_result"
    }
   ],
   "source": [
    "user_post = dict(results.iloc[:,1:3].values)\n",
    "len(user_post)"
   ]
  },
  {
   "cell_type": "markdown",
   "metadata": {},
   "source": [
    "### FB api"
   ]
  },
  {
   "cell_type": "code",
   "execution_count": 53,
   "metadata": {
    "collapsed": true
   },
   "outputs": [],
   "source": [
    "from utils.api_utils.facebook_api import FacebookAPI "
   ]
  },
  {
   "cell_type": "code",
   "execution_count": 54,
   "metadata": {
    "collapsed": true
   },
   "outputs": [],
   "source": [
    "fb = FacebookAPI(token=\"EAAEvqXBRTZBgBAFdJHhbI9oZAcbaIBuREQRSZA7gPeW38fSiSU3Ol4PhK8kuWpvq5IsCR9BtBJggjEVef715ZCGrRKkmEoofUDxMoUQNyH0psZA4qG3xopD0qjKsd2vIWmH3nbovFQH9aFIT2FZAEZBqZBURT0xUJMkZD\")\n",
    "fb.connect()"
   ]
  },
  {
   "cell_type": "markdown",
   "metadata": {},
   "source": [
    "### Test user data"
   ]
  },
  {
   "cell_type": "code",
   "execution_count": 60,
   "metadata": {},
   "outputs": [
    {
     "name": "stdout",
     "output_type": "stream",
     "text": [
      "Inserting into table user_social\n",
      "Setting (about,emails,city,country,zip,category,idpost) to values ('Petit Maison Ã¨ la prima boutique per cani e gatti nel cuore di Napoli. ','petitmaisonsnc@gmail.com','Naples','Italy','80121','Pet Store','262130')\n",
      "{'about': 'Petit Maison è la prima boutique per cani e gatti nel cuore di Napoli. ', 'emails': 'petitmaisonsnc@gmail.com', 'city': 'Naples', 'country': 'Italy', 'zip': '80121', 'category': 'Pet Store', 'idpost': '262130'}\n",
      "Inserting into table user_social\n",
      "Setting (about,emails,category,idpost) to values ('Lifestyle - menswear - music blog\n",
      "www.hipsteriaproject.eu','infohipsteria@gmail.com','Personal Blog','262123')\n",
      "{'about': 'Lifestyle - menswear - music blog\\nwww.hipsteriaproject.eu', 'emails': 'infohipsteria@gmail.com', 'category': 'Personal Blog', 'idpost': '262123'}\n",
      "Inserting into table user_social\n",
      "Setting (about,emails,city,country,zip,category,idpost) to values ('Gaia & Nina Blog | Proud mama of 2 girls â¡ | Mamaâs & Miniâs Fashion | Lifestyle | Follow us @gaiaandnina','gaianinapace@gmail.com','Valletta','Malta','Vlt','Just For Fun','335758')\n",
      "{'about': 'Gaia & Nina Blog | Proud mama of 2 girls ♡ | Mama’s & Mini’s Fashion | Lifestyle | Follow us @gaiaandnina', 'emails': 'gaianinapace@gmail.com', 'city': 'Valletta', 'country': 'Malta', 'zip': 'Vlt', 'category': 'Just For Fun', 'idpost': '335758'}\n"
     ]
    }
   ],
   "source": [
    "for p in ['231541427020961', '353020448134882','432281083635619']:\n",
    "    ppl = fb.request(ids=[p])\n",
    "    ppl['idpost'] = str(user_post[p])\n",
    "    comment_db.insert(table='user_social', column_value=ppl)\n",
    "    print(ppl)"
   ]
  },
  {
   "cell_type": "code",
   "execution_count": 67,
   "metadata": {},
   "outputs": [
    {
     "name": "stdout",
     "output_type": "stream",
     "text": [
      "\n"
     ]
    }
   ],
   "source": [
    "for uid in user_ids:\n",
    "    fu = fb.request(ids=[uid])\n",
    "    if fu is not None:\n",
    "        fu['idpost'] = user_post[uid]\n",
    "        comment_db.insert(table='user_social', column_value=fu)\n",
    "        print(fu)\n"
   ]
  },
  {
   "cell_type": "code",
   "execution_count": 31,
   "metadata": {
    "collapsed": true
   },
   "outputs": [],
   "source": [
    "import re"
   ]
  },
  {
   "cell_type": "code",
   "execution_count": 64,
   "metadata": {},
   "outputs": [],
   "source": [
    "def checkSpam(commentText):\n",
    "    spam_pattern = \"http[s]?://(?:[a-zA-Z]|[0-9]|[$-_@.&+]|[!*\\(\\),]|(?:%[0-9a-fA-F][0-9a-fA-F]))+\"\n",
    "    result = re.findall(spam_pattern, commentText)\n",
    "    if len(result) == 0:\n",
    "        return False\n",
    "    else:\n",
    "        return True"
   ]
  },
  {
   "cell_type": "code",
   "execution_count": 66,
   "metadata": {},
   "outputs": [
    {
     "data": {
      "text/plain": [
       "True"
      ]
     },
     "execution_count": 66,
     "metadata": {},
     "output_type": "execute_result"
    }
   ],
   "source": [
    "checkSpam('Gde si be cicino! kvo ce http://rts.rs')"
   ]
  },
  {
   "cell_type": "code",
   "execution_count": null,
   "metadata": {
    "collapsed": true
   },
   "outputs": [],
   "source": []
  }
 ],
 "metadata": {
  "kernelspec": {
   "display_name": "Python 3",
   "language": "python",
   "name": "python3"
  },
  "language_info": {
   "codemirror_mode": {
    "name": "ipython",
    "version": 3
   },
   "file_extension": ".py",
   "mimetype": "text/x-python",
   "name": "python",
   "nbconvert_exporter": "python",
   "pygments_lexer": "ipython3",
   "version": "3.6.1"
  }
 },
 "nbformat": 4,
 "nbformat_minor": 2
}
