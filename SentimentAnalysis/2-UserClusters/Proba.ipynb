{
 "cells": [
  {
   "cell_type": "markdown",
   "metadata": {},
   "source": [
    "# Proba User Clusters"
   ]
  },
  {
   "cell_type": "code",
   "execution_count": 2,
   "metadata": {
    "collapsed": true
   },
   "outputs": [],
   "source": [
    "from utils.api_utils.facebook_api import FacebookAPI "
   ]
  },
  {
   "cell_type": "code",
   "execution_count": 4,
   "metadata": {},
   "outputs": [],
   "source": [
    "fb = FacebookAPI(token=\"EAACEdEose0cBAMgRrPitNOTmGCYOOYIm7MXvsRZCUXvjT69q0XnDJ8lu1qmcbj6JHpZBAwOIrivFVWZCsy8eIYH1bRIekK91IHwGdi2vNao2KZCq8z0arXJUADMkOfnWaZBAGX75w8o2VDbnAtRHnJw8x4esPXGDtj0t5OIunROLPV7izXz5dj1LSZAgV7nX7NIG89oWdbzwZDZD\")\n",
    "fb.connect()"
   ]
  },
  {
   "cell_type": "code",
   "execution_count": 11,
   "metadata": {},
   "outputs": [
    {
     "name": "stdout",
     "output_type": "stream",
     "text": [
      "231541427020961 {'about': 'Petit Maison è la prima boutique per cani e gatti nel cuore di Napoli. ', 'emails': ['petitmaisonsnc@gmail.com'], 'location': {'city': 'Naples', 'country': 'Italy', 'latitude': 40.83573, 'longitude': 14.24029, 'street': 'via della Cavallerizza a Chiaia, 57', 'zip': '80121'}, 'category': 'Pet Store', 'id': '231541427020961'}\n",
      "--------\n",
      "353020448134882 {'about': 'Lifestyle - menswear - music blog\\nwww.hipsteriaproject.eu', 'emails': ['infohipsteria@gmail.com'], 'category': 'Personal Blog', 'id': '353020448134882'}\n",
      "--------\n",
      "432281083635619 {'about': 'Gaia & Nina Blog | Proud mama of 2 girls ♡ | Mama’s & Mini’s Fashion | Lifestyle | Follow us @gaiaandnina', 'emails': ['gaianinapace@gmail.com'], 'location': {'city': 'Valletta', 'country': 'Malta', 'street': 'Valletta', 'zip': 'Vlt'}, 'category': 'Just For Fun', 'id': '432281083635619'}\n",
      "--------\n"
     ]
    }
   ],
   "source": [
    "people_data = fb.request(ids=['231541427020961', '353020448134882','432281083635619'])\n",
    "for key, value in people_data.items():\n",
    "    print(key,value)\n",
    "    print('--------')"
   ]
  },
  {
   "cell_type": "markdown",
   "metadata": {
    "collapsed": true
   },
   "source": [
    "### Db read User's ids"
   ]
  },
  {
   "cell_type": "code",
   "execution_count": null,
   "metadata": {
    "collapsed": true
   },
   "outputs": [],
   "source": []
  }
 ],
 "metadata": {
  "kernelspec": {
   "display_name": "Python 3",
   "language": "python",
   "name": "python3"
  },
  "language_info": {
   "codemirror_mode": {
    "name": "ipython",
    "version": 3
   },
   "file_extension": ".py",
   "mimetype": "text/x-python",
   "name": "python",
   "nbconvert_exporter": "python",
   "pygments_lexer": "ipython3",
   "version": "3.6.1"
  }
 },
 "nbformat": 4,
 "nbformat_minor": 2
}
