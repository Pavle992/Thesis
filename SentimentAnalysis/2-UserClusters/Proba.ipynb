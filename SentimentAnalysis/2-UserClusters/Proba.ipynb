{
 "cells": [
  {
   "cell_type": "markdown",
   "metadata": {},
   "source": [
    "# Proba User Clusters"
   ]
  },
  {
   "cell_type": "code",
   "execution_count": 4,
   "metadata": {
    "collapsed": true
   },
   "outputs": [],
   "source": [
    "from utils.api_utils.facebook_api import FacebookAPI "
   ]
  },
  {
   "cell_type": "code",
   "execution_count": 5,
   "metadata": {
    "collapsed": true
   },
   "outputs": [],
   "source": [
    "fb = FacebookAPI(token=\"EAACEdEose0cBAFe56ZBbD2OfTD5r8pcG2jHQzOZBEDru2WdrI4DulQyMAOJKXdAxOd2BrUDUvtX5StiYpFM9zdD2ta6EsuchlJoVK86tG0rc9ZBA3jHMzV3hfsl3nUGUowOQBGGVPaiLugf7CBoOfvkYpT05P14THddtvm5wG8ZBApdYn2BEqtfBoKajxAYLkGb70KVirgZDZD\")\n",
    "fb.connect()"
   ]
  },
  {
   "cell_type": "code",
   "execution_count": 6,
   "metadata": {},
   "outputs": [
    {
     "name": "stdout",
     "output_type": "stream",
     "text": [
      "231541427020961 {'about': 'Petit Maison è la prima boutique per cani e gatti nel cuore di Napoli. ', 'emails': ['petitmaisonsnc@gmail.com'], 'location': {'city': 'Naples', 'country': 'Italy', 'latitude': 40.83573, 'longitude': 14.24029, 'street': 'via della Cavallerizza a Chiaia, 57', 'zip': '80121'}, 'category': 'Pet Store', 'id': '231541427020961'}\n",
      "--------\n",
      "353020448134882 {'about': 'Lifestyle - menswear - music blog\\nwww.hipsteriaproject.eu', 'emails': ['infohipsteria@gmail.com'], 'category': 'Personal Blog', 'id': '353020448134882'}\n",
      "--------\n",
      "432281083635619 {'about': 'Gaia & Nina Blog | Proud mama of 2 girls ♡ | Mama’s & Mini’s Fashion | Lifestyle | Follow us @gaiaandnina', 'emails': ['gaianinapace@gmail.com'], 'location': {'city': 'Valletta', 'country': 'Malta', 'street': 'Valletta', 'zip': 'Vlt'}, 'category': 'Just For Fun', 'id': '432281083635619'}\n",
      "--------\n"
     ]
    }
   ],
   "source": [
    "people_data = fb.request(ids=['231541427020961', '353020448134882','432281083635619'])\n",
    "for key, value in people_data.items():\n",
    "    print(key,value)\n",
    "    print('--------')"
   ]
  },
  {
   "cell_type": "markdown",
   "metadata": {
    "collapsed": true
   },
   "source": [
    "### Db read User's ids"
   ]
  },
  {
   "cell_type": "code",
   "execution_count": 11,
   "metadata": {
    "collapsed": true
   },
   "outputs": [],
   "source": [
    "from utils.db_utils.base_db import Database"
   ]
  },
  {
   "cell_type": "code",
   "execution_count": 12,
   "metadata": {},
   "outputs": [
    {
     "name": "stdout",
     "output_type": "stream",
     "text": [
      "Database connection created: <sqlalchemy.engine.base.Connection object at 0x000002BDCF25E8D0>\n"
     ]
    },
    {
     "data": {
      "text/html": [
       "<div>\n",
       "<style>\n",
       "    .dataframe thead tr:only-child th {\n",
       "        text-align: right;\n",
       "    }\n",
       "\n",
       "    .dataframe thead th {\n",
       "        text-align: left;\n",
       "    }\n",
       "\n",
       "    .dataframe tbody tr th {\n",
       "        vertical-align: top;\n",
       "    }\n",
       "</style>\n",
       "<table border=\"1\" class=\"dataframe\">\n",
       "  <thead>\n",
       "    <tr style=\"text-align: right;\">\n",
       "      <th></th>\n",
       "      <th>id</th>\n",
       "      <th>content</th>\n",
       "      <th>from_id</th>\n",
       "      <th>idpost</th>\n",
       "    </tr>\n",
       "  </thead>\n",
       "  <tbody>\n",
       "    <tr>\n",
       "      <th>0</th>\n",
       "      <td>1</td>\n",
       "      <td>Nice</td>\n",
       "      <td>970575303012401</td>\n",
       "      <td>347223</td>\n",
       "    </tr>\n",
       "    <tr>\n",
       "      <th>1</th>\n",
       "      <td>2</td>\n",
       "      <td>Caro Ibot !!!!!</td>\n",
       "      <td>1146897688677176</td>\n",
       "      <td>347182</td>\n",
       "    </tr>\n",
       "    <tr>\n",
       "      <th>2</th>\n",
       "      <td>3</td>\n",
       "      <td>Ma in provincia di Ragusa,dove possiamo acquis...</td>\n",
       "      <td>1558161314514299</td>\n",
       "      <td>347159</td>\n",
       "    </tr>\n",
       "    <tr>\n",
       "      <th>3</th>\n",
       "      <td>4</td>\n",
       "      <td>Beautiful</td>\n",
       "      <td>10153412920857547</td>\n",
       "      <td>347159</td>\n",
       "    </tr>\n",
       "    <tr>\n",
       "      <th>4</th>\n",
       "      <td>5</td>\n",
       "      <td>Nice</td>\n",
       "      <td>970575303012401</td>\n",
       "      <td>347159</td>\n",
       "    </tr>\n",
       "    <tr>\n",
       "      <th>5</th>\n",
       "      <td>6</td>\n",
       "      <td>Bellissime!</td>\n",
       "      <td>10209519910903087</td>\n",
       "      <td>347058</td>\n",
       "    </tr>\n",
       "    <tr>\n",
       "      <th>6</th>\n",
       "      <td>7</td>\n",
       "      <td>Bellissime!</td>\n",
       "      <td>521631137961969</td>\n",
       "      <td>347058</td>\n",
       "    </tr>\n",
       "    <tr>\n",
       "      <th>7</th>\n",
       "      <td>8</td>\n",
       "      <td>❤️🙏</td>\n",
       "      <td>353020448134882</td>\n",
       "      <td>346036</td>\n",
       "    </tr>\n",
       "    <tr>\n",
       "      <th>8</th>\n",
       "      <td>9</td>\n",
       "      <td></td>\n",
       "      <td>521631137961969</td>\n",
       "      <td>345942</td>\n",
       "    </tr>\n",
       "    <tr>\n",
       "      <th>9</th>\n",
       "      <td>10</td>\n",
       "      <td>Lovely, lovely, lovely!</td>\n",
       "      <td>10153412920857547</td>\n",
       "      <td>345934</td>\n",
       "    </tr>\n",
       "    <tr>\n",
       "      <th>10</th>\n",
       "      <td>11</td>\n",
       "      <td>Luv!</td>\n",
       "      <td>10153412920857547</td>\n",
       "      <td>345911</td>\n",
       "    </tr>\n",
       "    <tr>\n",
       "      <th>11</th>\n",
       "      <td>12</td>\n",
       "      <td>Top dmaisssss</td>\n",
       "      <td>1994354470788799</td>\n",
       "      <td>345911</td>\n",
       "    </tr>\n",
       "    <tr>\n",
       "      <th>12</th>\n",
       "      <td>13</td>\n",
       "      <td>nice</td>\n",
       "      <td>191242821257927</td>\n",
       "      <td>342461</td>\n",
       "    </tr>\n",
       "    <tr>\n",
       "      <th>13</th>\n",
       "      <td>14</td>\n",
       "      <td>http://www.cultmarche.it/i-concorrenti-di-sanr...</td>\n",
       "      <td>167812506753120</td>\n",
       "      <td>342408</td>\n",
       "    </tr>\n",
       "    <tr>\n",
       "      <th>14</th>\n",
       "      <td>15</td>\n",
       "      <td>http://www.cultmarche.it/i-concorrenti-di-sanr...</td>\n",
       "      <td>167812506753120</td>\n",
       "      <td>342409</td>\n",
       "    </tr>\n",
       "    <tr>\n",
       "      <th>15</th>\n",
       "      <td>16</td>\n",
       "      <td>http://www.cultmarche.it/i-concorrenti-di-sanr...</td>\n",
       "      <td>167812506753120</td>\n",
       "      <td>342410</td>\n",
       "    </tr>\n",
       "    <tr>\n",
       "      <th>16</th>\n",
       "      <td>17</td>\n",
       "      <td>K hay de raro?</td>\n",
       "      <td>1278950738798578</td>\n",
       "      <td>337111</td>\n",
       "    </tr>\n",
       "    <tr>\n",
       "      <th>17</th>\n",
       "      <td>18</td>\n",
       "      <td>Como te quiero Alejandro  zan</td>\n",
       "      <td>1070837196312568</td>\n",
       "      <td>337111</td>\n",
       "    </tr>\n",
       "    <tr>\n",
       "      <th>18</th>\n",
       "      <td>19</td>\n",
       "      <td>Ohhhh look it's Gaia!! 💄👠</td>\n",
       "      <td>10153936314870820</td>\n",
       "      <td>335758</td>\n",
       "    </tr>\n",
       "    <tr>\n",
       "      <th>19</th>\n",
       "      <td>20</td>\n",
       "      <td>We love your shoes!! Both of us 😍💄👠</td>\n",
       "      <td>10153256171437015</td>\n",
       "      <td>335758</td>\n",
       "    </tr>\n",
       "    <tr>\n",
       "      <th>20</th>\n",
       "      <td>21</td>\n",
       "      <td>how cute she is :) adorable xx</td>\n",
       "      <td>10204076369708880</td>\n",
       "      <td>335758</td>\n",
       "    </tr>\n",
       "    <tr>\n",
       "      <th>21</th>\n",
       "      <td>22</td>\n",
       "      <td>Future fashionista💄💄💄💄</td>\n",
       "      <td>10153799513736280</td>\n",
       "      <td>335758</td>\n",
       "    </tr>\n",
       "    <tr>\n",
       "      <th>22</th>\n",
       "      <td>23</td>\n",
       "      <td>Fantastic! Stylish and cute ❤️💋</td>\n",
       "      <td>839499913471</td>\n",
       "      <td>335758</td>\n",
       "    </tr>\n",
       "    <tr>\n",
       "      <th>23</th>\n",
       "      <td>24</td>\n",
       "      <td>Hahaha!! Yes it is 😘😘😘</td>\n",
       "      <td>432281083635619</td>\n",
       "      <td>335758</td>\n",
       "    </tr>\n",
       "    <tr>\n",
       "      <th>24</th>\n",
       "      <td>25</td>\n",
       "      <td>Dear Shohsanam Alirizaeva check here http://ow...</td>\n",
       "      <td>168919466473021</td>\n",
       "      <td>335760</td>\n",
       "    </tr>\n",
       "  </tbody>\n",
       "</table>\n",
       "</div>"
      ],
      "text/plain": [
       "    id                                            content            from_id  \\\n",
       "0    1                                               Nice    970575303012401   \n",
       "1    2                                    Caro Ibot !!!!!   1146897688677176   \n",
       "2    3  Ma in provincia di Ragusa,dove possiamo acquis...   1558161314514299   \n",
       "3    4                                          Beautiful  10153412920857547   \n",
       "4    5                                               Nice    970575303012401   \n",
       "5    6                                        Bellissime!  10209519910903087   \n",
       "6    7                                        Bellissime!    521631137961969   \n",
       "7    8                                                ❤️🙏    353020448134882   \n",
       "8    9                                                       521631137961969   \n",
       "9   10                            Lovely, lovely, lovely!  10153412920857547   \n",
       "10  11                                               Luv!  10153412920857547   \n",
       "11  12                                      Top dmaisssss   1994354470788799   \n",
       "12  13                                               nice    191242821257927   \n",
       "13  14  http://www.cultmarche.it/i-concorrenti-di-sanr...    167812506753120   \n",
       "14  15  http://www.cultmarche.it/i-concorrenti-di-sanr...    167812506753120   \n",
       "15  16  http://www.cultmarche.it/i-concorrenti-di-sanr...    167812506753120   \n",
       "16  17                                     K hay de raro?   1278950738798578   \n",
       "17  18                      Como te quiero Alejandro  zan   1070837196312568   \n",
       "18  19                          Ohhhh look it's Gaia!! 💄👠  10153936314870820   \n",
       "19  20                We love your shoes!! Both of us 😍💄👠  10153256171437015   \n",
       "20  21                     how cute she is :) adorable xx  10204076369708880   \n",
       "21  22                             Future fashionista💄💄💄💄  10153799513736280   \n",
       "22  23                    Fantastic! Stylish and cute ❤️💋       839499913471   \n",
       "23  24                             Hahaha!! Yes it is 😘😘😘    432281083635619   \n",
       "24  25  Dear Shohsanam Alirizaeva check here http://ow...    168919466473021   \n",
       "\n",
       "     idpost  \n",
       "0    347223  \n",
       "1    347182  \n",
       "2    347159  \n",
       "3    347159  \n",
       "4    347159  \n",
       "5    347058  \n",
       "6    347058  \n",
       "7    346036  \n",
       "8    345942  \n",
       "9    345934  \n",
       "10   345911  \n",
       "11   345911  \n",
       "12   342461  \n",
       "13   342408  \n",
       "14   342409  \n",
       "15   342410  \n",
       "16   337111  \n",
       "17   337111  \n",
       "18   335758  \n",
       "19   335758  \n",
       "20   335758  \n",
       "21   335758  \n",
       "22   335758  \n",
       "23   335758  \n",
       "24   335760  "
      ]
     },
     "execution_count": 12,
     "metadata": {},
     "output_type": "execute_result"
    }
   ],
   "source": [
    "comment_db = Database(host='localhost', port=3306, user='root', passwd='', db='sentiment_db')\n",
    "comment_db.connect()\n",
    "results = comment_db.fetch_all(select='id, content, from_id, idpost', from_clause='im_commento', data_as_dataframe=True)\n",
    "\n",
    "results.head(25)"
   ]
  },
  {
   "cell_type": "code",
   "execution_count": 13,
   "metadata": {},
   "outputs": [
    {
     "data": {
      "text/plain": [
       "['im_brand',\n",
       " 'im_canalesocial',\n",
       " 'im_commento',\n",
       " 'im_mention',\n",
       " 'im_post',\n",
       " 'im_social']"
      ]
     },
     "execution_count": 13,
     "metadata": {},
     "output_type": "execute_result"
    }
   ],
   "source": [
    "comment_db.table_names()"
   ]
  },
  {
   "cell_type": "code",
   "execution_count": 14,
   "metadata": {},
   "outputs": [
    {
     "name": "stdout",
     "output_type": "stream",
     "text": [
      "Closing database connection <sqlalchemy.engine.base.Connection object at 0x000002BDCF25E8D0>\n"
     ]
    }
   ],
   "source": [
    "comment_db.close()"
   ]
  },
  {
   "cell_type": "code",
   "execution_count": null,
   "metadata": {
    "collapsed": true
   },
   "outputs": [],
   "source": []
  }
 ],
 "metadata": {
  "kernelspec": {
   "display_name": "Python 3",
   "language": "python",
   "name": "python3"
  },
  "language_info": {
   "codemirror_mode": {
    "name": "ipython",
    "version": 3
   },
   "file_extension": ".py",
   "mimetype": "text/x-python",
   "name": "python",
   "nbconvert_exporter": "python",
   "pygments_lexer": "ipython3",
   "version": "3.6.1"
  }
 },
 "nbformat": 4,
 "nbformat_minor": 2
}
